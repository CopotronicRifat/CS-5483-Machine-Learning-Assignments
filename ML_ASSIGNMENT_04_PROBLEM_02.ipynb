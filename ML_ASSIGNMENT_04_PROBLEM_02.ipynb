{
  "nbformat": 4,
  "nbformat_minor": 0,
  "metadata": {
    "colab": {
      "provenance": [],
      "authorship_tag": "ABX9TyMTyvMYVBasg/aJkEbbwx9S",
      "include_colab_link": true
    },
    "kernelspec": {
      "name": "python3",
      "display_name": "Python 3"
    },
    "language_info": {
      "name": "python"
    }
  },
  "cells": [
    {
      "cell_type": "markdown",
      "metadata": {
        "id": "view-in-github",
        "colab_type": "text"
      },
      "source": [
        "<a href=\"https://colab.research.google.com/github/CopotronicRifat/CS-5783-Machine-Learning-Assignments/blob/main/ML_ASSIGNMENT_04_PROBLEM_02.ipynb\" target=\"_parent\"><img src=\"https://colab.research.google.com/assets/colab-badge.svg\" alt=\"Open In Colab\"/></a>"
      ]
    },
    {
      "cell_type": "code",
      "source": [
        "# IMPORT PACKAGES\n",
        "\n",
        "import pandas as pd\n",
        "from sklearn.metrics import accuracy_score\n",
        "from sklearn import tree"
      ],
      "metadata": {
        "id": "JgaGljovkBL9"
      },
      "execution_count": null,
      "outputs": []
    },
    {
      "cell_type": "code",
      "source": [
        "# DRIVE MOUNT\n",
        "\n",
        "from google.colab import drive\n",
        "drive.mount('/content/drive')"
      ],
      "metadata": {
        "colab": {
          "base_uri": "https://localhost:8080/"
        },
        "id": "j19fMIbt5R4U",
        "outputId": "3c5c1e12-6739-4f2c-bb9e-ce44e9d7e1c1"
      },
      "execution_count": null,
      "outputs": [
        {
          "output_type": "stream",
          "name": "stdout",
          "text": [
            "Mounted at /content/drive\n"
          ]
        }
      ]
    },
    {
      "cell_type": "code",
      "source": [
        "# READ DATA FROM DRIVE\n",
        "\n",
        "housing_data = pd.ExcelFile(\"/content/drive/MyDrive/Asssignment4_Data.xlsx\")\n",
        "train_df = pd.read_excel(housing_data, 'Train', index_col = 'House ID')\n",
        "test_df = pd.read_excel(housing_data, 'Test', index_col = 'House ID')"
      ],
      "metadata": {
        "id": "oiArW1TS5gWP"
      },
      "execution_count": null,
      "outputs": []
    },
    {
      "cell_type": "code",
      "source": [
        "# PRINT TRAINING DATA\n",
        "\n",
        "print(train_df)"
      ],
      "metadata": {
        "colab": {
          "base_uri": "https://localhost:8080/"
        },
        "id": "8gDtOkCF5l-M",
        "outputId": "d15f76be-f540-4825-9a68-14cdf2357ef8"
      },
      "execution_count": null,
      "outputs": [
        {
          "output_type": "stream",
          "name": "stdout",
          "text": [
            "          Local Price  Bathrooms  Land Area  Living area  # Garages  # Rooms  \\\n",
            "House ID                                                                       \n",
            "1              4.9176        1.0     3.4720        0.998        1.0        7   \n",
            "2              5.0208        1.0     3.5310        1.500        2.0        7   \n",
            "3              4.5429        1.0     2.2750        1.175        1.0        6   \n",
            "4              4.5573        1.0     4.0500        1.232        1.0        6   \n",
            "5              5.0597        1.0     4.4550        1.121        1.0        6   \n",
            "6              3.8910        1.0     4.4550        0.988        1.0        6   \n",
            "7              5.8980        1.0     5.8500        1.240        1.0        7   \n",
            "8              5.6039        1.0     9.5200        1.501        0.0        6   \n",
            "9             16.4202        2.5     9.8000        3.420        2.0       10   \n",
            "10            14.4598        2.5    12.8000        3.000        2.0        9   \n",
            "11             5.8282        1.0     6.4350        1.225        2.0        6   \n",
            "12             5.3003        1.0     4.9883        1.552        1.0        6   \n",
            "13             6.2712        1.0     5.5200        0.975        1.0        5   \n",
            "14             5.9592        1.0     6.6660        1.121        2.0        6   \n",
            "15             5.0500        1.0     5.0000        1.020        0.0        5   \n",
            "16             5.6039        1.0     9.5200        1.501        0.0        6   \n",
            "17             8.2464        1.5     5.1500        1.664        2.0        8   \n",
            "18             6.6969        1.5     6.9020        1.488        1.5        7   \n",
            "19             7.7841        1.5     7.1020        1.376        1.0        6   \n",
            "20             9.0384        1.0     7.8000        1.500        1.5        7   \n",
            "\n",
            "          # Bedrooms  Age of home Construction type  \n",
            "House ID                                             \n",
            "1                  4           42         Apartment  \n",
            "2                  4           62             House  \n",
            "3                  3           40             Condo  \n",
            "4                  3           54         Apartment  \n",
            "5                  3           42         Apartment  \n",
            "6                  3           56             Condo  \n",
            "7                  3           51             Condo  \n",
            "8                  3           32             House  \n",
            "9                  5           42             Condo  \n",
            "10                 5           14         Apartment  \n",
            "11                 3           32             House  \n",
            "12                 3           30             House  \n",
            "13                 2           30             House  \n",
            "14                 3           32             Condo  \n",
            "15                 2           46         Apartment  \n",
            "16                 3           32             House  \n",
            "17                 4           50         Apartment  \n",
            "18                 3           22             House  \n",
            "19                 3           17             Condo  \n",
            "20                 3           23         Apartment  \n"
          ]
        }
      ]
    },
    {
      "cell_type": "code",
      "source": [
        "# PRINT TEST DATA\n",
        "\n",
        "print(test_df)"
      ],
      "metadata": {
        "colab": {
          "base_uri": "https://localhost:8080/"
        },
        "id": "dMQOoGRT5sES",
        "outputId": "6b6d755c-b3e0-47f7-ec1f-acc8c2d1aff7"
      },
      "execution_count": null,
      "outputs": [
        {
          "output_type": "stream",
          "name": "stdout",
          "text": [
            "          Local Price  Bathrooms  Land Area  Living area  # Garages  # Rooms  \\\n",
            "House ID                                                                       \n",
            "24             6.0931        1.5     6.7265        1.652        1.0        6   \n",
            "25             8.3607        1.5     9.1500        1.777        2.0        8   \n",
            "26             8.1400        1.0     8.0000        1.504        2.0        7   \n",
            "27             9.1416        1.5     7.3262        1.831        1.5        8   \n",
            "28            12.0000        1.5     5.0000        1.200        2.0        6   \n",
            "\n",
            "          # Bedrooms  Age of home Construction type  \n",
            "House ID                                             \n",
            "24                 3           44         Apartment  \n",
            "25                 4           48             House  \n",
            "26                 3            3             House  \n",
            "27                 4           31         Apartment  \n",
            "28                 3           30         Apartment  \n"
          ]
        }
      ]
    },
    {
      "cell_type": "code",
      "source": [
        "# TRAIN AND TEST DATA SPLIT\n",
        "\n",
        "train_df['Class'] = train_df['Construction type'].map({'Apartment':0,'Condo':1,'House':2}) \n",
        "test_df['Class']  = test_df['Construction type'].map({'Apartment':0,'Condo':1,'House':2})\n",
        "\n",
        "x_train = train_df.iloc[:,:8] \n",
        "y_train = train_df['Class']\n",
        "\n",
        "x_test = test_df.iloc[:,:8]\n",
        "y_test = test_df['Class']"
      ],
      "metadata": {
        "id": "ZpmNK9jG54Xb"
      },
      "execution_count": null,
      "outputs": []
    },
    {
      "cell_type": "code",
      "source": [
        "# MODEL FIT USING THE TRAINING DATA\n",
        "\n",
        "model = tree.DecisionTreeClassifier() \n",
        "model.fit(x_train, y_train)"
      ],
      "metadata": {
        "colab": {
          "base_uri": "https://localhost:8080/"
        },
        "id": "Ik_UnL166CjJ",
        "outputId": "99fa1d13-a92b-4952-9e4a-70fd318c2ac0"
      },
      "execution_count": null,
      "outputs": [
        {
          "output_type": "execute_result",
          "data": {
            "text/plain": [
              "DecisionTreeClassifier()"
            ]
          },
          "metadata": {},
          "execution_count": 9
        }
      ]
    },
    {
      "cell_type": "markdown",
      "source": [
        "**PROBLEM 2.1.a**\n",
        "\n",
        "ACCURACY OF TRAINING DATA."
      ],
      "metadata": {
        "id": "EiUaBO-M6QBh"
      }
    },
    {
      "cell_type": "code",
      "source": [
        "# PRINT TRAINING ACCURACY\n",
        "\n",
        "y_train_predict = model.predict(x_train)\n",
        "print(\"Training accuarcy is: \",accuracy_score(y_train, y_train_predict)*100)"
      ],
      "metadata": {
        "colab": {
          "base_uri": "https://localhost:8080/"
        },
        "id": "43BJlbBX6Jjz",
        "outputId": "3f406b36-3f8b-42c5-cd36-6d1d62fbd777"
      },
      "execution_count": null,
      "outputs": [
        {
          "output_type": "stream",
          "name": "stdout",
          "text": [
            "Training accuarcy is:  100.0\n"
          ]
        }
      ]
    },
    {
      "cell_type": "markdown",
      "source": [
        "We are getting training data accuracy 100% because, decision tree will memorize the training data and certainly overfit."
      ],
      "metadata": {
        "id": "usOQPrNt6jJ-"
      }
    },
    {
      "cell_type": "markdown",
      "source": [
        "**PROBLEM 2.1.b**\n",
        "\n",
        "ACCURACY OF TESTING DATA."
      ],
      "metadata": {
        "id": "iq7PXjzB6yRF"
      }
    },
    {
      "cell_type": "code",
      "source": [
        "# PRINT TESING ACCURACY\n",
        "\n",
        "y_test_predict=model.predict(x_test)\n",
        "print(\"Testing accuracy is: \",accuracy_score(y_test, y_test_predict)*100)"
      ],
      "metadata": {
        "colab": {
          "base_uri": "https://localhost:8080/"
        },
        "id": "wLGmiy616t4D",
        "outputId": "813765f4-1027-4937-eecb-43e5580715a6"
      },
      "execution_count": null,
      "outputs": [
        {
          "output_type": "stream",
          "name": "stdout",
          "text": [
            "Testing accuracy is:  40.0\n"
          ]
        }
      ]
    },
    {
      "cell_type": "markdown",
      "source": [
        "As the training data overfits, the testing data is getting very low accuracy as expected."
      ],
      "metadata": {
        "id": "MmaJ41XI6628"
      }
    },
    {
      "cell_type": "markdown",
      "source": [
        "**PROBLEM 2.2**\n",
        "\n",
        "EFFECT ON RESTRICTING THE MAXIMUM DEPTH OF THE TREE."
      ],
      "metadata": {
        "id": "E6etc_5Q8LHH"
      }
    },
    {
      "cell_type": "code",
      "source": [
        "for i in range(1,5):\n",
        "    model = tree.DecisionTreeClassifier(criterion=\"entropy\", max_depth=i)\n",
        "    model.fit(x_train, y_train)\n",
        "    y_train_predict = model.predict(x_train)\n",
        "    train_acc = accuracy_score(y_train, y_train_predict)*100\n",
        "    print('Accuracy on Train data: ' + str(train_acc)+' with depth '+str(i))\n",
        "    y_test_predict = model.predict(x_test)\n",
        "    test_acc = accuracy_score(y_test, y_test_predict)*100\n",
        "    print('Accuracy on Test data: ' + str(test_acc)+' with depth '+str(i))"
      ],
      "metadata": {
        "colab": {
          "base_uri": "https://localhost:8080/"
        },
        "id": "Sm_m7Fma7CxS",
        "outputId": "35f93f0a-b1ad-4a38-b41c-1cc8a02088a2"
      },
      "execution_count": null,
      "outputs": [
        {
          "output_type": "stream",
          "name": "stdout",
          "text": [
            "Accuracy on Train data: 55.00000000000001 with depth 1\n",
            "Accuracy on Test data: 40.0 with depth 1\n",
            "Accuracy on Train data: 70.0 with depth 2\n",
            "Accuracy on Test data: 80.0 with depth 2\n",
            "Accuracy on Train data: 80.0 with depth 3\n",
            "Accuracy on Test data: 60.0 with depth 3\n",
            "Accuracy on Train data: 95.0 with depth 4\n",
            "Accuracy on Test data: 40.0 with depth 4\n"
          ]
        }
      ]
    },
    {
      "cell_type": "markdown",
      "source": [
        "**PROBLEM 2.3**\n",
        "\n",
        "From the result, it is seen that there is a strong effect of depth on the classification performance. As the depth increases, the accuracy of the Decision Tree classifier decreases. It is because, decision tree memorizes the training data and these data normally contains noise. Hence for the test data, the classifer model overfits. \n",
        "\n",
        "So, as the depth grows, the accuracy on the test data decreases."
      ],
      "metadata": {
        "id": "SDZvjuRt90H_"
      }
    },
    {
      "cell_type": "markdown",
      "source": [
        "**PROBLEM 2.4**\n",
        "\n",
        "Visualization of the decision tree."
      ],
      "metadata": {
        "id": "5hXTAOYB-_Dz"
      }
    },
    {
      "cell_type": "code",
      "source": [
        "# VISUALIZATION OF THE TREE\n",
        "\n",
        "import matplotlib.pyplot as plt\n",
        "plt.figure(figsize=(12, 12))\n",
        "tree.plot_tree(model)"
      ],
      "metadata": {
        "colab": {
          "base_uri": "https://localhost:8080/",
          "height": 943
        },
        "id": "JK-W-hbX9Zr9",
        "outputId": "3f0a6f43-51f5-454b-e37d-73e170a197c4"
      },
      "execution_count": null,
      "outputs": [
        {
          "output_type": "execute_result",
          "data": {
            "text/plain": [
              "[Text(0.5454545454545454, 0.9, 'X[7] <= 36.0\\nentropy = 1.581\\nsamples = 20\\nvalue = [7, 6, 7]'),\n",
              " Text(0.2727272727272727, 0.7, 'X[0] <= 8.411\\nentropy = 1.371\\nsamples = 10\\nvalue = [2, 2, 6]'),\n",
              " Text(0.18181818181818182, 0.5, 'X[0] <= 5.894\\nentropy = 0.811\\nsamples = 8\\nvalue = [0, 2, 6]'),\n",
              " Text(0.09090909090909091, 0.3, 'entropy = 0.0\\nsamples = 4\\nvalue = [0, 0, 4]'),\n",
              " Text(0.2727272727272727, 0.3, 'X[2] <= 6.093\\nentropy = 1.0\\nsamples = 4\\nvalue = [0, 2, 2]'),\n",
              " Text(0.18181818181818182, 0.1, 'entropy = 0.0\\nsamples = 1\\nvalue = [0, 0, 1]'),\n",
              " Text(0.36363636363636365, 0.1, 'entropy = 0.918\\nsamples = 3\\nvalue = [0, 2, 1]'),\n",
              " Text(0.36363636363636365, 0.5, 'entropy = 0.0\\nsamples = 2\\nvalue = [2, 0, 0]'),\n",
              " Text(0.8181818181818182, 0.7, 'X[7] <= 59.0\\nentropy = 1.361\\nsamples = 10\\nvalue = [5, 4, 1]'),\n",
              " Text(0.7272727272727273, 0.5, 'X[2] <= 5.5\\nentropy = 0.991\\nsamples = 9\\nvalue = [5, 4, 0]'),\n",
              " Text(0.6363636363636364, 0.3, 'X[0] <= 4.55\\nentropy = 0.863\\nsamples = 7\\nvalue = [5, 2, 0]'),\n",
              " Text(0.5454545454545454, 0.1, 'entropy = 0.0\\nsamples = 2\\nvalue = [0, 2, 0]'),\n",
              " Text(0.7272727272727273, 0.1, 'entropy = 0.0\\nsamples = 5\\nvalue = [5, 0, 0]'),\n",
              " Text(0.8181818181818182, 0.3, 'entropy = 0.0\\nsamples = 2\\nvalue = [0, 2, 0]'),\n",
              " Text(0.9090909090909091, 0.5, 'entropy = 0.0\\nsamples = 1\\nvalue = [0, 0, 1]')]"
            ]
          },
          "metadata": {},
          "execution_count": 19
        },
        {
          "output_type": "display_data",
          "data": {
            "text/plain": [
              "<Figure size 864x864 with 1 Axes>"
            ],
            "image/png": "[encoded data removed]"
          },
          "metadata": {
            "needs_background": "light"
          }
        }
      ]
    },
    {
      "cell_type": "code",
      "source": [
        "# TEST CASE INITIALIZATION\n",
        "\n",
        "test_case = {\"Local Price\": [9.0384], \"Bathrooms\": [1], \"Land Area\": [7.8], \"Living area\": [1.5], \"# Garages\": [1.5], \"# Rooms\": [7], \"# Bedrooms\": [3], \"Age of home\": [23]}"
      ],
      "metadata": {
        "id": "994wVIHZEnc2"
      },
      "execution_count": null,
      "outputs": []
    },
    {
      "cell_type": "code",
      "source": [
        "# PREDICTION OF THE GIVEN DATA\n",
        "\n",
        "Given_Data = pd.DataFrame(test_case)\n",
        "print(Given_Data)\n",
        "\n",
        "y_example_predict = model.predict(Given_Data)\n",
        "print(\"Predicted class for example data: \" + str(y_example_predict))"
      ],
      "metadata": {
        "colab": {
          "base_uri": "https://localhost:8080/"
        },
        "id": "GHnTmYBV_hLA",
        "outputId": "c38a165d-12c1-4ee7-f564-fe237499b270"
      },
      "execution_count": null,
      "outputs": [
        {
          "output_type": "stream",
          "name": "stdout",
          "text": [
            "   Local Price  Bathrooms  Land Area  Living area  # Garages  # Rooms  \\\n",
            "0       9.0384          1        7.8          1.5        1.5        7   \n",
            "\n",
            "   # Bedrooms  Age of home  \n",
            "0           3           23  \n",
            "Predicted class for example data: [0]\n"
          ]
        }
      ]
    },
    {
      "cell_type": "markdown",
      "source": [
        "So, the prediction from the map is '**Apartment**'.\n",
        "\n",
        "From the root, the afe of the home is 23, that is less than 36.\n",
        "\n",
        "In depth 2, the Local Price is 9.0384, that is greater than 8.411.\n",
        "\n",
        "In depth 3, the prediction is 'Apartment' with entropy 0."
      ],
      "metadata": {
        "id": "i9ZDEt6nFVQx"
      }
    },
    {
      "cell_type": "code",
      "source": [],
      "metadata": {
        "id": "r37tCBaZExeD"
      },
      "execution_count": null,
      "outputs": []
    }
  ]
}