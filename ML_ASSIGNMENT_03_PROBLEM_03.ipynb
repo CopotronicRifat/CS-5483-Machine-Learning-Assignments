{
  "nbformat": 4,
  "nbformat_minor": 0,
  "metadata": {
    "colab": {
      "provenance": [],
      "include_colab_link": true
    },
    "kernelspec": {
      "name": "python3",
      "display_name": "Python 3"
    },
    "language_info": {
      "name": "python"
    }
  },
  "cells": [
    {
      "cell_type": "markdown",
      "metadata": {
        "id": "view-in-github",
        "colab_type": "text"
      },
      "source": [
        "<a href=\"https://colab.research.google.com/github/CopotronicRifat/CS-5783-Machine-Learning-Assignments/blob/main/ML_ASSIGNMENT_03_PROBLEM_03.ipynb\" target=\"_parent\"><img src=\"https://colab.research.google.com/assets/colab-badge.svg\" alt=\"Open In Colab\"/></a>"
      ]
    },
    {
      "cell_type": "code",
      "execution_count": null,
      "metadata": {
        "id": "OPnpvX4oTo3g"
      },
      "outputs": [],
      "source": [
        "import numpy as np"
      ]
    },
    {
      "cell_type": "code",
      "source": [
        "X = np.array([[7, 5, 0, 0, 3, 2],\n",
        "                  [6, 4, 5, 1, 4, 8],\n",
        "                  [9, 0, 2, 2, 5, 4],\n",
        "                  [6, 3, 4, 7, 9, 8],\n",
        "                  [7, 9, 0, 8, 2, 3]])\n",
        "\n",
        "f = np.array([[1, 0, -1],\n",
        "              [2, 0, -2],\n",
        "              [1, 0, -1]])"
      ],
      "metadata": {
        "id": "0zfXwfKaTwN9"
      },
      "execution_count": null,
      "outputs": []
    },
    {
      "cell_type": "markdown",
      "source": [
        "**Problem 3.1:**\n",
        "\n",
        "Dimention of the input is 6 * 6 * 1 and the kernel is 3*3."
      ],
      "metadata": {
        "id": "nxtkRin_c9Ju"
      }
    },
    {
      "cell_type": "markdown",
      "source": [
        "**Number of parameters of the kernel** is 3*3 + 1.\n",
        "That is 10."
      ],
      "metadata": {
        "id": "S_6ddg47nUnY"
      }
    },
    {
      "cell_type": "markdown",
      "source": [
        "**Problem 3.2:**\n",
        "\n",
        "Output activation map after strided convolution applied."
      ],
      "metadata": {
        "id": "2ct_n2YxdMgn"
      }
    },
    {
      "cell_type": "code",
      "source": [
        "import numpy as np\n",
        "from numpy.fft import fftn, ifftn\n",
        "\n",
        "def strided_conv_2d(x, y, strides):\n",
        "    s, t = strides\n",
        "    # consensus dtype\n",
        "    cdt = (x[0, 0, ...] + y[0, 0, ...]).dtype\n",
        "    xi, xj = x.shape\n",
        "    yi, yj = y.shape\n",
        "    # round up modulo strides\n",
        "    xk, xl, yk, yl = map(lambda a, b: -a//b * -b, (xi,xj,yi,yj), (s,t,s,t))\n",
        "    # zero pad to avoid circular convolution\n",
        "    xp, yp = (np.zeros((xk+yk, xl+yl), dtype=cdt) for i in range(2))\n",
        "    xp[:xi, :xj] = x\n",
        "    yp[:yi, :yj] = y\n",
        "    # fold out strides\n",
        "    xp = xp.reshape((xk+yk)//s, s, (xl+yl)//t, t)\n",
        "    yp = yp.reshape((xk+yk)//s, s, (xl+yl)//t, t)\n",
        "    # do conventional fft convolution\n",
        "    xf = fftn(xp, axes=(0, 2))\n",
        "    yf = fftn(yp, axes=(0, 2))\n",
        "    result = ifftn(xf * yf.conj(), axes=(0, 2)).sum(axis=(1, 3))\n",
        "    # restore dtype\n",
        "    if cdt in (int, np.int_, np.int64, np.int32):\n",
        "        result = result.real.round()\n",
        "    return result.astype(cdt)"
      ],
      "metadata": {
        "id": "SSLEK_kwVeUv"
      },
      "execution_count": null,
      "outputs": []
    },
    {
      "cell_type": "code",
      "source": [
        "print(strided_conv_2d(X, f, (1, 1)))"
      ],
      "metadata": {
        "colab": {
          "base_uri": "https://localhost:8080/"
        },
        "id": "0nXh5lXtWbdb",
        "outputId": "05f1005b-d9cf-4ca1-b544-b13477e5f461"
      },
      "execution_count": null,
      "outputs": [
        {
          "output_type": "stream",
          "name": "stdout",
          "text": [
            "[[ 16   9  -4 -18  16  22   0 -28 -13]\n",
            " [ 17  -5 -10 -12  23  24   0 -30  -7]\n",
            " [ 18  -9 -15   1  25  23   0 -28 -15]\n",
            " [ 16  -2  -9   9  13  14   0 -20 -21]\n",
            " [  7   1  -2   5   2   3   0  -7  -9]\n",
            " [  0   0   0   0   0   0   0   0   0]\n",
            " [  7   5  -3  -2   3   2   0  -7  -5]\n",
            " [ 15  13  -5 -11  10  12   0 -20 -14]]\n"
          ]
        }
      ]
    },
    {
      "cell_type": "markdown",
      "source": [
        "**Problem 3.3:**\n",
        "\n",
        "Max pooling operation of size (2, 2)."
      ],
      "metadata": {
        "id": "DNXGHm1ydl9i"
      }
    },
    {
      "cell_type": "code",
      "source": [
        "import numpy as np\n",
        "import skimage.measure"
      ],
      "metadata": {
        "id": "aqzFd_yDZp1C"
      },
      "execution_count": null,
      "outputs": []
    },
    {
      "cell_type": "code",
      "source": [
        "print(skimage.measure.block_reduce(X, (2,2), np.max))"
      ],
      "metadata": {
        "colab": {
          "base_uri": "https://localhost:8080/"
        },
        "id": "dhbX3_kDZvnt",
        "outputId": "cb93b3f3-d51e-4079-cbe7-e5ae7f9c4d2e"
      },
      "execution_count": null,
      "outputs": [
        {
          "output_type": "stream",
          "name": "stdout",
          "text": [
            "[[7 5 8]\n",
            " [9 7 9]\n",
            " [9 8 3]]\n"
          ]
        }
      ]
    },
    {
      "cell_type": "markdown",
      "source": [
        "**Documentation:**\n",
        "\n",
        "Provided in the code.\n",
        "\n",
        "Dimentions for both image and kernel is 2 as the depth of the Image and kernel if 1.\n",
        "\n",
        "Output activation map of strided convolution is calculated with stride of 1. There is a function designed for the calculation.\n",
        "\n",
        "Max pooling is applied on 2*2 window and calculated with an associated designed function."
      ],
      "metadata": {
        "id": "EFaPkGTWd38i"
      }
    },
    {
      "cell_type": "code",
      "source": [],
      "metadata": {
        "id": "nIDu_VVhnSN8"
      },
      "execution_count": null,
      "outputs": []
    }
  ]
}