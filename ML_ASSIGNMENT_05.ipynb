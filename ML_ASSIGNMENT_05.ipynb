{
  "nbformat": 4,
  "nbformat_minor": 0,
  "metadata": {
    "colab": {
      "provenance": [],
      "authorship_tag": "ABX9TyMHi2xbDCCoohz6v0alK+Yx",
      "include_colab_link": true
    },
    "kernelspec": {
      "name": "python3",
      "display_name": "Python 3"
    },
    "language_info": {
      "name": "python"
    }
  },
  "cells": [
    {
      "cell_type": "markdown",
      "metadata": {
        "id": "view-in-github",
        "colab_type": "text"
      },
      "source": [
        "<a href=\"https://colab.research.google.com/github/CopotronicRifat/CS-5783-Machine-Learning-Assignments/blob/main/ML_ASSIGNMENT_05.ipynb\" target=\"_parent\"><img src=\"https://colab.research.google.com/assets/colab-badge.svg\" alt=\"Open In Colab\"/></a>"
      ]
    },
    {
      "cell_type": "markdown",
      "source": [
        "**Problem 5.1**\n",
        "\n",
        "From the given dataset we could see that, in target variable \"**Taste**\", there are 10 values in total of two types of data.\n",
        "\n",
        "\n",
        "One type is \"**Meh**\" which has the occurance of 5 in total.\n",
        "\n",
        "Another type is \"**Yummy**\" which has the occurance of 5 in total as well.\n",
        "\n",
        "\n",
        "The Entropy $H(y)$ of a random variable $Y$ is defined as-\n",
        "\n",
        "$$H(Y) = -\\sum_{i=1}^k P(Y=y_i) | log_2 P(Y = y_i) $$\n",
        "\n",
        "From that equation we could calculate that-\n",
        "\n",
        "$$H(Taste) = - 5/10 * log_2 (5/10) - 5/10 * log_2 (5/10)$$\n",
        "\n",
        "which is-\n",
        "\n",
        "$$H(Taste) = 1.0 $$ **(Answer)**\n",
        "\n",
        "That is, the entropy is highest when the uncertainty is maximum.\n",
        "\n"
      ],
      "metadata": {
        "id": "9G0mDgE9pLXA"
      }
    },
    {
      "cell_type": "markdown",
      "source": [
        "**Problem 5.2**\n",
        "\n",
        "From the given dataset we could see that, in target variable \"**Visual Defect**\", there are 10 values in total of three types of data.\n",
        "\n",
        "One type is \"**Some**\" which has the occurance of 3 in total.\n",
        "\n",
        "Another type is \"**None**\" which has the occurance of 4 in total.\n",
        "\n",
        "Last type is \"**Many**\" which has the occurance of 3 in total.\n",
        "\n",
        "The Entropy $H(Y)$ of a random variable $Y$ is defined as-\n",
        "\n",
        "$$H(Y) = -\\sum_{i=1}^k P(Y=y_i) | log_2 P(Y = y_i) $$\n",
        "\n",
        "\n",
        "From that equation we could calculate that-\n",
        "\n",
        "$$H(Visual Defect) = - 3/10 * log_2 (3/10) - 4/10 * log_2 (4/10) - 3/10 * log_2 (3/10)$$\n",
        "\n",
        "Or, $$H(Visual Defect) = - (-0.5211 - 0.5 - 0.5211)$$\n",
        "\n",
        "\n",
        "That is-\n",
        "\n",
        "$$H(Visual Defect) = 1.5422$$\n",
        "\n",
        "The Information Gain $IG(Y)$ of a random variable $Y$ is defined as-\n",
        "\n",
        "$$H(Y) = H(Y) - H(Y|X) $$\n",
        "\n",
        "To calculate $H(Y|X)$,\n",
        "\n",
        "We can see that,\n",
        "\n",
        "\"**None**\" attribute has 2 \"**Meh**\" and 2 \"**Yummy**\" value in corresponding test. \n",
        "\n",
        "So, the entropy of \"**None**\" is-\n",
        "\n",
        "$$H(Taste | Visual Defect == None)) = - 2/4 * log_2 (2/4) - 2/4 * log_2 (2/4)$$\n",
        "\n",
        "Or, $$H(Taste | Visual Defect == None)) = 1.0$$\n",
        "\n",
        "\n",
        "Again, \"Some\" attribute has 3 \"**Meh**\" and 0 \"**Yummy**\" value in corresponding test.\n",
        "\n",
        "So, the entropy of \"**Some**\" is-\n",
        "\n",
        "$$H(Taste | Visual Defect == Some)) = - 3/3 * log_2 (3/3) - 0/3 * log_2 (0/3)$$\n",
        "\n",
        "Or, $$H(Taste | Visual Defect == Some)) = 0.0$$\n",
        "\n",
        "Again, \"**Many**\" attribute has 0 \"**Meh**\" and 3 \"**Yummy**\" value in corresponding test.\n",
        "\n",
        "So, the entropy of \"**Many**\" is-\n",
        "\n",
        "$$H(Taste | Visual Defect == Many)) = - 0/3 * log_2 (0/3) - 0/3 * log_2 (0/3)$$\n",
        "\n",
        "Or, $$H(Taste | Visual Defect == Many)) = 0.0$$\n",
        "\n",
        "\n",
        "So, the Information Gain of the target variable \"**Visual Defect**\" is-\n",
        "\n",
        "$$IG(Visual Defect) = 1.5422 - ((4/10)*1.0 + (3/10)*0.0 + (3/10)*0.0)$$\n",
        "\n",
        "That is-\n",
        "\n",
        "$$IG(Visual Defect) = 1.1422$$\n",
        "\n",
        "**(Answer)**\n",
        "\n"
      ],
      "metadata": {
        "id": "Pp5tS62YsY9J"
      }
    },
    {
      "cell_type": "markdown",
      "source": [
        "**Problem 5.3**\n",
        "\n",
        "\"**Some**\" attribute has 3 \"**Meh**\" and 0 \"**Yummy**\" value in corresponding test.\n",
        "\n",
        "$H(Taste | Visual Defect == Some)) = - 3/3 * log_2 (3/3) - 0/3 * log_2 (0/3)$\n",
        "\n",
        "Or, $H(Taste | Visual Defect = Some)) = 0.0$ **(Answer)**\n",
        "\n",
        "\"**None**\" attribute has 2 \"**Meh**\" and 2 \"**Yummy**\" value in corresponding test. \n",
        "\n",
        "$H(Taste | Visual Defect == None)) = - 2/4 * log_2 (2/4) - 2/4 * log_2 (2/4)$$\n",
        "\n",
        "Or, $H(Taste | Visual Defect = None)) = 1.0$ **(Answer)**"
      ],
      "metadata": {
        "id": "Zu1tZpDU77s-"
      }
    },
    {
      "cell_type": "markdown",
      "source": [
        "**Problem 5.4**"
      ],
      "metadata": {
        "id": "zbFxkQ16_B4y"
      }
    },
    {
      "cell_type": "code",
      "source": [
        "# DRIVE MOUNT\n",
        "\n",
        "from google.colab import drive\n",
        "drive.mount('/content/drive')"
      ],
      "metadata": {
        "colab": {
          "base_uri": "https://localhost:8080/"
        },
        "id": "rb3HdMlZ_Ard",
        "outputId": "8c8c8417-3091-4262-c731-ef8c2cee266f"
      },
      "execution_count": null,
      "outputs": [
        {
          "output_type": "stream",
          "name": "stdout",
          "text": [
            "Mounted at /content/drive\n"
          ]
        }
      ]
    },
    {
      "cell_type": "code",
      "execution_count": null,
      "metadata": {
        "id": "FXNB0SYso6ZG"
      },
      "outputs": [],
      "source": [
        "import cv2  \n",
        "import numpy as np\n",
        "import matplotlib.pyplot as plt\n",
        "from scipy import misc\n",
        "import imageio\n",
        "\n",
        "\n",
        "# LOAD IMAGE \n",
        "\n",
        "img = cv2.imread('/content/drive/MyDrive/input.png')  \n",
        "height, width, channels = np.shape(img)  "
      ]
    },
    {
      "cell_type": "code",
      "source": [
        "# PRINT IMAGE SHAPE\n",
        "\n",
        "print(img.shape)"
      ],
      "metadata": {
        "colab": {
          "base_uri": "https://localhost:8080/"
        },
        "id": "OUfZ1z2-D5Uf",
        "outputId": "01fa6f2f-9279-4986-a7dc-8dfd0c5e0773"
      },
      "execution_count": null,
      "outputs": [
        {
          "output_type": "stream",
          "name": "stdout",
          "text": [
            "(128, 128, 3)\n"
          ]
        }
      ]
    },
    {
      "cell_type": "code",
      "source": [
        "# PRINT THE PIXEL VALUE OF THE IMAGE\n",
        "\n",
        "print(img)"
      ],
      "metadata": {
        "colab": {
          "base_uri": "https://localhost:8080/"
        },
        "id": "KEZGrZ9SEHKn",
        "outputId": "850d6465-3b35-4da0-9595-6a41d9224281"
      },
      "execution_count": null,
      "outputs": [
        {
          "output_type": "stream",
          "name": "stdout",
          "text": [
            "[[[103 180 219]\n",
            "  [116 185 230]\n",
            "  [110 186 226]\n",
            "  ...\n",
            "  [ 13  15  14]\n",
            "  [ 12  15  13]\n",
            "  [ 12  14  12]]\n",
            "\n",
            " [[119 193 230]\n",
            "  [120 192 224]\n",
            "  [124 192 226]\n",
            "  ...\n",
            "  [ 13  16  16]\n",
            "  [ 10  15  14]\n",
            "  [  9  14  11]]\n",
            "\n",
            " [[123 191 228]\n",
            "  [121 191 228]\n",
            "  [118 185 220]\n",
            "  ...\n",
            "  [ 13  16  14]\n",
            "  [ 11  13  13]\n",
            "  [ 10  15  11]]\n",
            "\n",
            " ...\n",
            "\n",
            " [[ 16  18  15]\n",
            "  [ 18  21  18]\n",
            "  [ 16  19  18]\n",
            "  ...\n",
            "  [ 45  45  81]\n",
            "  [ 35  43  70]\n",
            "  [ 43  51  72]]\n",
            "\n",
            " [[ 17  17  16]\n",
            "  [ 19  18  17]\n",
            "  [ 20  19  20]\n",
            "  ...\n",
            "  [ 40  38  80]\n",
            "  [ 40  39  68]\n",
            "  [ 42  43  59]]\n",
            "\n",
            " [[ 19  19  15]\n",
            "  [ 18  20  20]\n",
            "  [ 17  19  18]\n",
            "  ...\n",
            "  [ 39  43  65]\n",
            "  [ 38  37  58]\n",
            "  [ 34  39  52]]]\n"
          ]
        }
      ]
    },
    {
      "cell_type": "code",
      "source": [
        "# NORMALIZE THE IMAGE\n",
        "\n",
        "img = img/255\n",
        "print(img)"
      ],
      "metadata": {
        "colab": {
          "base_uri": "https://localhost:8080/"
        },
        "id": "E_9xgL2KHHms",
        "outputId": "ffe21aea-baa4-4f87-8da2-482d8e5b473d"
      },
      "execution_count": null,
      "outputs": [
        {
          "output_type": "stream",
          "name": "stdout",
          "text": [
            "[[[0.40392157 0.70588235 0.85882353]\n",
            "  [0.45490196 0.7254902  0.90196078]\n",
            "  [0.43137255 0.72941176 0.88627451]\n",
            "  ...\n",
            "  [0.05098039 0.05882353 0.05490196]\n",
            "  [0.04705882 0.05882353 0.05098039]\n",
            "  [0.04705882 0.05490196 0.04705882]]\n",
            "\n",
            " [[0.46666667 0.75686275 0.90196078]\n",
            "  [0.47058824 0.75294118 0.87843137]\n",
            "  [0.48627451 0.75294118 0.88627451]\n",
            "  ...\n",
            "  [0.05098039 0.0627451  0.0627451 ]\n",
            "  [0.03921569 0.05882353 0.05490196]\n",
            "  [0.03529412 0.05490196 0.04313725]]\n",
            "\n",
            " [[0.48235294 0.74901961 0.89411765]\n",
            "  [0.4745098  0.74901961 0.89411765]\n",
            "  [0.4627451  0.7254902  0.8627451 ]\n",
            "  ...\n",
            "  [0.05098039 0.0627451  0.05490196]\n",
            "  [0.04313725 0.05098039 0.05098039]\n",
            "  [0.03921569 0.05882353 0.04313725]]\n",
            "\n",
            " ...\n",
            "\n",
            " [[0.0627451  0.07058824 0.05882353]\n",
            "  [0.07058824 0.08235294 0.07058824]\n",
            "  [0.0627451  0.0745098  0.07058824]\n",
            "  ...\n",
            "  [0.17647059 0.17647059 0.31764706]\n",
            "  [0.1372549  0.16862745 0.2745098 ]\n",
            "  [0.16862745 0.2        0.28235294]]\n",
            "\n",
            " [[0.06666667 0.06666667 0.0627451 ]\n",
            "  [0.0745098  0.07058824 0.06666667]\n",
            "  [0.07843137 0.0745098  0.07843137]\n",
            "  ...\n",
            "  [0.15686275 0.14901961 0.31372549]\n",
            "  [0.15686275 0.15294118 0.26666667]\n",
            "  [0.16470588 0.16862745 0.23137255]]\n",
            "\n",
            " [[0.0745098  0.0745098  0.05882353]\n",
            "  [0.07058824 0.07843137 0.07843137]\n",
            "  [0.06666667 0.0745098  0.07058824]\n",
            "  ...\n",
            "  [0.15294118 0.16862745 0.25490196]\n",
            "  [0.14901961 0.14509804 0.22745098]\n",
            "  [0.13333333 0.15294118 0.20392157]]]\n"
          ]
        }
      ]
    },
    {
      "cell_type": "code",
      "source": [
        "def initialize_means(img, clusters):\n",
        "      \n",
        "    points = np.reshape(img, (img.shape[0] * img.shape[1], img.shape[2])) \n",
        "    m, n = points.shape\n",
        "  \n",
        "    means = np.zeros((clusters, n)) \n",
        "\n",
        "    for i in range(clusters):\n",
        "        rand1 = int(np.random.random(1)*10)\n",
        "        rand2 = int(np.random.random(1)*8)\n",
        "        means[i, 0] = points[rand1, 0]\n",
        "        means[i, 1] = points[rand2, 1]\n",
        "  \n",
        "    return points, means"
      ],
      "metadata": {
        "id": "6YzmzSR7HNtk"
      },
      "execution_count": null,
      "outputs": []
    },
    {
      "cell_type": "code",
      "source": [
        "# EUCLIDIAN DISTANCE FUNCTION\n",
        "\n",
        "def distance(x1, y1, x2, y2):\n",
        "      \n",
        "    dist = np.square(x1 - x2) + np.square(y1 - y2)\n",
        "    dist = np.sqrt(dist)\n",
        "  \n",
        "    return dist"
      ],
      "metadata": {
        "id": "UwIEfPSbHc5X"
      },
      "execution_count": null,
      "outputs": []
    },
    {
      "cell_type": "code",
      "source": [
        "# K MEANS ALGORITHM FROM SCRATCH\n",
        "\n",
        "def k_means(points, means, clusters):  \n",
        "    iterations = 10 \n",
        "    m, n = points.shape\n",
        "    index = np.zeros(m) \n",
        "  \n",
        "    while(iterations > 0):\n",
        "  \n",
        "        for j in range(len(points)):\n",
        "\n",
        "            minv = 1000\n",
        "            temp = None\n",
        "              \n",
        "            for k in range(clusters):\n",
        "                  \n",
        "                x1 = points[j, 0]\n",
        "                y1 = points[j, 1]\n",
        "                x2 = means[k, 0]\n",
        "                y2 = means[k, 1]\n",
        "                  \n",
        "                if(distance(x1, y1, x2, y2) < minv):         \n",
        "                    minv = distance(x1, y1, x2, y2)\n",
        "                    temp = k\n",
        "                    index[j] = k \n",
        "          \n",
        "        for k in range(clusters):\n",
        "              \n",
        "            sumx = 0\n",
        "            sumy = 0\n",
        "            count = 0\n",
        "              \n",
        "            for j in range(len(points)):\n",
        "                  \n",
        "                if(index[j] == k):\n",
        "                    sumx += points[j, 0]\n",
        "                    sumy += points[j, 1] \n",
        "                    count += 1\n",
        "              \n",
        "            if(count == 0):\n",
        "                count = 1    \n",
        "              \n",
        "            means[k, 0] = float(sumx / count)\n",
        "            means[k, 1] = float(sumy / count)     \n",
        "              \n",
        "        iterations -= 1\n",
        "  \n",
        "    return means, index"
      ],
      "metadata": {
        "id": "3jEAc8hdHrik"
      },
      "execution_count": null,
      "outputs": []
    },
    {
      "cell_type": "code",
      "source": [
        "# COMPRESS THE IMAGE BASED ON K (NUMBER OF CLUSTERS) NUMBER OF COLORS \n",
        "\n",
        "def compress_image(means, index, img):\n",
        "    centroid = np.array(means)\n",
        "    recovered = centroid[index.astype(int), :]\n",
        "    recovered = np.reshape(recovered, (img.shape[0], img.shape[1], img.shape[2]))\n",
        "    plt.imshow((recovered * 255).astype(np.uint8))\n",
        "    plt.show()"
      ],
      "metadata": {
        "id": "MKRisoriINje"
      },
      "execution_count": null,
      "outputs": []
    },
    {
      "cell_type": "code",
      "source": [
        "# TAKE INPUT OF THE VALUE OF K AND SHOW THE COMPRESSED IMAGE BASED ON THE VALUE OF K\n",
        "\n",
        "clusters = int(input('Enter the value of K (Number of CLusters)\\n'))\n",
        "points, means = initialize_means(img, clusters)\n",
        "means, index = k_means(points, means, clusters)\n",
        "compress_image(means, index, img)"
      ],
      "metadata": {
        "colab": {
          "base_uri": "https://localhost:8080/",
          "height": 303
        },
        "id": "hIwg-YrSIRC6",
        "outputId": "600d35f1-3707-4238-e056-f1a90202befa"
      },
      "execution_count": null,
      "outputs": [
        {
          "name": "stdout",
          "output_type": "stream",
          "text": [
            "Enter the value of K (Number of CLusters)\n",
            "6\n"
          ]
        },
        {
          "output_type": "display_data",
          "data": {
            "text/plain": [
              "<Figure size 432x288 with 1 Axes>"
            ],
            "image/png": "[encoded data removed]"
          },
          "metadata": {
            "needs_background": "light"
          }
        }
      ]
    },
    {
      "cell_type": "code",
      "source": [
        "# SAVE THE IMAGE\n",
        "\n",
        "filename = 'output.png'\n",
        "img = cv2.imwrite(filename, img)"
      ],
      "metadata": {
        "id": "eto-gKeiQMCv"
      },
      "execution_count": null,
      "outputs": []
    }
  ]
}