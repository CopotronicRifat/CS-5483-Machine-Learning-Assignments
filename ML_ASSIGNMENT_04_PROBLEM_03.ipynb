{
  "nbformat": 4,
  "nbformat_minor": 0,
  "metadata": {
    "colab": {
      "provenance": [],
      "authorship_tag": "ABX9TyMju52TVxWKIuk9FNdoyR8j",
      "include_colab_link": true
    },
    "kernelspec": {
      "name": "python3",
      "display_name": "Python 3"
    },
    "language_info": {
      "name": "python"
    }
  },
  "cells": [
    {
      "cell_type": "markdown",
      "metadata": {
        "id": "view-in-github",
        "colab_type": "text"
      },
      "source": [
        "<a href=\"https://colab.research.google.com/github/CopotronicRifat/CS-5783-Machine-Learning-Assignments/blob/main/ML_ASSIGNMENT_04_PROBLEM_03.ipynb\" target=\"_parent\"><img src=\"https://colab.research.google.com/assets/colab-badge.svg\" alt=\"Open In Colab\"/></a>"
      ]
    },
    {
      "cell_type": "code",
      "execution_count": null,
      "metadata": {
        "id": "dRLtX6YeJdtN"
      },
      "outputs": [],
      "source": [
        "# IMPORT PACKAGES\n",
        "\n",
        "import numpy as np\n",
        "import pandas as pd"
      ]
    },
    {
      "cell_type": "code",
      "source": [
        "# DRIVE MOUNT\n",
        "\n",
        "from google.colab import drive\n",
        "drive.mount('/content/drive')"
      ],
      "metadata": {
        "colab": {
          "base_uri": "https://localhost:8080/"
        },
        "id": "8OqxRCNIJxqq",
        "outputId": "29d7a779-0e06-408b-f40e-9a982a3acba8"
      },
      "execution_count": null,
      "outputs": [
        {
          "output_type": "stream",
          "name": "stdout",
          "text": [
            "Mounted at /content/drive\n"
          ]
        }
      ]
    },
    {
      "cell_type": "code",
      "source": [
        "# READ DATA FROM DRIVE\n",
        "\n",
        "housing_data = pd.ExcelFile(\"/content/drive/My Drive/Asssignment4_Data.xlsx\")\n",
        "train_df = pd.read_excel(housing_data, 'Train', index_col = 'House ID')\n",
        "test_df = pd.read_excel(housing_data, 'Test', index_col = 'House ID')"
      ],
      "metadata": {
        "id": "s1-GxkW1KP5w"
      },
      "execution_count": null,
      "outputs": []
    },
    {
      "cell_type": "code",
      "source": [
        "# TRAIN AND TEST DATA SPLIT\n",
        "\n",
        "train_df['Construction type'] = train_df['Construction type'].map({'Apartment':0,'Condo':1,'House':2}) \n",
        "test_df['Construction type']  = test_df['Construction type'].map({'Apartment':0,'Condo':1,'House':2})"
      ],
      "metadata": {
        "id": "p4LyNfnBKbRv"
      },
      "execution_count": null,
      "outputs": []
    },
    {
      "cell_type": "code",
      "source": [
        "# PRINT TRAINING DATA\n",
        "\n",
        "print(train_df)"
      ],
      "metadata": {
        "colab": {
          "base_uri": "https://localhost:8080/"
        },
        "id": "wvDJcfi_KpoQ",
        "outputId": "34261f21-1c99-47c5-ebda-93f2d39c36fd"
      },
      "execution_count": null,
      "outputs": [
        {
          "output_type": "stream",
          "name": "stdout",
          "text": [
            "          Local Price  Bathrooms  Land Area  Living area  # Garages  # Rooms  \\\n",
            "House ID                                                                       \n",
            "1              4.9176        1.0     3.4720        0.998        1.0        7   \n",
            "2              5.0208        1.0     3.5310        1.500        2.0        7   \n",
            "3              4.5429        1.0     2.2750        1.175        1.0        6   \n",
            "4              4.5573        1.0     4.0500        1.232        1.0        6   \n",
            "5              5.0597        1.0     4.4550        1.121        1.0        6   \n",
            "6              3.8910        1.0     4.4550        0.988        1.0        6   \n",
            "7              5.8980        1.0     5.8500        1.240        1.0        7   \n",
            "8              5.6039        1.0     9.5200        1.501        0.0        6   \n",
            "9             16.4202        2.5     9.8000        3.420        2.0       10   \n",
            "10            14.4598        2.5    12.8000        3.000        2.0        9   \n",
            "11             5.8282        1.0     6.4350        1.225        2.0        6   \n",
            "12             5.3003        1.0     4.9883        1.552        1.0        6   \n",
            "13             6.2712        1.0     5.5200        0.975        1.0        5   \n",
            "14             5.9592        1.0     6.6660        1.121        2.0        6   \n",
            "15             5.0500        1.0     5.0000        1.020        0.0        5   \n",
            "16             5.6039        1.0     9.5200        1.501        0.0        6   \n",
            "17             8.2464        1.5     5.1500        1.664        2.0        8   \n",
            "18             6.6969        1.5     6.9020        1.488        1.5        7   \n",
            "19             7.7841        1.5     7.1020        1.376        1.0        6   \n",
            "20             9.0384        1.0     7.8000        1.500        1.5        7   \n",
            "\n",
            "          # Bedrooms  Age of home  Construction type  \n",
            "House ID                                              \n",
            "1                  4           42                  0  \n",
            "2                  4           62                  2  \n",
            "3                  3           40                  1  \n",
            "4                  3           54                  0  \n",
            "5                  3           42                  0  \n",
            "6                  3           56                  1  \n",
            "7                  3           51                  1  \n",
            "8                  3           32                  2  \n",
            "9                  5           42                  1  \n",
            "10                 5           14                  0  \n",
            "11                 3           32                  2  \n",
            "12                 3           30                  2  \n",
            "13                 2           30                  2  \n",
            "14                 3           32                  1  \n",
            "15                 2           46                  0  \n",
            "16                 3           32                  2  \n",
            "17                 4           50                  0  \n",
            "18                 3           22                  2  \n",
            "19                 3           17                  1  \n",
            "20                 3           23                  0  \n"
          ]
        }
      ]
    },
    {
      "cell_type": "code",
      "source": [
        "# PRINT TEST DATA\n",
        "\n",
        "print(test_df)"
      ],
      "metadata": {
        "colab": {
          "base_uri": "https://localhost:8080/"
        },
        "id": "LQ8MkSSHKraq",
        "outputId": "735f5b0e-9057-41a1-b6d7-db198eeb51ff"
      },
      "execution_count": null,
      "outputs": [
        {
          "output_type": "stream",
          "name": "stdout",
          "text": [
            "          Local Price  Bathrooms  Land Area  Living area  # Garages  # Rooms  \\\n",
            "House ID                                                                       \n",
            "24             6.0931        1.5     6.7265        1.652        1.0        6   \n",
            "25             8.3607        1.5     9.1500        1.777        2.0        8   \n",
            "26             8.1400        1.0     8.0000        1.504        2.0        7   \n",
            "27             9.1416        1.5     7.3262        1.831        1.5        8   \n",
            "28            12.0000        1.5     5.0000        1.200        2.0        6   \n",
            "\n",
            "          # Bedrooms  Age of home  Construction type  \n",
            "House ID                                              \n",
            "24                 3           44                  0  \n",
            "25                 4           48                  2  \n",
            "26                 3            3                  2  \n",
            "27                 4           31                  0  \n",
            "28                 3           30                  0  \n"
          ]
        }
      ]
    },
    {
      "cell_type": "code",
      "source": [
        "# DEFINE TRAIN AND TEST DATA\n",
        "\n",
        "x_train = train_df.drop('Construction type', axis=1).to_numpy()\n",
        "y_train = train_df['Construction type']\n",
        "x_test = test_df.drop('Construction type', axis=1).to_numpy()\n",
        "y_test = test_df['Construction type']"
      ],
      "metadata": {
        "id": "SCM145GPKtuj"
      },
      "execution_count": null,
      "outputs": []
    },
    {
      "cell_type": "code",
      "source": [
        "# CALCULATE DISTANCE FUNCTION\n",
        "\n",
        "import math\n",
        "\n",
        "def calc_distance(x, y):\n",
        "    dimension = len(x)      \n",
        "    distance  = 0      \n",
        "    for i in range(dimension):\n",
        "        distance += ((x[i] - y[i])**2)\n",
        "    return math.sqrt(distance)"
      ],
      "metadata": {
        "id": "MkSw4-0lLGTW"
      },
      "execution_count": null,
      "outputs": []
    },
    {
      "cell_type": "code",
      "source": [
        "# TAKING THE VALUE OF 'K' AS INPUT\n",
        "\n",
        "k = int(input (\"ENTER A VAKUE OF 'K; RANGING FROM 1 TO 5 : \"))"
      ],
      "metadata": {
        "colab": {
          "base_uri": "https://localhost:8080/"
        },
        "id": "W0OELqPJLR81",
        "outputId": "df5f1fc4-dc31-412e-f590-3883a707e0fc"
      },
      "execution_count": null,
      "outputs": [
        {
          "name": "stdout",
          "output_type": "stream",
          "text": [
            "ENTER A VAKUE OF 'K; RANGING FROM 1 TO 5 : 5\n"
          ]
        }
      ]
    },
    {
      "cell_type": "code",
      "source": [
        "# K-MEANS CLUSTERING FROM THE VALUE OF 'K' USING MAJORITY VOTE COUNT\n",
        "\n",
        "from collections import Counter\n",
        "\n",
        "predict_test = []\n",
        "\n",
        "\n",
        "for i in x_test:\n",
        "    distances = []\n",
        "    for j in x_train:\n",
        "        distance = calc_distance(i, j)\n",
        "        distances.append(distance)\n",
        "    \n",
        "    df_distance = pd.DataFrame(data = distances, columns = ['distance'], index = y_train.index)\n",
        "\n",
        "    df_sort_k = df_distance.sort_values(by = ['distance'], axis = 0)[:k]\n",
        "\n",
        "    counter = Counter(y_train[df_sort_k.index])\n",
        "\n",
        "    predicts = counter.most_common()[0][0]\n",
        "    \n",
        "    predict_test.append(predicts)\n",
        "\n",
        "print('Predicted class for test data = ', predict_test)\n",
        "accuracy = (predicts/5)*100\n",
        "print('Accuracy = ', accuracy)"
      ],
      "metadata": {
        "colab": {
          "base_uri": "https://localhost:8080/"
        },
        "id": "xTWhOGDUOk-9",
        "outputId": "b17005ea-b7b4-465a-a32d-64a5231046f0"
      },
      "execution_count": null,
      "outputs": [
        {
          "output_type": "stream",
          "name": "stdout",
          "text": [
            "Predicted class for test data =  [0, 0, 0, 2, 2]\n",
            "Accuracy =  40.0\n"
          ]
        }
      ]
    },
    {
      "cell_type": "code",
      "source": [
        "# GET ACCURACIES FOR DIFFERENT VALUES OF 'K'\n",
        "\n",
        "x = []\n",
        "y = []\n",
        "\n",
        "for k in range(20):\n",
        "    for i in x_test:\n",
        "        dists = []\n",
        "        for j in x_train:\n",
        "            distance = calc_distance(i, j)\n",
        "            dists.append(distance)\n",
        "        df_distance = pd.DataFrame(data = distances, columns = ['distance'], index = y_train.index)\n",
        "\n",
        "        df_sort_k = df_distance.sort_values(by = ['distance'], axis = 0)[:k+1]\n",
        "\n",
        "        counter = Counter(y_train[df_sort_k.index])\n",
        "\n",
        "        predicts = counter.most_common()[0][0]\n",
        "    \n",
        "        predict_test.append(predicts)\n",
        "    \n",
        "    accuracy = (predicts/5)*100\n",
        "    y.append(accuracy)\n",
        "    x.append(k+1)\n",
        "\n",
        "print(x)\n",
        "print(y)"
      ],
      "metadata": {
        "colab": {
          "base_uri": "https://localhost:8080/"
        },
        "id": "GCldmBDxRkBZ",
        "outputId": "b1010a20-6a53-4070-d2d3-9b82885ec89d"
      },
      "execution_count": null,
      "outputs": [
        {
          "output_type": "stream",
          "name": "stdout",
          "text": [
            "[1, 2, 3, 4, 5, 6, 7, 8, 9, 10, 11, 12, 13, 14, 15, 16, 17, 18, 19, 20]\n",
            "[40.0, 40.0, 40.0, 40.0, 40.0, 40.0, 40.0, 40.0, 40.0, 40.0, 40.0, 40.0, 40.0, 40.0, 40.0, 40.0, 40.0, 0.0, 0.0, 40.0]\n"
          ]
        }
      ]
    },
    {
      "cell_type": "code",
      "source": [
        "# PLOT GRAPH OF 'K' AGAINST 'ACCURACY' IN PERCENT\n",
        "\n",
        "import matplotlib.pyplot as plt\n",
        "plt.plot(x, y)\n",
        "plt.xlabel(\"Value of 'k'\")\n",
        "plt.ylabel(\"Accuracy in Percent\")\n",
        "plt.title (\"'k' VS Accuracy Graph\")"
      ],
      "metadata": {
        "colab": {
          "base_uri": "https://localhost:8080/",
          "height": 312
        },
        "id": "RFj9LH14S6j1",
        "outputId": "457175e0-5ba0-4fe5-fb67-574c4b82cb2c"
      },
      "execution_count": null,
      "outputs": [
        {
          "output_type": "execute_result",
          "data": {
            "text/plain": [
              "Text(0.5, 1.0, \"'k' VS Accuracy Graph\")"
            ]
          },
          "metadata": {},
          "execution_count": 23
        },
        {
          "output_type": "display_data",
          "data": {
            "text/plain": [
              "<Figure size 432x288 with 1 Axes>"
            ],
            "image/png": "[encoded data removed]"
          },
          "metadata": {
            "needs_background": "light"
          }
        }
      ]
    }
  ]
}