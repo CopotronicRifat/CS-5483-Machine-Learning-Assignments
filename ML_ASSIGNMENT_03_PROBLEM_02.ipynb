{
  "cells": [
    {
      "cell_type": "markdown",
      "metadata": {
        "id": "view-in-github",
        "colab_type": "text"
      },
      "source": [
        "<a href=\"https://colab.research.google.com/github/CopotronicRifat/CS-5783-Machine-Learning-Assignments/blob/main/ML_ASSIGNMENT_03_PROBLEM_02.ipynb\" target=\"_parent\"><img src=\"https://colab.research.google.com/assets/colab-badge.svg\" alt=\"Open In Colab\"/></a>"
      ]
    },
    {
      "cell_type": "code",
      "execution_count": 2,
      "metadata": {
        "id": "UnsbqGRX7wMr"
      },
      "outputs": [],
      "source": [
        "import tensorflow as tf\n",
        "\n",
        "from tensorflow.keras import datasets, layers, models\n",
        "import matplotlib.pyplot as plt"
      ]
    },
    {
      "cell_type": "code",
      "execution_count": 3,
      "metadata": {
        "id": "JnkLBLeF7ddp",
        "colab": {
          "base_uri": "https://localhost:8080/"
        },
        "outputId": "35c0e4ab-51e6-42aa-eafa-215c79680268"
      },
      "outputs": [
        {
          "output_type": "stream",
          "name": "stdout",
          "text": [
            "Downloading data from https://www.cs.toronto.edu/~kriz/cifar-10-python.tar.gz\n",
            "170498071/170498071 [==============================] - 2s 0us/step\n"
          ]
        }
      ],
      "source": [
        "(train_images, train_labels), (test_images, test_labels) = datasets.cifar10.load_data()\n",
        "\n",
        "# Normalize pixel values to be between 0 and 1\n",
        "train_images, test_images = train_images / 255.0, test_images / 255.0"
      ]
    },
    {
      "cell_type": "code",
      "execution_count": 6,
      "metadata": {
        "id": "P4Nvsp8B8QGl"
      },
      "outputs": [],
      "source": [
        "# LeNet model\n",
        "\n",
        "model = models.Sequential()\n",
        "model.add(layers.Conv2D(6, (5, 5), activation='relu', strides = (1,1), input_shape=(32, 32, 3)))\n",
        "model.add(layers.MaxPooling2D((2, 2), strides = (2, 2)))\n",
        "model.add(layers.Conv2D(16, (5, 5), strides = (1,1), activation='relu'))\n",
        "model.add(layers.MaxPooling2D((2, 2), strides = (2, 2)))\n",
        "model.add(layers.Conv2D(120, (5, 5), activation='relu'))"
      ]
    },
    {
      "cell_type": "code",
      "execution_count": 7,
      "metadata": {
        "id": "6NgRlUXfBPRF",
        "colab": {
          "base_uri": "https://localhost:8080/"
        },
        "outputId": "3448960b-ce17-494a-e134-be6fda3d4446"
      },
      "outputs": [
        {
          "output_type": "stream",
          "name": "stdout",
          "text": [
            "Model: \"sequential_1\"\n",
            "_________________________________________________________________\n",
            " Layer (type)                Output Shape              Param #   \n",
            "=================================================================\n",
            " conv2d (Conv2D)             (None, 28, 28, 6)         456       \n",
            "                                                                 \n",
            " max_pooling2d (MaxPooling2D  (None, 14, 14, 6)        0         \n",
            " )                                                               \n",
            "                                                                 \n",
            " conv2d_1 (Conv2D)           (None, 10, 10, 16)        2416      \n",
            "                                                                 \n",
            " max_pooling2d_1 (MaxPooling  (None, 5, 5, 16)         0         \n",
            " 2D)                                                             \n",
            "                                                                 \n",
            " conv2d_2 (Conv2D)           (None, 1, 1, 120)         48120     \n",
            "                                                                 \n",
            "=================================================================\n",
            "Total params: 50,992\n",
            "Trainable params: 50,992\n",
            "Non-trainable params: 0\n",
            "_________________________________________________________________\n"
          ]
        }
      ],
      "source": [
        "model.summary()"
      ]
    },
    {
      "cell_type": "code",
      "execution_count": 5,
      "metadata": {
        "id": "_Qw015LQBmG9"
      },
      "outputs": [],
      "source": [
        "model.add(layers.Flatten())\n",
        "model.add(layers.Dense(84, activation='relu'))\n",
        "model.add(layers.Dense(10))"
      ]
    },
    {
      "cell_type": "code",
      "execution_count": 6,
      "metadata": {
        "id": "n6ODPDUcNaAI",
        "colab": {
          "base_uri": "https://localhost:8080/"
        },
        "outputId": "203e8749-e7e0-4a3c-dea5-00292c63605c"
      },
      "outputs": [
        {
          "output_type": "stream",
          "name": "stdout",
          "text": [
            "Model: \"sequential\"\n",
            "_________________________________________________________________\n",
            " Layer (type)                Output Shape              Param #   \n",
            "=================================================================\n",
            " conv2d (Conv2D)             (None, 28, 28, 6)         456       \n",
            "                                                                 \n",
            " max_pooling2d (MaxPooling2D  (None, 14, 14, 6)        0         \n",
            " )                                                               \n",
            "                                                                 \n",
            " conv2d_1 (Conv2D)           (None, 10, 10, 16)        2416      \n",
            "                                                                 \n",
            " max_pooling2d_1 (MaxPooling  (None, 5, 5, 16)         0         \n",
            " 2D)                                                             \n",
            "                                                                 \n",
            " conv2d_2 (Conv2D)           (None, 1, 1, 120)         48120     \n",
            "                                                                 \n",
            " flatten (Flatten)           (None, 120)               0         \n",
            "                                                                 \n",
            " dense (Dense)               (None, 84)                10164     \n",
            "                                                                 \n",
            " dense_1 (Dense)             (None, 10)                850       \n",
            "                                                                 \n",
            "=================================================================\n",
            "Total params: 62,006\n",
            "Trainable params: 62,006\n",
            "Non-trainable params: 0\n",
            "_________________________________________________________________\n"
          ]
        }
      ],
      "source": [
        "model.summary()"
      ]
    },
    {
      "cell_type": "code",
      "execution_count": 7,
      "metadata": {
        "id": "YoC4uyoPNcWa",
        "colab": {
          "base_uri": "https://localhost:8080/"
        },
        "outputId": "8e77dfd4-8286-4b7d-8c6e-6cb12fd86feb"
      },
      "outputs": [
        {
          "output_type": "stream",
          "name": "stdout",
          "text": [
            "Epoch 1/25\n",
            "1563/1563 [==============================] - 11s 5ms/step - loss: 1.6419 - accuracy: 0.3966 - val_loss: 1.3882 - val_accuracy: 0.4953\n",
            "Epoch 2/25\n",
            "1563/1563 [==============================] - 7s 4ms/step - loss: 1.3601 - accuracy: 0.5091 - val_loss: 1.2846 - val_accuracy: 0.5340\n",
            "Epoch 3/25\n",
            "1563/1563 [==============================] - 6s 4ms/step - loss: 1.2528 - accuracy: 0.5530 - val_loss: 1.2664 - val_accuracy: 0.5414\n",
            "Epoch 4/25\n",
            "1563/1563 [==============================] - 6s 4ms/step - loss: 1.1801 - accuracy: 0.5810 - val_loss: 1.2570 - val_accuracy: 0.5512\n",
            "Epoch 5/25\n",
            "1563/1563 [==============================] - 7s 4ms/step - loss: 1.1287 - accuracy: 0.5985 - val_loss: 1.1874 - val_accuracy: 0.5785\n",
            "Epoch 6/25\n",
            "1563/1563 [==============================] - 6s 4ms/step - loss: 1.0785 - accuracy: 0.6178 - val_loss: 1.1666 - val_accuracy: 0.5830\n",
            "Epoch 7/25\n",
            "1563/1563 [==============================] - 7s 4ms/step - loss: 1.0410 - accuracy: 0.6325 - val_loss: 1.1234 - val_accuracy: 0.6044\n",
            "Epoch 8/25\n",
            "1563/1563 [==============================] - 7s 5ms/step - loss: 1.0021 - accuracy: 0.6446 - val_loss: 1.1423 - val_accuracy: 0.6009\n",
            "Epoch 9/25\n",
            "1563/1563 [==============================] - 6s 4ms/step - loss: 0.9736 - accuracy: 0.6544 - val_loss: 1.1316 - val_accuracy: 0.6037\n",
            "Epoch 10/25\n",
            "1563/1563 [==============================] - 7s 5ms/step - loss: 0.9395 - accuracy: 0.6652 - val_loss: 1.1160 - val_accuracy: 0.6098\n",
            "Epoch 11/25\n",
            "1563/1563 [==============================] - 7s 5ms/step - loss: 0.9091 - accuracy: 0.6779 - val_loss: 1.1283 - val_accuracy: 0.6058\n",
            "Epoch 12/25\n",
            "1563/1563 [==============================] - 7s 5ms/step - loss: 0.8868 - accuracy: 0.6846 - val_loss: 1.0977 - val_accuracy: 0.6204\n",
            "Epoch 13/25\n",
            "1563/1563 [==============================] - 7s 4ms/step - loss: 0.8681 - accuracy: 0.6925 - val_loss: 1.1128 - val_accuracy: 0.6114\n",
            "Epoch 14/25\n",
            "1563/1563 [==============================] - 6s 4ms/step - loss: 0.8427 - accuracy: 0.7001 - val_loss: 1.0934 - val_accuracy: 0.6197\n",
            "Epoch 15/25\n",
            "1563/1563 [==============================] - 6s 4ms/step - loss: 0.8289 - accuracy: 0.7047 - val_loss: 1.1798 - val_accuracy: 0.6048\n",
            "Epoch 16/25\n",
            "1563/1563 [==============================] - 7s 4ms/step - loss: 0.8097 - accuracy: 0.7107 - val_loss: 1.1388 - val_accuracy: 0.6119\n",
            "Epoch 17/25\n",
            "1563/1563 [==============================] - 6s 4ms/step - loss: 0.7912 - accuracy: 0.7198 - val_loss: 1.1736 - val_accuracy: 0.6042\n",
            "Epoch 18/25\n",
            "1563/1563 [==============================] - 7s 4ms/step - loss: 0.7713 - accuracy: 0.7241 - val_loss: 1.1738 - val_accuracy: 0.6133\n",
            "Epoch 19/25\n",
            "1563/1563 [==============================] - 7s 4ms/step - loss: 0.7565 - accuracy: 0.7335 - val_loss: 1.1811 - val_accuracy: 0.6133\n",
            "Epoch 20/25\n",
            "1563/1563 [==============================] - 7s 5ms/step - loss: 0.7416 - accuracy: 0.7360 - val_loss: 1.1962 - val_accuracy: 0.6111\n",
            "Epoch 21/25\n",
            "1563/1563 [==============================] - 7s 4ms/step - loss: 0.7274 - accuracy: 0.7406 - val_loss: 1.2267 - val_accuracy: 0.6092\n",
            "Epoch 22/25\n",
            "1563/1563 [==============================] - 6s 4ms/step - loss: 0.7149 - accuracy: 0.7449 - val_loss: 1.1978 - val_accuracy: 0.6186\n",
            "Epoch 23/25\n",
            "1563/1563 [==============================] - 6s 4ms/step - loss: 0.6997 - accuracy: 0.7502 - val_loss: 1.2194 - val_accuracy: 0.6079\n",
            "Epoch 24/25\n",
            "1563/1563 [==============================] - 7s 4ms/step - loss: 0.6862 - accuracy: 0.7542 - val_loss: 1.2418 - val_accuracy: 0.5999\n",
            "Epoch 25/25\n",
            "1563/1563 [==============================] - 7s 5ms/step - loss: 0.6736 - accuracy: 0.7582 - val_loss: 1.2535 - val_accuracy: 0.6117\n"
          ]
        }
      ],
      "source": [
        "model.compile(optimizer='adam',\n",
        "              loss=tf.keras.losses.SparseCategoricalCrossentropy(from_logits=True),\n",
        "              metrics=['accuracy'])\n",
        "\n",
        "history = model.fit(train_images, train_labels, epochs=25, \n",
        "                    validation_data=(test_images, test_labels))"
      ]
    },
    {
      "cell_type": "code",
      "execution_count": 8,
      "metadata": {
        "id": "Xf7zKZqRsiut"
      },
      "outputs": [],
      "source": [
        "learningrates_list = [0.001,0.01,0.1,1.0]"
      ]
    },
    {
      "cell_type": "code",
      "execution_count": 9,
      "metadata": {
        "id": "cXjoUfYGtyGe",
        "colab": {
          "base_uri": "https://localhost:8080/"
        },
        "outputId": "f8ccdde7-91ca-4e01-83f6-70a4a4f2c793"
      },
      "outputs": [
        {
          "output_type": "stream",
          "name": "stderr",
          "text": [
            "/usr/local/lib/python3.7/dist-packages/keras/optimizers/optimizer_v2/adam.py:110: UserWarning: The `lr` argument is deprecated, use `learning_rate` instead.\n",
            "  super(Adam, self).__init__(name, **kwargs)\n"
          ]
        },
        {
          "output_type": "stream",
          "name": "stdout",
          "text": [
            "Epoch 1/25\n",
            "1563/1563 [==============================] - 7s 4ms/step - loss: 8.3578 - val_loss: 6.8033\n",
            "Epoch 2/25\n",
            "1563/1563 [==============================] - 6s 4ms/step - loss: 6.5785 - val_loss: 6.1457\n",
            "Epoch 3/25\n",
            "1563/1563 [==============================] - 7s 4ms/step - loss: 5.9474 - val_loss: 5.8716\n",
            "Epoch 4/25\n",
            "1563/1563 [==============================] - 7s 4ms/step - loss: 5.4746 - val_loss: 5.6772\n",
            "Epoch 5/25\n",
            "1563/1563 [==============================] - 6s 4ms/step - loss: 5.1496 - val_loss: 5.2453\n",
            "Epoch 6/25\n",
            "1563/1563 [==============================] - 6s 4ms/step - loss: 4.8590 - val_loss: 5.1915\n",
            "Epoch 7/25\n",
            "1563/1563 [==============================] - 6s 4ms/step - loss: 4.5927 - val_loss: 5.1658\n",
            "Epoch 8/25\n",
            "1563/1563 [==============================] - 7s 4ms/step - loss: 4.4008 - val_loss: 5.1484\n",
            "Epoch 9/25\n",
            "1563/1563 [==============================] - 7s 4ms/step - loss: 4.1320 - val_loss: 5.1857\n",
            "Epoch 10/25\n",
            "1563/1563 [==============================] - 7s 4ms/step - loss: 3.9513 - val_loss: 5.0247\n",
            "Epoch 11/25\n",
            "1563/1563 [==============================] - 7s 4ms/step - loss: 3.7415 - val_loss: 4.7946\n",
            "Epoch 12/25\n",
            "1563/1563 [==============================] - 6s 4ms/step - loss: 3.5475 - val_loss: 4.9829\n",
            "Epoch 13/25\n",
            "1563/1563 [==============================] - 7s 4ms/step - loss: 3.3739 - val_loss: 5.4719\n",
            "Epoch 14/25\n",
            "1563/1563 [==============================] - 6s 4ms/step - loss: 3.2348 - val_loss: 4.9349\n",
            "Epoch 15/25\n",
            "1563/1563 [==============================] - 6s 4ms/step - loss: 3.0997 - val_loss: 5.2019\n",
            "Epoch 16/25\n",
            "1563/1563 [==============================] - 7s 4ms/step - loss: 2.9250 - val_loss: 5.4910\n",
            "Epoch 17/25\n",
            "1563/1563 [==============================] - 6s 4ms/step - loss: 2.8361 - val_loss: 5.1376\n",
            "Epoch 18/25\n",
            "1563/1563 [==============================] - 6s 4ms/step - loss: 2.7076 - val_loss: 5.1591\n",
            "Epoch 19/25\n",
            "1563/1563 [==============================] - 7s 4ms/step - loss: 2.5572 - val_loss: 5.4505\n",
            "Epoch 20/25\n",
            "1563/1563 [==============================] - 7s 4ms/step - loss: 2.4576 - val_loss: 5.1122\n",
            "Epoch 21/25\n",
            "1563/1563 [==============================] - 6s 4ms/step - loss: 2.3748 - val_loss: 5.2621\n",
            "Epoch 22/25\n",
            "1563/1563 [==============================] - 6s 4ms/step - loss: 2.2804 - val_loss: 5.4017\n",
            "Epoch 23/25\n",
            "1563/1563 [==============================] - 7s 4ms/step - loss: 2.1739 - val_loss: 5.2569\n",
            "Epoch 24/25\n",
            "1563/1563 [==============================] - 6s 4ms/step - loss: 2.0843 - val_loss: 5.8221\n",
            "Epoch 25/25\n",
            "1563/1563 [==============================] - 6s 4ms/step - loss: 2.0263 - val_loss: 5.4818\n",
            "Epoch 1/25\n",
            "1563/1563 [==============================] - 7s 4ms/step - loss: 7.5226 - val_loss: 6.9001\n",
            "Epoch 2/25\n",
            "1563/1563 [==============================] - 7s 4ms/step - loss: 6.9340 - val_loss: 6.7159\n",
            "Epoch 3/25\n",
            "1563/1563 [==============================] - 6s 4ms/step - loss: 6.6468 - val_loss: 6.1166\n",
            "Epoch 4/25\n",
            "1563/1563 [==============================] - 6s 4ms/step - loss: 6.4147 - val_loss: 6.2400\n",
            "Epoch 5/25\n",
            "1563/1563 [==============================] - 6s 4ms/step - loss: 6.1804 - val_loss: 6.3744\n",
            "Epoch 6/25\n",
            "1563/1563 [==============================] - 6s 4ms/step - loss: 6.1083 - val_loss: 6.4131\n",
            "Epoch 7/25\n",
            "1563/1563 [==============================] - 6s 4ms/step - loss: 5.9060 - val_loss: 6.1711\n",
            "Epoch 8/25\n",
            "1563/1563 [==============================] - 6s 4ms/step - loss: 7.3695 - val_loss: 8.3600\n",
            "Epoch 9/25\n",
            "1563/1563 [==============================] - 7s 4ms/step - loss: 8.2681 - val_loss: 8.2647\n",
            "Epoch 10/25\n",
            "1563/1563 [==============================] - 7s 4ms/step - loss: 8.2685 - val_loss: 8.2501\n",
            "Epoch 11/25\n",
            "1563/1563 [==============================] - 6s 4ms/step - loss: 8.2603 - val_loss: 8.2858\n",
            "Epoch 12/25\n",
            "1563/1563 [==============================] - 6s 4ms/step - loss: 8.2590 - val_loss: 8.2875\n",
            "Epoch 13/25\n",
            "1563/1563 [==============================] - 7s 4ms/step - loss: 8.2559 - val_loss: 8.2506\n",
            "Epoch 14/25\n",
            "1563/1563 [==============================] - 6s 4ms/step - loss: 8.2527 - val_loss: 8.2512\n",
            "Epoch 15/25\n",
            "1563/1563 [==============================] - 7s 4ms/step - loss: 8.2523 - val_loss: 8.2664\n",
            "Epoch 16/25\n",
            "1563/1563 [==============================] - 7s 4ms/step - loss: 8.2539 - val_loss: 8.2577\n",
            "Epoch 17/25\n",
            "1563/1563 [==============================] - 6s 4ms/step - loss: 8.2535 - val_loss: 8.2504\n",
            "Epoch 18/25\n",
            "1563/1563 [==============================] - 6s 4ms/step - loss: 8.2532 - val_loss: 8.2500\n",
            "Epoch 19/25\n",
            "1563/1563 [==============================] - 6s 4ms/step - loss: 8.2534 - val_loss: 8.2503\n",
            "Epoch 20/25\n",
            "1563/1563 [==============================] - 6s 4ms/step - loss: 8.2543 - val_loss: 8.2500\n",
            "Epoch 21/25\n",
            "1563/1563 [==============================] - 7s 4ms/step - loss: 8.2535 - val_loss: 8.2508\n",
            "Epoch 22/25\n",
            "1563/1563 [==============================] - 7s 4ms/step - loss: 8.2522 - val_loss: 8.2624\n",
            "Epoch 23/25\n",
            "1563/1563 [==============================] - 7s 4ms/step - loss: 8.2543 - val_loss: 8.2528\n",
            "Epoch 24/25\n",
            "1563/1563 [==============================] - 6s 4ms/step - loss: 8.2524 - val_loss: 8.2573\n",
            "Epoch 25/25\n",
            "1563/1563 [==============================] - 7s 5ms/step - loss: 8.2515 - val_loss: 8.2540\n",
            "Epoch 1/25\n",
            "1563/1563 [==============================] - 8s 5ms/step - loss: 8.2832 - val_loss: 8.3435\n",
            "Epoch 2/25\n",
            "1563/1563 [==============================] - 7s 5ms/step - loss: 8.2729 - val_loss: 8.2514\n",
            "Epoch 3/25\n",
            "1563/1563 [==============================] - 7s 5ms/step - loss: 8.2725 - val_loss: 8.2612\n",
            "Epoch 4/25\n",
            "1563/1563 [==============================] - 7s 5ms/step - loss: 8.2731 - val_loss: 8.2668\n",
            "Epoch 5/25\n",
            "1563/1563 [==============================] - 6s 4ms/step - loss: 8.2767 - val_loss: 8.2500\n",
            "Epoch 6/25\n",
            "1563/1563 [==============================] - 6s 4ms/step - loss: 8.2738 - val_loss: 8.2502\n",
            "Epoch 7/25\n",
            "1563/1563 [==============================] - 6s 4ms/step - loss: 8.2723 - val_loss: 8.3311\n",
            "Epoch 8/25\n",
            "1563/1563 [==============================] - 8s 5ms/step - loss: 8.2760 - val_loss: 8.2867\n",
            "Epoch 9/25\n",
            "1563/1563 [==============================] - 7s 4ms/step - loss: 8.2759 - val_loss: 8.2532\n",
            "Epoch 10/25\n",
            "1563/1563 [==============================] - 7s 5ms/step - loss: 8.2758 - val_loss: 8.2511\n",
            "Epoch 11/25\n",
            "1563/1563 [==============================] - 7s 5ms/step - loss: 8.2725 - val_loss: 8.2500\n",
            "Epoch 12/25\n",
            "1563/1563 [==============================] - 7s 4ms/step - loss: 8.2773 - val_loss: 8.2507\n",
            "Epoch 13/25\n",
            "1563/1563 [==============================] - 7s 4ms/step - loss: 8.2743 - val_loss: 8.2569\n",
            "Epoch 14/25\n",
            "1563/1563 [==============================] - 7s 5ms/step - loss: 8.2745 - val_loss: 8.2500\n",
            "Epoch 15/25\n",
            "1563/1563 [==============================] - 6s 4ms/step - loss: 8.2686 - val_loss: 8.2722\n",
            "Epoch 16/25\n",
            "1563/1563 [==============================] - 7s 5ms/step - loss: 8.2732 - val_loss: 8.2540\n",
            "Epoch 17/25\n",
            "1563/1563 [==============================] - 7s 4ms/step - loss: 8.2713 - val_loss: 8.2504\n",
            "Epoch 18/25\n",
            "1563/1563 [==============================] - 7s 4ms/step - loss: 8.2718 - val_loss: 8.2503\n",
            "Epoch 19/25\n",
            "1563/1563 [==============================] - 6s 4ms/step - loss: 8.2808 - val_loss: 8.2768\n",
            "Epoch 20/25\n",
            "1563/1563 [==============================] - 6s 4ms/step - loss: 8.2691 - val_loss: 8.2500\n",
            "Epoch 21/25\n",
            "1563/1563 [==============================] - 7s 4ms/step - loss: 8.2715 - val_loss: 8.2599\n",
            "Epoch 22/25\n",
            "1563/1563 [==============================] - 7s 4ms/step - loss: 8.2780 - val_loss: 8.2501\n",
            "Epoch 23/25\n",
            "1563/1563 [==============================] - 6s 4ms/step - loss: 8.2742 - val_loss: 8.2507\n",
            "Epoch 24/25\n",
            "1563/1563 [==============================] - 7s 5ms/step - loss: 8.2805 - val_loss: 8.2570\n",
            "Epoch 25/25\n",
            "1563/1563 [==============================] - 7s 5ms/step - loss: 8.2776 - val_loss: 8.2505\n",
            "Epoch 1/25\n",
            "1563/1563 [==============================] - 7s 4ms/step - loss: 8.4571 - val_loss: 8.6863\n",
            "Epoch 2/25\n",
            "1563/1563 [==============================] - 7s 5ms/step - loss: 8.4063 - val_loss: 8.3669\n",
            "Epoch 3/25\n",
            "1563/1563 [==============================] - 7s 5ms/step - loss: 8.4337 - val_loss: 8.3919\n",
            "Epoch 4/25\n",
            "1563/1563 [==============================] - 7s 5ms/step - loss: 8.4555 - val_loss: 8.2573\n",
            "Epoch 5/25\n",
            "1563/1563 [==============================] - 7s 4ms/step - loss: 8.4599 - val_loss: 8.3988\n",
            "Epoch 6/25\n",
            "1563/1563 [==============================] - 7s 4ms/step - loss: 8.4524 - val_loss: 8.3516\n",
            "Epoch 7/25\n",
            "1563/1563 [==============================] - 6s 4ms/step - loss: 8.4637 - val_loss: 8.6952\n",
            "Epoch 8/25\n",
            "1563/1563 [==============================] - 7s 5ms/step - loss: 8.4580 - val_loss: 8.3042\n",
            "Epoch 9/25\n",
            "1563/1563 [==============================] - 7s 5ms/step - loss: 8.4416 - val_loss: 8.2669\n",
            "Epoch 10/25\n",
            "1563/1563 [==============================] - 7s 4ms/step - loss: 8.4539 - val_loss: 8.2546\n",
            "Epoch 11/25\n",
            "1563/1563 [==============================] - 7s 5ms/step - loss: 8.4656 - val_loss: 8.3244\n",
            "Epoch 12/25\n",
            "1563/1563 [==============================] - 6s 4ms/step - loss: 8.4475 - val_loss: 8.3560\n",
            "Epoch 13/25\n",
            "1563/1563 [==============================] - 7s 4ms/step - loss: 8.4835 - val_loss: 8.5573\n",
            "Epoch 14/25\n",
            "1563/1563 [==============================] - 7s 5ms/step - loss: 8.4418 - val_loss: 8.4607\n",
            "Epoch 15/25\n",
            "1563/1563 [==============================] - 6s 4ms/step - loss: 8.4589 - val_loss: 8.3924\n",
            "Epoch 16/25\n",
            "1563/1563 [==============================] - 7s 5ms/step - loss: 8.4755 - val_loss: 8.3132\n",
            "Epoch 17/25\n",
            "1563/1563 [==============================] - 7s 4ms/step - loss: 8.4381 - val_loss: 8.4268\n",
            "Epoch 18/25\n",
            "1563/1563 [==============================] - 6s 4ms/step - loss: 8.4392 - val_loss: 8.6562\n",
            "Epoch 19/25\n",
            "1563/1563 [==============================] - 7s 4ms/step - loss: 8.4523 - val_loss: 8.3247\n",
            "Epoch 20/25\n",
            "1563/1563 [==============================] - 7s 5ms/step - loss: 8.4308 - val_loss: 8.3951\n",
            "Epoch 21/25\n",
            "1563/1563 [==============================] - 7s 4ms/step - loss: 8.4629 - val_loss: 8.4217\n",
            "Epoch 22/25\n",
            "1563/1563 [==============================] - 7s 4ms/step - loss: 8.4687 - val_loss: 8.2986\n",
            "Epoch 23/25\n",
            "1563/1563 [==============================] - 7s 4ms/step - loss: 8.4910 - val_loss: 8.2626\n",
            "Epoch 24/25\n",
            "1563/1563 [==============================] - 6s 4ms/step - loss: 8.4648 - val_loss: 8.4592\n",
            "Epoch 25/25\n",
            "1563/1563 [==============================] - 7s 4ms/step - loss: 8.4491 - val_loss: 8.3205\n"
          ]
        }
      ],
      "source": [
        "import keras\n",
        "\n",
        "for i in range(len(learningrates_list)):\n",
        "    optimizer = keras.optimizers.Adam(lr = learningrates_list[i])\n",
        "    model.compile(loss='mse', optimizer=optimizer)\n",
        "    history = model.fit(train_images, train_labels, epochs=25, validation_data=(test_images, test_labels))"
      ]
    },
    {
      "cell_type": "markdown",
      "source": [
        "**Problem 2.1**\n",
        "\n",
        "**Effect of Learning rate:**\n",
        "\n",
        "As the learning rate increases the loss also increases. Hence accuracy increases.\n",
        "\n",
        "Also, I have got the best performance when learning rate is 0.001, compared to 0.01, 0.1, 1.0.\n",
        "\n",
        "\n",
        "\n"
      ],
      "metadata": {
        "id": "5VGxpNQ6CD0y"
      }
    },
    {
      "cell_type": "code",
      "source": [
        "batchsize_list = [8, 16, 32, 64, 128]"
      ],
      "metadata": {
        "id": "NpBGSXwwCsrq"
      },
      "execution_count": 10,
      "outputs": []
    },
    {
      "cell_type": "code",
      "source": [
        "import keras\n",
        "\n",
        "for i in range(len(learningrates_list)):\n",
        "    print('Result for ' + str(batchsize_list[i]))\n",
        "    optimizer = keras.optimizers.Adam(lr = 0.001)\n",
        "    model.compile(loss='mse', optimizer=optimizer)\n",
        "    history = model.fit(train_images, train_labels, epochs = 25, batch_size = batchsize_list[i])"
      ],
      "metadata": {
        "id": "GEjLxSlcC5QV",
        "colab": {
          "base_uri": "https://localhost:8080/"
        },
        "outputId": "e3d4bc27-dc20-4f3f-e969-0d10400e7cb8"
      },
      "execution_count": 11,
      "outputs": [
        {
          "output_type": "stream",
          "name": "stdout",
          "text": [
            "Result for 8\n",
            "Epoch 1/25\n",
            "6250/6250 [==============================] - 19s 3ms/step - loss: 8.2567\n",
            "Epoch 2/25\n",
            "6250/6250 [==============================] - 19s 3ms/step - loss: 8.2506\n",
            "Epoch 3/25\n",
            "6250/6250 [==============================] - 18s 3ms/step - loss: 8.2509\n",
            "Epoch 4/25\n",
            "6250/6250 [==============================] - 18s 3ms/step - loss: 8.2507\n",
            "Epoch 5/25\n",
            "6250/6250 [==============================] - 18s 3ms/step - loss: 8.2506\n",
            "Epoch 6/25\n",
            "6250/6250 [==============================] - 18s 3ms/step - loss: 8.2506\n",
            "Epoch 7/25\n",
            "6250/6250 [==============================] - 18s 3ms/step - loss: 8.2506\n",
            "Epoch 8/25\n",
            "6250/6250 [==============================] - 18s 3ms/step - loss: 8.2508\n",
            "Epoch 9/25\n",
            "6250/6250 [==============================] - 18s 3ms/step - loss: 8.2508\n",
            "Epoch 10/25\n",
            "6250/6250 [==============================] - 18s 3ms/step - loss: 8.2509\n",
            "Epoch 11/25\n",
            "6250/6250 [==============================] - 18s 3ms/step - loss: 8.2506\n",
            "Epoch 12/25\n",
            "6250/6250 [==============================] - 18s 3ms/step - loss: 8.2508\n",
            "Epoch 13/25\n",
            "6250/6250 [==============================] - 19s 3ms/step - loss: 8.2505\n",
            "Epoch 14/25\n",
            "6250/6250 [==============================] - 18s 3ms/step - loss: 8.2506\n",
            "Epoch 15/25\n",
            "6250/6250 [==============================] - 18s 3ms/step - loss: 8.2505\n",
            "Epoch 16/25\n",
            "6250/6250 [==============================] - 18s 3ms/step - loss: 8.2502\n",
            "Epoch 17/25\n",
            "6250/6250 [==============================] - 18s 3ms/step - loss: 8.2507\n",
            "Epoch 18/25\n",
            "6250/6250 [==============================] - 18s 3ms/step - loss: 8.2506\n",
            "Epoch 19/25\n",
            "6250/6250 [==============================] - 18s 3ms/step - loss: 8.2509\n",
            "Epoch 20/25\n",
            "6250/6250 [==============================] - 18s 3ms/step - loss: 8.2504\n",
            "Epoch 21/25\n",
            "6250/6250 [==============================] - 18s 3ms/step - loss: 8.2506\n",
            "Epoch 22/25\n",
            "6250/6250 [==============================] - 18s 3ms/step - loss: 8.2506\n",
            "Epoch 23/25\n",
            "6250/6250 [==============================] - 18s 3ms/step - loss: 8.2504\n",
            "Epoch 24/25\n",
            "6250/6250 [==============================] - 19s 3ms/step - loss: 8.2507\n",
            "Epoch 25/25\n",
            "6250/6250 [==============================] - 18s 3ms/step - loss: 8.2508\n",
            "Result for 16\n",
            "Epoch 1/25\n",
            "3125/3125 [==============================] - 10s 3ms/step - loss: 8.2504\n",
            "Epoch 2/25\n",
            "3125/3125 [==============================] - 9s 3ms/step - loss: 8.2507\n",
            "Epoch 3/25\n",
            "3125/3125 [==============================] - 9s 3ms/step - loss: 8.2505\n",
            "Epoch 4/25\n",
            "3125/3125 [==============================] - 9s 3ms/step - loss: 8.2506\n",
            "Epoch 5/25\n",
            "3125/3125 [==============================] - 9s 3ms/step - loss: 8.2504\n",
            "Epoch 6/25\n",
            "3125/3125 [==============================] - 9s 3ms/step - loss: 8.2506\n",
            "Epoch 7/25\n",
            "3125/3125 [==============================] - 9s 3ms/step - loss: 8.2506\n",
            "Epoch 8/25\n",
            "3125/3125 [==============================] - 9s 3ms/step - loss: 8.2505\n",
            "Epoch 9/25\n",
            "3125/3125 [==============================] - 9s 3ms/step - loss: 8.2505\n",
            "Epoch 10/25\n",
            "3125/3125 [==============================] - 9s 3ms/step - loss: 8.2504\n",
            "Epoch 11/25\n",
            "3125/3125 [==============================] - 9s 3ms/step - loss: 8.2506\n",
            "Epoch 12/25\n",
            "3125/3125 [==============================] - 9s 3ms/step - loss: 8.2506\n",
            "Epoch 13/25\n",
            "3125/3125 [==============================] - 9s 3ms/step - loss: 8.2505\n",
            "Epoch 14/25\n",
            "3125/3125 [==============================] - 9s 3ms/step - loss: 8.2499\n",
            "Epoch 15/25\n",
            "3125/3125 [==============================] - 9s 3ms/step - loss: 8.2506\n",
            "Epoch 16/25\n",
            "3125/3125 [==============================] - 9s 3ms/step - loss: 8.2505\n",
            "Epoch 17/25\n",
            "3125/3125 [==============================] - 9s 3ms/step - loss: 8.2506\n",
            "Epoch 18/25\n",
            "3125/3125 [==============================] - 9s 3ms/step - loss: 8.2501\n",
            "Epoch 19/25\n",
            "3125/3125 [==============================] - 10s 3ms/step - loss: 8.2504\n",
            "Epoch 20/25\n",
            "3125/3125 [==============================] - 9s 3ms/step - loss: 8.2502\n",
            "Epoch 21/25\n",
            "3125/3125 [==============================] - 9s 3ms/step - loss: 8.2499\n",
            "Epoch 22/25\n",
            "3125/3125 [==============================] - 9s 3ms/step - loss: 8.2507\n",
            "Epoch 23/25\n",
            "3125/3125 [==============================] - 9s 3ms/step - loss: 8.2506\n",
            "Epoch 24/25\n",
            "3125/3125 [==============================] - 9s 3ms/step - loss: 8.2504\n",
            "Epoch 25/25\n",
            "3125/3125 [==============================] - 9s 3ms/step - loss: 8.2506\n",
            "Result for 32\n",
            "Epoch 1/25\n",
            "1563/1563 [==============================] - 6s 3ms/step - loss: 8.2503\n",
            "Epoch 2/25\n",
            "1563/1563 [==============================] - 6s 4ms/step - loss: 8.2505\n",
            "Epoch 3/25\n",
            "1563/1563 [==============================] - 6s 4ms/step - loss: 8.2503\n",
            "Epoch 4/25\n",
            "1563/1563 [==============================] - 6s 4ms/step - loss: 8.2504\n",
            "Epoch 5/25\n",
            "1563/1563 [==============================] - 6s 4ms/step - loss: 8.2500\n",
            "Epoch 6/25\n",
            "1563/1563 [==============================] - 6s 4ms/step - loss: 8.2505\n",
            "Epoch 7/25\n",
            "1563/1563 [==============================] - 6s 4ms/step - loss: 8.2504\n",
            "Epoch 8/25\n",
            "1563/1563 [==============================] - 6s 4ms/step - loss: 8.2504\n",
            "Epoch 9/25\n",
            "1563/1563 [==============================] - 6s 4ms/step - loss: 8.2504\n",
            "Epoch 10/25\n",
            "1563/1563 [==============================] - 6s 4ms/step - loss: 8.2502\n",
            "Epoch 11/25\n",
            "1563/1563 [==============================] - 6s 4ms/step - loss: 8.2504\n",
            "Epoch 12/25\n",
            "1563/1563 [==============================] - 6s 4ms/step - loss: 8.2505\n",
            "Epoch 13/25\n",
            "1563/1563 [==============================] - 6s 4ms/step - loss: 8.2503\n",
            "Epoch 14/25\n",
            "1563/1563 [==============================] - 6s 4ms/step - loss: 8.2504\n",
            "Epoch 15/25\n",
            "1563/1563 [==============================] - 6s 4ms/step - loss: 8.2501\n",
            "Epoch 16/25\n",
            "1563/1563 [==============================] - 6s 4ms/step - loss: 8.2505\n",
            "Epoch 17/25\n",
            "1563/1563 [==============================] - 6s 4ms/step - loss: 8.2504\n",
            "Epoch 18/25\n",
            "1563/1563 [==============================] - 7s 4ms/step - loss: 8.2503\n",
            "Epoch 19/25\n",
            "1563/1563 [==============================] - 6s 4ms/step - loss: 8.2504\n",
            "Epoch 20/25\n",
            "1563/1563 [==============================] - 6s 4ms/step - loss: 8.2505\n",
            "Epoch 21/25\n",
            "1563/1563 [==============================] - 6s 4ms/step - loss: 8.2504\n",
            "Epoch 22/25\n",
            "1563/1563 [==============================] - 6s 4ms/step - loss: 8.2504\n",
            "Epoch 23/25\n",
            "1563/1563 [==============================] - 6s 4ms/step - loss: 8.2504\n",
            "Epoch 24/25\n",
            "1563/1563 [==============================] - 6s 4ms/step - loss: 8.2503\n",
            "Epoch 25/25\n",
            "1563/1563 [==============================] - 6s 4ms/step - loss: 8.2505\n",
            "Result for 64\n",
            "Epoch 1/25\n",
            "782/782 [==============================] - 4s 4ms/step - loss: 8.2503\n",
            "Epoch 2/25\n",
            "782/782 [==============================] - 3s 4ms/step - loss: 8.2503\n",
            "Epoch 3/25\n",
            "782/782 [==============================] - 3s 4ms/step - loss: 8.2503\n",
            "Epoch 4/25\n",
            "782/782 [==============================] - 3s 4ms/step - loss: 8.2503\n",
            "Epoch 5/25\n",
            "782/782 [==============================] - 3s 4ms/step - loss: 8.2503\n",
            "Epoch 6/25\n",
            "782/782 [==============================] - 3s 4ms/step - loss: 8.2503\n",
            "Epoch 7/25\n",
            "782/782 [==============================] - 3s 4ms/step - loss: 8.2501\n",
            "Epoch 8/25\n",
            "782/782 [==============================] - 3s 4ms/step - loss: 8.2503\n",
            "Epoch 9/25\n",
            "782/782 [==============================] - 3s 4ms/step - loss: 8.2503\n",
            "Epoch 10/25\n",
            "782/782 [==============================] - 3s 4ms/step - loss: 8.2501\n",
            "Epoch 11/25\n",
            "782/782 [==============================] - 3s 4ms/step - loss: 8.2503\n",
            "Epoch 12/25\n",
            "782/782 [==============================] - 3s 4ms/step - loss: 8.2503\n",
            "Epoch 13/25\n",
            "782/782 [==============================] - 3s 4ms/step - loss: 8.2503\n",
            "Epoch 14/25\n",
            "782/782 [==============================] - 3s 4ms/step - loss: 8.2503\n",
            "Epoch 15/25\n",
            "782/782 [==============================] - 3s 4ms/step - loss: 8.2502\n",
            "Epoch 16/25\n",
            "782/782 [==============================] - 3s 4ms/step - loss: 8.2504\n",
            "Epoch 17/25\n",
            "782/782 [==============================] - 3s 4ms/step - loss: 8.2504\n",
            "Epoch 18/25\n",
            "782/782 [==============================] - 3s 4ms/step - loss: 8.2503\n",
            "Epoch 19/25\n",
            "782/782 [==============================] - 3s 4ms/step - loss: 8.2503\n",
            "Epoch 20/25\n",
            "782/782 [==============================] - 3s 4ms/step - loss: 8.2503\n",
            "Epoch 21/25\n",
            "782/782 [==============================] - 3s 4ms/step - loss: 8.2503\n",
            "Epoch 22/25\n",
            "782/782 [==============================] - 3s 4ms/step - loss: 8.2503\n",
            "Epoch 23/25\n",
            "782/782 [==============================] - 3s 4ms/step - loss: 8.2503\n",
            "Epoch 24/25\n",
            "782/782 [==============================] - 3s 4ms/step - loss: 8.2505\n",
            "Epoch 25/25\n",
            "782/782 [==============================] - 3s 4ms/step - loss: 8.2502\n"
          ]
        }
      ]
    },
    {
      "cell_type": "code",
      "source": [
        "import keras\n",
        "\n",
        "for i in range(len(learningrates_list)):\n",
        "    for j in range(len(batchsize_list)):\n",
        "\n",
        "        print('For learning rate' + str(learningrates_list[i]) + 'and batch size ' + str(batchsize_list[i]) + ':')\n",
        "        optimizer = keras.optimizers.Adam(lr = learningrates_list[i])\n",
        "        model.compile(loss='mse', optimizer=optimizer)\n",
        "        history = model.fit(train_images, train_labels, epochs = 25, batch_size = batchsize_list[i])"
      ],
      "metadata": {
        "id": "66VMwQg9GVlg",
        "colab": {
          "base_uri": "https://localhost:8080/"
        },
        "outputId": "990eee76-105b-49b1-e781-85a64e796ab2"
      },
      "execution_count": null,
      "outputs": [
        {
          "output_type": "stream",
          "name": "stdout",
          "text": [
            "For learning rate0.001and batch size 8:\n",
            "Epoch 1/25\n",
            "6250/6250 [==============================] - 18s 3ms/step - loss: 8.2508\n",
            "Epoch 2/25\n",
            "6250/6250 [==============================] - 18s 3ms/step - loss: 8.2503\n",
            "Epoch 3/25\n",
            "6250/6250 [==============================] - 18s 3ms/step - loss: 8.2508\n",
            "Epoch 4/25\n",
            "6250/6250 [==============================] - 18s 3ms/step - loss: 8.2503\n",
            "Epoch 5/25\n",
            "6250/6250 [==============================] - 18s 3ms/step - loss: 8.2505\n",
            "Epoch 6/25\n",
            "6250/6250 [==============================] - 18s 3ms/step - loss: 8.2505\n",
            "Epoch 7/25\n",
            "6250/6250 [==============================] - 18s 3ms/step - loss: 8.2502\n",
            "Epoch 8/25\n",
            "6250/6250 [==============================] - 18s 3ms/step - loss: 8.2506\n",
            "Epoch 9/25\n",
            "6250/6250 [==============================] - 18s 3ms/step - loss: 8.2505\n",
            "Epoch 10/25\n",
            "6250/6250 [==============================] - 18s 3ms/step - loss: 8.2507\n",
            "Epoch 11/25\n",
            "6250/6250 [==============================] - 18s 3ms/step - loss: 8.2508\n",
            "Epoch 12/25\n",
            "6250/6250 [==============================] - 18s 3ms/step - loss: 8.2508\n",
            "Epoch 13/25\n",
            "6250/6250 [==============================] - 18s 3ms/step - loss: 8.2509\n",
            "Epoch 14/25\n",
            "6250/6250 [==============================] - 18s 3ms/step - loss: 8.2506\n",
            "Epoch 15/25\n",
            "6250/6250 [==============================] - 18s 3ms/step - loss: 8.2508\n",
            "Epoch 16/25\n",
            "6250/6250 [==============================] - 18s 3ms/step - loss: 8.2502\n",
            "Epoch 17/25\n",
            "6250/6250 [==============================] - 19s 3ms/step - loss: 8.2508\n",
            "Epoch 18/25\n",
            "6250/6250 [==============================] - 18s 3ms/step - loss: 8.2506\n",
            "Epoch 19/25\n",
            "6250/6250 [==============================] - 18s 3ms/step - loss: 8.2508\n",
            "Epoch 20/25\n",
            "6250/6250 [==============================] - 18s 3ms/step - loss: 8.2504\n",
            "Epoch 21/25\n",
            "6250/6250 [==============================] - 18s 3ms/step - loss: 8.2507\n",
            "Epoch 22/25\n",
            "6250/6250 [==============================] - 18s 3ms/step - loss: 8.2508\n",
            "Epoch 23/25\n",
            "6250/6250 [==============================] - 18s 3ms/step - loss: 8.2506\n",
            "Epoch 24/25\n",
            "6250/6250 [==============================] - 18s 3ms/step - loss: 8.2507\n",
            "Epoch 25/25\n",
            "5165/6250 [=======================>......] - ETA: 3s - loss: 8.2474"
          ]
        }
      ]
    },
    {
      "cell_type": "markdown",
      "source": [
        "**Problem 2.3**\n",
        "\n",
        "We tried different hyperparameter, such as batch size and learning rate."
      ],
      "metadata": {
        "id": "wT6ILx7YGjqB"
      }
    },
    {
      "cell_type": "code",
      "source": [
        "# Equivalent Feed Forward Network\n",
        "\n",
        "model = models.Sequential()\n",
        "model.add(layers.Flatten())\n",
        "model.add(layers.Dense(6, activation='relu'))\n",
        "model.add(layers.Dense(16, activation='relu'))\n",
        "model.add(layers.Dense(120, activation='relu'))\n",
        "model.add(layers.Dense(84, activation='relu'))\n",
        "model.add(layers.Dense(10, activation='relu'))"
      ],
      "metadata": {
        "id": "CKDGsCJjFvRA"
      },
      "execution_count": 8,
      "outputs": []
    },
    {
      "cell_type": "code",
      "source": [
        "model.compile(optimizer='adam',\n",
        "              loss=tf.keras.losses.SparseCategoricalCrossentropy(from_logits=True),\n",
        "              metrics=['accuracy'])\n",
        "\n",
        "history = model.fit(train_images, train_labels, epochs=25, \n",
        "                    validation_data=(test_images, test_labels))"
      ],
      "metadata": {
        "id": "X-qBk2i2GQJs",
        "colab": {
          "base_uri": "https://localhost:8080/"
        },
        "outputId": "ec3016e8-9a86-4845-950f-7cddb4ac674c"
      },
      "execution_count": 10,
      "outputs": [
        {
          "output_type": "stream",
          "name": "stdout",
          "text": [
            "Epoch 1/25\n",
            "1563/1563 [==============================] - 8s 5ms/step - loss: 2.3026 - accuracy: 0.0999 - val_loss: 2.3026 - val_accuracy: 0.1000\n",
            "Epoch 2/25\n",
            "1563/1563 [==============================] - 6s 4ms/step - loss: 2.3026 - accuracy: 0.1000 - val_loss: 2.3026 - val_accuracy: 0.1000\n",
            "Epoch 3/25\n",
            "1563/1563 [==============================] - 6s 4ms/step - loss: 2.3026 - accuracy: 0.1000 - val_loss: 2.3026 - val_accuracy: 0.1000\n",
            "Epoch 4/25\n",
            "1563/1563 [==============================] - 7s 4ms/step - loss: 2.3026 - accuracy: 0.1000 - val_loss: 2.3026 - val_accuracy: 0.1000\n",
            "Epoch 5/25\n",
            "1563/1563 [==============================] - 8s 5ms/step - loss: 2.3026 - accuracy: 0.1000 - val_loss: 2.3026 - val_accuracy: 0.1000\n",
            "Epoch 6/25\n",
            "1563/1563 [==============================] - 6s 4ms/step - loss: 2.3026 - accuracy: 0.1000 - val_loss: 2.3026 - val_accuracy: 0.1000\n",
            "Epoch 7/25\n",
            "1563/1563 [==============================] - 6s 4ms/step - loss: 2.3026 - accuracy: 0.1000 - val_loss: 2.3026 - val_accuracy: 0.1000\n",
            "Epoch 8/25\n",
            "1563/1563 [==============================] - 6s 4ms/step - loss: 2.3026 - accuracy: 0.1000 - val_loss: 2.3026 - val_accuracy: 0.1000\n",
            "Epoch 9/25\n",
            "1563/1563 [==============================] - 6s 4ms/step - loss: 2.3026 - accuracy: 0.1000 - val_loss: 2.3026 - val_accuracy: 0.1000\n",
            "Epoch 10/25\n",
            "1563/1563 [==============================] - 6s 4ms/step - loss: 2.3026 - accuracy: 0.1000 - val_loss: 2.3026 - val_accuracy: 0.1000\n",
            "Epoch 11/25\n",
            "1563/1563 [==============================] - 6s 4ms/step - loss: 2.3026 - accuracy: 0.1000 - val_loss: 2.3026 - val_accuracy: 0.1000\n",
            "Epoch 12/25\n",
            "1563/1563 [==============================] - 6s 4ms/step - loss: 2.3026 - accuracy: 0.1000 - val_loss: 2.3026 - val_accuracy: 0.1000\n",
            "Epoch 13/25\n",
            "1563/1563 [==============================] - 7s 4ms/step - loss: 2.3026 - accuracy: 0.1000 - val_loss: 2.3026 - val_accuracy: 0.1000\n",
            "Epoch 14/25\n",
            "1563/1563 [==============================] - 6s 4ms/step - loss: 2.3026 - accuracy: 0.1000 - val_loss: 2.3026 - val_accuracy: 0.1000\n",
            "Epoch 15/25\n",
            "1563/1563 [==============================] - 6s 4ms/step - loss: 2.3026 - accuracy: 0.1000 - val_loss: 2.3026 - val_accuracy: 0.1000\n",
            "Epoch 16/25\n",
            "1563/1563 [==============================] - 7s 4ms/step - loss: 2.3026 - accuracy: 0.1000 - val_loss: 2.3026 - val_accuracy: 0.1000\n",
            "Epoch 17/25\n",
            "1563/1563 [==============================] - 6s 4ms/step - loss: 2.3026 - accuracy: 0.1000 - val_loss: 2.3026 - val_accuracy: 0.1000\n",
            "Epoch 18/25\n",
            "1563/1563 [==============================] - 6s 4ms/step - loss: 2.3026 - accuracy: 0.1000 - val_loss: 2.3026 - val_accuracy: 0.1000\n",
            "Epoch 19/25\n",
            "1563/1563 [==============================] - 6s 4ms/step - loss: 2.3026 - accuracy: 0.1000 - val_loss: 2.3026 - val_accuracy: 0.1000\n",
            "Epoch 20/25\n",
            "1563/1563 [==============================] - 6s 4ms/step - loss: 2.3026 - accuracy: 0.1000 - val_loss: 2.3026 - val_accuracy: 0.1000\n",
            "Epoch 21/25\n",
            "1563/1563 [==============================] - 6s 4ms/step - loss: 2.3026 - accuracy: 0.1000 - val_loss: 2.3026 - val_accuracy: 0.1000\n",
            "Epoch 22/25\n",
            "1563/1563 [==============================] - 6s 4ms/step - loss: 2.3026 - accuracy: 0.1000 - val_loss: 2.3026 - val_accuracy: 0.1000\n",
            "Epoch 23/25\n",
            "1563/1563 [==============================] - 6s 4ms/step - loss: 2.3026 - accuracy: 0.1000 - val_loss: 2.3026 - val_accuracy: 0.1000\n",
            "Epoch 24/25\n",
            "1563/1563 [==============================] - 6s 4ms/step - loss: 2.3026 - accuracy: 0.1000 - val_loss: 2.3026 - val_accuracy: 0.1000\n",
            "Epoch 25/25\n",
            "1563/1563 [==============================] - 6s 4ms/step - loss: 2.3026 - accuracy: 0.1000 - val_loss: 2.3026 - val_accuracy: 0.1000\n"
          ]
        }
      ]
    },
    {
      "cell_type": "markdown",
      "source": [
        "**Problem 2.3**\n",
        "\n",
        "I have compared different learning rates as well as different batch size. From the result, we can see that learning rate works well when the value of the learning rate is small. And, the batch size does not have any significant effect as far as the performance is concern."
      ],
      "metadata": {
        "id": "Z1ICDKxfmFsv"
      }
    },
    {
      "cell_type": "code",
      "source": [
        "plt.plot(history.history['accuracy'], label='accuracy')\n",
        "plt.xlabel('Epoch')\n",
        "plt.ylabel('Accuracy')\n",
        "plt.ylim([0.5, 1])\n",
        "plt.legend(loc='lower right')\n",
        "\n",
        "test_loss, test_acc = model.evaluate(train_images, train_labels)"
      ],
      "metadata": {
        "colab": {
          "base_uri": "https://localhost:8080/",
          "height": 300
        },
        "id": "c9VqCO56bE6y",
        "outputId": "e704e049-c8c0-4b8c-a11e-f896fb6af997"
      },
      "execution_count": 12,
      "outputs": [
        {
          "output_type": "stream",
          "name": "stdout",
          "text": [
            "1563/1563 [==============================] - 7s 5ms/step - loss: 2.3026 - accuracy: 0.1000\n"
          ]
        },
        {
          "output_type": "display_data",
          "data": {
            "text/plain": [
              "<Figure size 432x288 with 1 Axes>"
            ],
            "image/png": "[encoded data removed]"
          },
          "metadata": {
            "needs_background": "light"
          }
        }
      ]
    },
    {
      "cell_type": "code",
      "source": [
        "model.summary()"
      ],
      "metadata": {
        "colab": {
          "base_uri": "https://localhost:8080/"
        },
        "id": "DmYCsXUQlRle",
        "outputId": "eab8567b-6e81-40a7-d041-327330568388"
      },
      "execution_count": 13,
      "outputs": [
        {
          "output_type": "stream",
          "name": "stdout",
          "text": [
            "Model: \"sequential_2\"\n",
            "_________________________________________________________________\n",
            " Layer (type)                Output Shape              Param #   \n",
            "=================================================================\n",
            " flatten_1 (Flatten)         (None, 3072)              0         \n",
            "                                                                 \n",
            " dense_5 (Dense)             (None, 6)                 18438     \n",
            "                                                                 \n",
            " dense_6 (Dense)             (None, 16)                112       \n",
            "                                                                 \n",
            " dense_7 (Dense)             (None, 120)               2040      \n",
            "                                                                 \n",
            " dense_8 (Dense)             (None, 84)                10164     \n",
            "                                                                 \n",
            " dense_9 (Dense)             (None, 10)                850       \n",
            "                                                                 \n",
            "=================================================================\n",
            "Total params: 31,604\n",
            "Trainable params: 31,604\n",
            "Non-trainable params: 0\n",
            "_________________________________________________________________\n"
          ]
        }
      ]
    },
    {
      "cell_type": "markdown",
      "source": [
        "**Problem 2.4.a**\n",
        "\n",
        "From the result, we can see that, the equvalent feed forward network is very poor based on its performance compared to LeNet.\n",
        "\n",
        "\n",
        "**Problem 2.4.b**\n",
        "\n",
        "From the model summary, we get-\n",
        "\n",
        "i. Number of parameters in LeNet is 62,006.\n",
        "ii. Number of parameters in Feed Forward Net is 31,604.\n",
        "\n",
        "As you can see, Feed Forward Net is almost half the parameters in comparison with LeNet, but it is NOT worth it, as the result of Feed Forward Net is very poor compared to LeNet."
      ],
      "metadata": {
        "id": "A-siZadibVZj"
      }
    }
  ],
  "metadata": {
    "colab": {
      "provenance": [],
      "authorship_tag": "ABX9TyOX/vQp243AQNSEJCfboUgl",
      "include_colab_link": true
    },
    "kernelspec": {
      "display_name": "Python 3",
      "name": "python3"
    },
    "language_info": {
      "name": "python"
    },
    "accelerator": "GPU",
    "gpuClass": "standard"
  },
  "nbformat": 4,
  "nbformat_minor": 0
}