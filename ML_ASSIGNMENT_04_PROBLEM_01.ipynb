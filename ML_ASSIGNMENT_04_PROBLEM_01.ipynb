{
  "nbformat": 4,
  "nbformat_minor": 0,
  "metadata": {
    "colab": {
      "provenance": [],
      "authorship_tag": "ABX9TyP5SYgo0KSnvDf2VFuGplMT",
      "include_colab_link": true
    },
    "kernelspec": {
      "name": "python3",
      "display_name": "Python 3"
    },
    "language_info": {
      "name": "python"
    }
  },
  "cells": [
    {
      "cell_type": "markdown",
      "metadata": {
        "id": "view-in-github",
        "colab_type": "text"
      },
      "source": [
        "<a href=\"https://colab.research.google.com/github/CopotronicRifat/CS-5783-Machine-Learning-Assignments/blob/main/ML_ASSIGNMENT_04_PROBLEM_01.ipynb\" target=\"_parent\"><img src=\"https://colab.research.google.com/assets/colab-badge.svg\" alt=\"Open In Colab\"/></a>"
      ]
    },
    {
      "cell_type": "code",
      "execution_count": null,
      "metadata": {
        "id": "IVqpwVrwM8x4"
      },
      "outputs": [],
      "source": [
        "# IMPORT PACKAGES\n",
        "\n",
        "import numpy as np\n",
        "import pandas as pd"
      ]
    },
    {
      "cell_type": "code",
      "source": [
        "# DRIVE MOUNT\n",
        "\n",
        "from google.colab import drive\n",
        "drive.mount('/content/drive')"
      ],
      "metadata": {
        "colab": {
          "base_uri": "https://localhost:8080/"
        },
        "id": "VU5SlQGXP04u",
        "outputId": "01775c7c-3986-452a-9b36-098164217d3a"
      },
      "execution_count": null,
      "outputs": [
        {
          "output_type": "stream",
          "name": "stdout",
          "text": [
            "Mounted at /content/drive\n"
          ]
        }
      ]
    },
    {
      "cell_type": "code",
      "source": [
        "# READ DATA FROM DRIVE\n",
        "\n",
        "housing_data = pd.ExcelFile(\"/content/drive/My Drive/Asssignment4_Data.xlsx\")\n",
        "train_df = pd.read_excel(housing_data, 'Train', index_col = 'House ID')\n",
        "test_df = pd.read_excel(housing_data, 'Test', index_col = 'House ID')"
      ],
      "metadata": {
        "id": "0n7bBf1TNZN1"
      },
      "execution_count": null,
      "outputs": []
    },
    {
      "cell_type": "code",
      "source": [
        "# PRINT TRAINING DATA\n",
        "\n",
        "print(train_df)"
      ],
      "metadata": {
        "colab": {
          "base_uri": "https://localhost:8080/"
        },
        "id": "GrdNXcrCQAPV",
        "outputId": "cc6dfad0-2f3b-4dd9-9c8c-e53ac32c0eac"
      },
      "execution_count": null,
      "outputs": [
        {
          "output_type": "stream",
          "name": "stdout",
          "text": [
            "          Local Price  Bathrooms  Land Area  Living area  # Garages  # Rooms  \\\n",
            "House ID                                                                       \n",
            "1              4.9176        1.0     3.4720        0.998        1.0        7   \n",
            "2              5.0208        1.0     3.5310        1.500        2.0        7   \n",
            "3              4.5429        1.0     2.2750        1.175        1.0        6   \n",
            "4              4.5573        1.0     4.0500        1.232        1.0        6   \n",
            "5              5.0597        1.0     4.4550        1.121        1.0        6   \n",
            "6              3.8910        1.0     4.4550        0.988        1.0        6   \n",
            "7              5.8980        1.0     5.8500        1.240        1.0        7   \n",
            "8              5.6039        1.0     9.5200        1.501        0.0        6   \n",
            "9             16.4202        2.5     9.8000        3.420        2.0       10   \n",
            "10            14.4598        2.5    12.8000        3.000        2.0        9   \n",
            "11             5.8282        1.0     6.4350        1.225        2.0        6   \n",
            "12             5.3003        1.0     4.9883        1.552        1.0        6   \n",
            "13             6.2712        1.0     5.5200        0.975        1.0        5   \n",
            "14             5.9592        1.0     6.6660        1.121        2.0        6   \n",
            "15             5.0500        1.0     5.0000        1.020        0.0        5   \n",
            "16             5.6039        1.0     9.5200        1.501        0.0        6   \n",
            "17             8.2464        1.5     5.1500        1.664        2.0        8   \n",
            "18             6.6969        1.5     6.9020        1.488        1.5        7   \n",
            "19             7.7841        1.5     7.1020        1.376        1.0        6   \n",
            "20             9.0384        1.0     7.8000        1.500        1.5        7   \n",
            "\n",
            "          # Bedrooms  Age of home Construction type  \n",
            "House ID                                             \n",
            "1                  4           42         Apartment  \n",
            "2                  4           62             House  \n",
            "3                  3           40             Condo  \n",
            "4                  3           54         Apartment  \n",
            "5                  3           42         Apartment  \n",
            "6                  3           56             Condo  \n",
            "7                  3           51             Condo  \n",
            "8                  3           32             House  \n",
            "9                  5           42             Condo  \n",
            "10                 5           14         Apartment  \n",
            "11                 3           32             House  \n",
            "12                 3           30             House  \n",
            "13                 2           30             House  \n",
            "14                 3           32             Condo  \n",
            "15                 2           46         Apartment  \n",
            "16                 3           32             House  \n",
            "17                 4           50         Apartment  \n",
            "18                 3           22             House  \n",
            "19                 3           17             Condo  \n",
            "20                 3           23         Apartment  \n"
          ]
        }
      ]
    },
    {
      "cell_type": "code",
      "source": [
        "# PRINT TEST DATA\n",
        "\n",
        "print(test_df)"
      ],
      "metadata": {
        "colab": {
          "base_uri": "https://localhost:8080/"
        },
        "id": "uNZoHfKxQW2f",
        "outputId": "e2a36599-ac2c-4c90-db50-e0619d5c8c56"
      },
      "execution_count": null,
      "outputs": [
        {
          "output_type": "stream",
          "name": "stdout",
          "text": [
            "          Local Price  Bathrooms  Land Area  Living area  # Garages  # Rooms  \\\n",
            "House ID                                                                       \n",
            "24             6.0931        1.5     6.7265        1.652        1.0        6   \n",
            "25             8.3607        1.5     9.1500        1.777        2.0        8   \n",
            "26             8.1400        1.0     8.0000        1.504        2.0        7   \n",
            "27             9.1416        1.5     7.3262        1.831        1.5        8   \n",
            "28            12.0000        1.5     5.0000        1.200        2.0        6   \n",
            "\n",
            "          # Bedrooms  Age of home Construction type  \n",
            "House ID                                             \n",
            "24                 3           44         Apartment  \n",
            "25                 4           48             House  \n",
            "26                 3            3             House  \n",
            "27                 4           31         Apartment  \n",
            "28                 3           30         Apartment  \n"
          ]
        }
      ]
    },
    {
      "cell_type": "markdown",
      "source": [],
      "metadata": {
        "id": "XO2YZRKiQ04_"
      }
    },
    {
      "cell_type": "code",
      "source": [
        "# PROBLEM 1.1\n",
        "\n",
        "# MEAN AND STANDARD DEVIATION FOR EACH FEATURES (CALCULATED BY HAND)\n",
        "\n",
        "Local_Price_Mean   = [7.3327, 7.4159, 5.7607] \n",
        "Local_Price_SD     = [3.6160, 4.6112, 0.5701] \n",
        "Bathrooms_Mean     = [1.2857, 1.3333, 1.0714]\n",
        "Bathrooms_SD       = [0.5669, 0.6055, 0.1890]\n",
        "Land_Area_Mean     = [6.1039, 6.0250, 6.6309]\n",
        "Land_Area_SD       = [3.2585, 2.5448, 2.2490]\n",
        "Living_Area_Mean   = [1.5050, 1.5533, 1.3917]\n",
        "Living_Area_SD     = [0.7041, 0.9234, 0.2129]\n",
        "Garages_Mean       = [1.2143, 1.3333, 1.0714]\n",
        "Garages_SD         = [0.6986, 0.5164, 0.8381]\n",
        "Rooms_Mean         = [6.8571, 6.8333, 6.1429]\n",
        "Rooms_SD           = [1.3452, 1.6021, 0.6901]\n",
        "Bedrooms_Mean      = [3.4286, 3.3333, 3.0000]\n",
        "Bedrooms_SD        = [0.9759, 0.8165, 0.5774]\n",
        "Age_of_Home_Mean   = [38.7143, 39.6667, 34.2857]\n",
        "Age_of_Home_SD     = [14.6824, 13.9523, 12.7242]"
      ],
      "metadata": {
        "id": "olBlpjeeQjoR"
      },
      "execution_count": null,
      "outputs": []
    },
    {
      "cell_type": "code",
      "source": [
        "# MEAN AND STANDARD DEVIATION CALCULATION\n",
        "\n",
        "Construction_Type = ['Apartment', 'Condo', 'House'] \n",
        "list_of_tuples = list(zip(Construction_Type, Local_Price_Mean, Local_Price_SD, Bathrooms_Mean, Bathrooms_SD, Land_Area_Mean, Land_Area_SD, Living_Area_Mean, Living_Area_SD, Garages_Mean, Garages_SD, Rooms_Mean, Rooms_SD, Bedrooms_Mean, Bedrooms_SD, Age_of_Home_Mean, Age_of_Home_SD))   \n",
        "Mean_SD = pd.DataFrame(list_of_tuples, columns = ['Construction Type', 'Local Price Mean','Local Price SD','Bathrooms Mean','Bathrooms SD','Land Area Mean','Land Area SD','Living Area Mean','Living Area SD','Garages Mean','Garages SD','Rooms Mean','Rooms SD','Bedrooms Mean','Bedrooms SD','Age of Home Mean','Age of Home SD']) "
      ],
      "metadata": {
        "id": "Y4vFkzXgSVhK"
      },
      "execution_count": null,
      "outputs": []
    },
    {
      "cell_type": "code",
      "source": [
        "# PRINT MEAN STANDARD DEVIATION\n",
        "\n",
        "print(Mean_SD)"
      ],
      "metadata": {
        "colab": {
          "base_uri": "https://localhost:8080/"
        },
        "id": "4lIzKoq1Stsq",
        "outputId": "d8551277-e356-4e8e-8ee4-048a8286f06c"
      },
      "execution_count": null,
      "outputs": [
        {
          "output_type": "stream",
          "name": "stdout",
          "text": [
            "  Construction Type  Local Price Mean  Local Price SD  Bathrooms Mean  \\\n",
            "0         Apartment            7.3327          3.6160          1.2857   \n",
            "1             Condo            7.4159          4.6112          1.3333   \n",
            "2             House            5.7607          0.5701          1.0714   \n",
            "\n",
            "   Bathrooms SD  Land Area Mean  Land Area SD  Living Area Mean  \\\n",
            "0        0.5669          6.1039        3.2585            1.5050   \n",
            "1        0.6055          6.0250        2.5448            1.5533   \n",
            "2        0.1890          6.6309        2.2490            1.3917   \n",
            "\n",
            "   Living Area SD  Garages Mean  Garages SD  Rooms Mean  Rooms SD  \\\n",
            "0          0.7041        1.2143      0.6986      6.8571    1.3452   \n",
            "1          0.9234        1.3333      0.5164      6.8333    1.6021   \n",
            "2          0.2129        1.0714      0.8381      6.1429    0.6901   \n",
            "\n",
            "   Bedrooms Mean  Bedrooms SD  Age of Home Mean  Age of Home SD  \n",
            "0         3.4286       0.9759           38.7143         14.6824  \n",
            "1         3.3333       0.8165           39.6667         13.9523  \n",
            "2         3.0000       0.5774           34.2857         12.7242  \n"
          ]
        }
      ]
    },
    {
      "cell_type": "code",
      "source": [
        "# CALCULATION OF CONDITIONAL PROBABILITY FOR HOUSE ID 24\n",
        "\n",
        "Local_Price_Probability   = [0.1040, 0.0830, 0.5904] \n",
        "Bathrooms_Probability     = [0.6552, 0.6344, 0.1613]\n",
        "Land_Area_Probability     = [0.1202, 0.1509, 0.1772]\n",
        "Living_Area_Probability   = [0.5544, 0.4296, 0.8874]\n",
        "Garages_Probability       = [0.5448, 0.6273, 0.4742]\n",
        "Rooms_Probability         = [0.2421, 0.2175, 0.5658]\n",
        "Bedrooms_Probability      = [0.3712, 0.4495, 0.6909]\n",
        "Age_of_Home_Probability   = [0.0255, 0.0272, 0.0234]"
      ],
      "metadata": {
        "id": "1A0D4UfNTTkt"
      },
      "execution_count": null,
      "outputs": []
    },
    {
      "cell_type": "code",
      "source": [
        "# FOR HOUSE 24\n",
        "\n",
        "Construction_Type = ['Apartment', 'Condo', 'House']  \n",
        "list_of_tuples = list(zip(Construction_Type, Local_Price_Probability, Bathrooms_Probability, Land_Area_Probability, Living_Area_Probability, Garages_Probability, Rooms_Probability, Bedrooms_Probability, Age_of_Home_Probability))   \n",
        "Probability_24 = pd.DataFrame(list_of_tuples, columns = ['Construction Type', 'Local Price Probability','Bathrooms Probability','Land Area Probability','Living Area Probability','Garages Probability','Rooms Probability','Bedrooms Probability','Age_of_Home_Probability'])  \n",
        "print(Probability_24)"
      ],
      "metadata": {
        "colab": {
          "base_uri": "https://localhost:8080/"
        },
        "id": "o990ba-rfFI9",
        "outputId": "fa84578a-b202-4bce-d8ae-d35eb195a67a"
      },
      "execution_count": null,
      "outputs": [
        {
          "output_type": "stream",
          "name": "stdout",
          "text": [
            "  Construction Type  Local Price Probability  Bathrooms Probability  \\\n",
            "0         Apartment                   0.1040                 0.6552   \n",
            "1             Condo                   0.0830                 0.6344   \n",
            "2             House                   0.5904                 0.1613   \n",
            "\n",
            "   Land Area Probability  Living Area Probability  Garages Probability  \\\n",
            "0                 0.1202                   0.5544               0.5448   \n",
            "1                 0.1509                   0.4296               0.6273   \n",
            "2                 0.1772                   0.8874               0.4742   \n",
            "\n",
            "   Rooms Probability  Bedrooms Probability  Age_of_Home_Probability  \n",
            "0             0.2421                0.3712                   0.0255  \n",
            "1             0.2175                0.4495                   0.0272  \n",
            "2             0.5658                0.6909                   0.0234  \n"
          ]
        }
      ]
    },
    {
      "cell_type": "code",
      "source": [
        "# CALCULATION OF CONDITIONAL PROBABILITY FOR HOUSE ID 25\n",
        "\n",
        "Local_Price_Probability   = [0.1060, 0.0847, 0.00002131] \n",
        "Bathrooms_Probability     = [0.6552, 0.6344, 0.1613]\n",
        "Land_Area_Probability     = [0.0791, 0.0738, 0.0947]\n",
        "Living_Area_Probability   = [0.5259, 0.4195, 0.3643]\n",
        "Garages_Probability       = [0.3034, 0.3357, 0.2577]\n",
        "Rooms_Probability         = [0.2067, 0.1910, 0.0155]\n",
        "Bedrooms_Probability      = [0.3444, 0.3501, 0.1542]\n",
        "Age_of_Home_Probability   = [0.0222, 0.0239, 0.0175]"
      ],
      "metadata": {
        "id": "znUqUqypfR2j"
      },
      "execution_count": null,
      "outputs": []
    },
    {
      "cell_type": "code",
      "source": [
        "# FOR HOUSE 25\n",
        "\n",
        "list_of_tuples = list(zip(Construction_Type, Local_Price_Probability, Bathrooms_Probability, Land_Area_Probability, Living_Area_Probability, Garages_Probability, Rooms_Probability, Bedrooms_Probability, Age_of_Home_Probability))   \n",
        "Probability25 = pd.DataFrame(list_of_tuples, columns = ['Construction Type', 'Local Price Probability','Bathrooms Probability','Land Area Probability','Living Area Probability','Garages Probability','Rooms Probability','Bedrooms Probability','Age_of_Home_Probability'])  \n",
        "print(Probability25)"
      ],
      "metadata": {
        "colab": {
          "base_uri": "https://localhost:8080/"
        },
        "id": "MQigYt2NfspB",
        "outputId": "61d65878-f3a8-43a9-af98-434a368487cf"
      },
      "execution_count": null,
      "outputs": [
        {
          "output_type": "stream",
          "name": "stdout",
          "text": [
            "  Construction Type  Local Price Probability  Bathrooms Probability  \\\n",
            "0         Apartment                 0.106000                 0.6552   \n",
            "1             Condo                 0.084700                 0.6344   \n",
            "2             House                 0.000021                 0.1613   \n",
            "\n",
            "   Land Area Probability  Living Area Probability  Garages Probability  \\\n",
            "0                 0.0791                   0.5259               0.3034   \n",
            "1                 0.0738                   0.4195               0.3357   \n",
            "2                 0.0947                   0.3643               0.2577   \n",
            "\n",
            "   Rooms Probability  Bedrooms Probability  Age_of_Home_Probability  \n",
            "0             0.2067                0.3444                   0.0222  \n",
            "1             0.1910                0.3501                   0.0239  \n",
            "2             0.0155                0.1542                   0.0175  \n"
          ]
        }
      ]
    },
    {
      "cell_type": "code",
      "source": [
        "# CALCULATION OF CONDITIONAL PROBABILITY FOR HOUSE ID 26\n",
        "\n",
        "Local_Price_Probability   = [0.1076, 0.0855, 0.00001155] \n",
        "Bathrooms_Probability     = [0.6198, 0.5662, 1.9654]\n",
        "Land_Area_Probability     = [0.1034, 0.1160, 0.1474]\n",
        "Living_Area_Probability   = [0.5666, 0.4314, 1.6305]\n",
        "Garages_Probability       = [0.3034, 0.3357, 0.2577]\n",
        "Rooms_Probability         = [0.2949, 0.2477, 0.2673]\n",
        "Bedrooms_Probability      = [0.3712, 0.4495, 0.6909]\n",
        "Age_of_Home_Probability   = [0.00141, 0.00009048, 0.001526]"
      ],
      "metadata": {
        "id": "R9TKnbmyf_zn"
      },
      "execution_count": null,
      "outputs": []
    },
    {
      "cell_type": "code",
      "source": [
        "# FOR HOUSE 26\n",
        "\n",
        "list_of_tuples = list(zip(Construction_Type, Local_Price_Probability, Bathrooms_Probability, Land_Area_Probability, Living_Area_Probability, Garages_Probability, Rooms_Probability, Bedrooms_Probability, Age_of_Home_Probability))   \n",
        "Probability26 = pd.DataFrame(list_of_tuples, columns = ['Construction Type', 'Local Price Probability','Bathrooms Probability','Land Area Probability','Living Area Probability','Garages Probability','Rooms Probability','Bedrooms Probability','Age_of_Home_Probability'])  \n",
        "print(Probability26)"
      ],
      "metadata": {
        "colab": {
          "base_uri": "https://localhost:8080/"
        },
        "id": "yNNNeYLqgMvl",
        "outputId": "1c11af7a-3aff-4fe3-b3f4-78dd89f5a84f"
      },
      "execution_count": null,
      "outputs": [
        {
          "output_type": "stream",
          "name": "stdout",
          "text": [
            "  Construction Type  Local Price Probability  Bathrooms Probability  \\\n",
            "0         Apartment                 0.107600                 0.6198   \n",
            "1             Condo                 0.085500                 0.5662   \n",
            "2             House                 0.000012                 1.9654   \n",
            "\n",
            "   Land Area Probability  Living Area Probability  Garages Probability  \\\n",
            "0                 0.1034                   0.5666               0.3034   \n",
            "1                 0.1160                   0.4314               0.3357   \n",
            "2                 0.1474                   1.6305               0.2577   \n",
            "\n",
            "   Rooms Probability  Bedrooms Probability  Age_of_Home_Probability  \n",
            "0             0.2949                0.3712                 0.001410  \n",
            "1             0.2477                0.4495                 0.000090  \n",
            "2             0.2673                0.6909                 0.001526  \n"
          ]
        }
      ]
    },
    {
      "cell_type": "code",
      "source": [
        "# CALCULATION OF CONDITIONAL PROBABILITY FOR HOUSE ID 27\n",
        "\n",
        "Local_Price_Probability   = [0.0973, 0.0807, 0.00000001615] \n",
        "Bathrooms_Probability     = [0.6552, 0.6344, 0.1613]\n",
        "Land_Area_Probability     = [0.1141, 0.1376, 0.1691]\n",
        "Living_Area_Probability   = [0.5090, 0.4129, 0.2229]\n",
        "Garages_Probability       = [0.5252, 0.7333, 0.4177]\n",
        "Rooms_Probability         = [0.2067, 0.1910, 0.0155]\n",
        "Bedrooms_Probability      = [0.3444, 0.3501, 0.1542]\n",
        "Age_of_Home_Probability   = [0.0237, 0.0236, 0.0303]"
      ],
      "metadata": {
        "id": "X2UAr9MpgRcu"
      },
      "execution_count": null,
      "outputs": []
    },
    {
      "cell_type": "code",
      "source": [
        "# FOR HOUSE 27\n",
        "\n",
        "list_of_tuples = list(zip(Construction_Type, Local_Price_Probability, Bathrooms_Probability, Land_Area_Probability, Living_Area_Probability, Garages_Probability, Rooms_Probability, Bedrooms_Probability, Age_of_Home_Probability))   \n",
        "Probability27 = pd.DataFrame(list_of_tuples, columns = ['Construction Type', 'Local Price Probability','Bathrooms Probability','Land Area Probability','Living Area Probability','Garages Probability','Rooms Probability','Bedrooms Probability','Age_of_Home_Probability'])  \n",
        "print(Probability27)"
      ],
      "metadata": {
        "colab": {
          "base_uri": "https://localhost:8080/"
        },
        "id": "WVbIelI7gVLx",
        "outputId": "686a2778-fd6d-42d6-e8d6-648f8f66cb30"
      },
      "execution_count": null,
      "outputs": [
        {
          "output_type": "stream",
          "name": "stdout",
          "text": [
            "  Construction Type  Local Price Probability  Bathrooms Probability  \\\n",
            "0         Apartment             9.730000e-02                 0.6552   \n",
            "1             Condo             8.070000e-02                 0.6344   \n",
            "2             House             1.615000e-08                 0.1613   \n",
            "\n",
            "   Land Area Probability  Living Area Probability  Garages Probability  \\\n",
            "0                 0.1141                   0.5090               0.5252   \n",
            "1                 0.1376                   0.4129               0.7333   \n",
            "2                 0.1691                   0.2229               0.4177   \n",
            "\n",
            "   Rooms Probability  Bedrooms Probability  Age_of_Home_Probability  \n",
            "0             0.2067                0.3444                   0.0237  \n",
            "1             0.1910                0.3501                   0.0236  \n",
            "2             0.0155                0.1542                   0.0303  \n"
          ]
        }
      ]
    },
    {
      "cell_type": "code",
      "source": [
        "# CALCULATION OF CONDITIONAL PROBABILITY FOR HOUSE ID 28\n",
        "\n",
        "Local_Price_Probability   = [0.0480, 0.0528, 0.000000000000000000000000006854] \n",
        "Bathrooms_Probability     = [0.6552, 0.6344, 0.1613]\n",
        "Land_Area_Probability     = [0.1156, 0.1446, 0.1364]\n",
        "Living_Area_Probability   = [0.5159, 0.4015, 1.2493]\n",
        "Garages_Probability       = [0.3034, 0.3357, 0.2577]\n",
        "Rooms_Probability         = [0.2421, 0.2175, 0.5658]\n",
        "Bedrooms_Probability      = [0.3712, 0.4495, 0.6909]\n",
        "Age_of_Home_Probability   = [0.0228, 0.0225, 0.0296]"
      ],
      "metadata": {
        "id": "Qyx6KqjcgiVT"
      },
      "execution_count": null,
      "outputs": []
    },
    {
      "cell_type": "code",
      "source": [
        "# FOR HOUSE 28\n",
        "\n",
        "list_of_tuples = list(zip(Construction_Type, Local_Price_Probability, Bathrooms_Probability, Land_Area_Probability, Living_Area_Probability, Garages_Probability, Rooms_Probability, Bedrooms_Probability, Age_of_Home_Probability))   \n",
        "Probability28 = pd.DataFrame(list_of_tuples, columns = ['Construction Type', 'Local Price Probability','Bathrooms Probability','Land Area Probability','Living Area Probability','Garages Probability','Rooms Probability','Bedrooms Probability','Age_of_Home_Probability'])  \n",
        "print(Probability28)"
      ],
      "metadata": {
        "colab": {
          "base_uri": "https://localhost:8080/"
        },
        "id": "4jbyaDMFgmV_",
        "outputId": "9f3938b3-0440-4b0b-f851-8019f3a7513a"
      },
      "execution_count": null,
      "outputs": [
        {
          "output_type": "stream",
          "name": "stdout",
          "text": [
            "  Construction Type  Local Price Probability  Bathrooms Probability  \\\n",
            "0         Apartment             4.800000e-02                 0.6552   \n",
            "1             Condo             5.280000e-02                 0.6344   \n",
            "2             House             6.854000e-27                 0.1613   \n",
            "\n",
            "   Land Area Probability  Living Area Probability  Garages Probability  \\\n",
            "0                 0.1156                   0.5159               0.3034   \n",
            "1                 0.1446                   0.4015               0.3357   \n",
            "2                 0.1364                   1.2493               0.2577   \n",
            "\n",
            "   Rooms Probability  Bedrooms Probability  Age_of_Home_Probability  \n",
            "0             0.2421                0.3712                   0.0228  \n",
            "1             0.2175                0.4495                   0.0225  \n",
            "2             0.5658                0.6909                   0.0296  \n"
          ]
        }
      ]
    },
    {
      "cell_type": "markdown",
      "source": [
        "**PROBLEM 1.2**"
      ],
      "metadata": {
        "id": "OXU_R9QngtSy"
      }
    },
    {
      "cell_type": "code",
      "source": [
        "# MAP RULE FOR HOUSE ID 24\n",
        "\n",
        "Apartment_Probability = (0.1040 * 0.6552 * 0.1202 * 0.5544 * 0.5448 * 0.2421 * 0.3712 * 0.0255) * (7/20)\n",
        "print(Apartment_Probability)\n",
        "\n",
        "Condo_Probability = (0.083 * 0.6344 * 0.1509 * 0.4296 * 0.6273 * 0.2175 * 0.4495 * 0.0272) * (6/20)\n",
        "print(Condo_Probability)\n",
        "\n",
        "House_Probability = (0.5904 * 0.1613 * 0.1772 * 0.8874 * 0.4742 * 0.5658 * 0.6909 * 0.0234) * (7/20)\n",
        "print(House_Probability)\n",
        "\n",
        "print(\"House ID 24 is predicted as: \")\n",
        "map_classify = max(Apartment_Probability, Condo_Probability, House_Probability)\n",
        "if (map_classify==Apartment_Probability):\n",
        "  print(\"Apartment\")\n",
        "if (map_classify==Condo_Probability):\n",
        "  print(\"Condo\")\n",
        "if (map_classify==House_Probability):\n",
        "  print(\"House\")"
      ],
      "metadata": {
        "colab": {
          "base_uri": "https://localhost:8080/"
        },
        "id": "8qw6danNgwY7",
        "outputId": "e62aa712-65d8-40cf-8884-36b0c08c6470"
      },
      "execution_count": null,
      "outputs": [
        {
          "output_type": "stream",
          "name": "stdout",
          "text": [
            "1.9841888188414975e-06\n",
            "1.7082411633024023e-06\n",
            "2.273460669294739e-05\n",
            "House ID 24 is predicted as: \n",
            "House\n"
          ]
        }
      ]
    },
    {
      "cell_type": "code",
      "source": [
        "# MAP RULE FOR HOUSE ID 25\n",
        "\n",
        "Apartment_Probability = (0.1060 * 0.6552 * 0.0791 * 0.5259 * 0.3034 * 0.2067 * 0.3444 * 0.0222) * (7/20)\n",
        "print(Apartment_Probability)\n",
        "\n",
        "Condo_Probability = (0.0847 * 0.6344 * 0.0738 * 0.4195 * 0.3357 * 0.1910 * 0.3501 * 0.0239) * (6/20)\n",
        "print(Condo_Probability)\n",
        "\n",
        "House_Probability = (0.00002131 * 0.1613 * 0.0947 * 0.3643 * 0.2577 * 0.0155 * 0.1542 * 0.0175) * (7/20)\n",
        "print(House_Probability)\n",
        "\n",
        "print(\"House ID 25 is predicted as: \")\n",
        "map_classify = max(Apartment_Probability, Condo_Probability, House_Probability)\n",
        "if (map_classify==Apartment_Probability):\n",
        "  print(\"Apartment\")\n",
        "if (map_classify==Condo_Probability):\n",
        "  print(\"Condo\")\n",
        "if (map_classify==House_Probability):\n",
        "  print(\"House\")"
      ],
      "metadata": {
        "colab": {
          "base_uri": "https://localhost:8080/"
        },
        "id": "F4ednhS-hXUg",
        "outputId": "bf6b636a-2282-4fd6-b98b-023e0c18ac6f"
      },
      "execution_count": null,
      "outputs": [
        {
          "output_type": "stream",
          "name": "stdout",
          "text": [
            "4.84841317817334e-07\n",
            "2.677508674735345e-07\n",
            "4.473665937135081e-13\n",
            "House ID 25 is predicted as: \n",
            "Apartment\n"
          ]
        }
      ]
    },
    {
      "cell_type": "code",
      "source": [
        "# MAP RULE FOR HOUSE ID 26\n",
        "\n",
        "Apartment_Probability = (0.1076 * 0.6198 * 0.1034 * 0.5666 * 0.3034 * 0.2949 * 0.3712 * 0.001410) * (7/20)\n",
        "print(Apartment_Probability)\n",
        "\n",
        "Condo_Probability = (0.0855 * 0.5662 * 0.1160 * 0.4314 * 0.3357 * 0.2477 * 0.4495 * 0.00009048) * (6/20)\n",
        "print(Condo_Probability)\n",
        "\n",
        "House_Probability = (0.00001155 * 1.9654 * 0.1474 * 1.6305 * 0.2577 * 0.2673 * 0.6909 * 0.001526) * (7/20)\n",
        "print(House_Probability)\n",
        "\n",
        "print(\"House ID 26 is predicted as: \")\n",
        "map_classify = max(Apartment_Probability, Condo_Probability, House_Probability)\n",
        "if (map_classify==Apartment_Probability):\n",
        "  print(\"Apartment\")\n",
        "if (map_classify==Condo_Probability):\n",
        "  print(\"Condo\")\n",
        "if (map_classify==House_Probability):\n",
        "  print(\"House\")"
      ],
      "metadata": {
        "colab": {
          "base_uri": "https://localhost:8080/"
        },
        "id": "N-n1gdNIiIBT",
        "outputId": "79467897-4773-404c-97b0-9074f61f06dd"
      },
      "execution_count": null,
      "outputs": [
        {
          "output_type": "stream",
          "name": "stdout",
          "text": [
            "6.403927782832104e-08\n",
            "2.4578478803659445e-09\n",
            "1.386763398413728e-10\n",
            "House ID 26 is predicted as: \n",
            "Apartment\n"
          ]
        }
      ]
    },
    {
      "cell_type": "code",
      "source": [
        "# MAP RULE FOR HOUSE ID 27\n",
        "\n",
        "Apartment_Probability = (0.0973 * 0.6552 * 0.1141 * 0.5090 * 0.5252 * 0.2067 * 0.3444 * 0.0237) * (7/20)\n",
        "print(Apartment_Probability)\n",
        "\n",
        "Condo_Probability = (0.0807 * 0.6344 * 0.1376 * 0.4129 * 0.7333 * 0.1910 * 0.3501 * 0.0236) * (6/20)\n",
        "print(Condo_Probability)\n",
        "\n",
        "House_Probability = (1.615e-08 * 0.1613 * 0.1691 * 0.2229 * 0.4177 * 0.0155 * 0.1542 * 0.0303) * (7/20)\n",
        "print(House_Probability)\n",
        "\n",
        "print(\"House ID 27 is predicted as: \")\n",
        "map_classify = max(Apartment_Probability, Condo_Probability, House_Probability)\n",
        "if (map_classify==Apartment_Probability):\n",
        "  print(\"Apartment\")\n",
        "if (map_classify==Condo_Probability):\n",
        "  print(\"Condo\")\n",
        "if (map_classify==House_Probability):\n",
        "  print(\"House\")"
      ],
      "metadata": {
        "colab": {
          "base_uri": "https://localhost:8080/"
        },
        "id": "qPLJq7dqiP4c",
        "outputId": "7c800b69-236d-4e84-faa2-40a9ac5fc1fc"
      },
      "execution_count": null,
      "outputs": [
        {
          "output_type": "stream",
          "name": "stdout",
          "text": [
            "1.1482458460353102e-06\n",
            "1.009811812169203e-06\n",
            "1.039565337168584e-15\n",
            "House ID 27 is predicted as: \n",
            "Apartment\n"
          ]
        }
      ]
    },
    {
      "cell_type": "code",
      "source": [
        "# MAP RULE FOR HOUSE ID 28\n",
        "\n",
        "Apartment_Probability = (0.0480 * 0.6552 * 0.1156 * 0.5159 * 0.3034 * 0.2421 * 0.3712 * 0.0228) * (7/20)\n",
        "print(Apartment_Probability)\n",
        "\n",
        "Condo_Probability = (0.0528 * 0.6344 * 0.1446 * 0.4015 * 0.3357 * 0.2175 * 0.4495 * 0.0225) * (6/20)\n",
        "print(Condo_Probability)\n",
        "\n",
        "House_Probability = (6.854e-27 * 0.1613 * 0.1364 * 1.2493 * 0.2577 * 0.5658 * 0.6909 * 0.0296) * (7/20)\n",
        "print(House_Probability)\n",
        "\n",
        "print(\"House ID 28 is predicted as: \")\n",
        "map_classify = max(Apartment_Probability, Condo_Probability, House_Probability)\n",
        "if (map_classify==Apartment_Probability):\n",
        "  print(\"Apartment\")\n",
        "if (map_classify==Condo_Probability):\n",
        "  print(\"Condo\")\n",
        "if (map_classify==House_Probability):\n",
        "  print(\"House\")"
      ],
      "metadata": {
        "colab": {
          "base_uri": "https://localhost:8080/"
        },
        "id": "ebLVoAdniXSN",
        "outputId": "2606d7ec-da13-4563-b0f3-8353d4de8a50"
      },
      "execution_count": null,
      "outputs": [
        {
          "output_type": "stream",
          "name": "stdout",
          "text": [
            "4.080935332355422e-07\n",
            "4.308191612306969e-07\n",
            "1.9661284501693058e-31\n",
            "House ID 28 is predicted as: \n",
            "Condo\n"
          ]
        }
      ]
    },
    {
      "cell_type": "markdown",
      "source": [
        "**Prediction at a glance:**\n",
        "\n",
        "HOUSE 24 - HOUSE\n",
        "\n",
        "HOUSE 25 - APARTMENT\n",
        "\n",
        "HOUSE 26 - APRTMENT\n",
        "\n",
        "HOUSE 27 - APRTMENT\n",
        "\n",
        "HOUSE 28 - CONDO"
      ],
      "metadata": {
        "id": "ST2Za1EeiozD"
      }
    }
  ]
}