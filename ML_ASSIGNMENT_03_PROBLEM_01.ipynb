{
  "nbformat": 4,
  "nbformat_minor": 0,
  "metadata": {
    "colab": {
      "provenance": [],
      "authorship_tag": "ABX9TyPlUGHEEUf0P+zd17O6sRb+",
      "include_colab_link": true
    },
    "kernelspec": {
      "name": "python3",
      "display_name": "Python 3"
    },
    "language_info": {
      "name": "python"
    },
    "accelerator": "GPU",
    "gpuClass": "standard"
  },
  "cells": [
    {
      "cell_type": "markdown",
      "metadata": {
        "id": "view-in-github",
        "colab_type": "text"
      },
      "source": [
        "<a href=\"https://colab.research.google.com/github/CopotronicRifat/CS-5783-Machine-Learning-Assignments/blob/main/ML_ASSIGNMENT_03_PROBLEM_01.ipynb\" target=\"_parent\"><img src=\"https://colab.research.google.com/assets/colab-badge.svg\" alt=\"Open In Colab\"/></a>"
      ]
    },
    {
      "cell_type": "code",
      "execution_count": 1,
      "metadata": {
        "id": "jjPoPPpIlW6z"
      },
      "outputs": [],
      "source": [
        "import numpy as np\n",
        "import pandas as pd\n",
        "import random\n",
        "import tensorflow as tf\n",
        "import matplotlib.pyplot as plt"
      ]
    },
    {
      "cell_type": "code",
      "source": [
        "from tensorflow.keras.models import Sequential\n",
        "from tensorflow.keras.layers import Flatten, Conv2D, Dense, MaxPooling2D\n",
        "from tensorflow.keras.optimizers import SGD\n",
        "from tensorflow.keras.utils import to_categorical\n",
        "from tensorflow.keras.datasets import mnist"
      ],
      "metadata": {
        "id": "zPrRfKQolfDK"
      },
      "execution_count": 2,
      "outputs": []
    },
    {
      "cell_type": "code",
      "source": [
        "(x_train, y_train), (x_test, y_test) = mnist.load_data()\n",
        "x_train = x_train.reshape(x_train.shape[0], 28, 28, 1)\n",
        "x_train = x_train.astype('float32')/255.0\n",
        "y_train = to_categorical(y_train)"
      ],
      "metadata": {
        "colab": {
          "base_uri": "https://localhost:8080/"
        },
        "id": "q3jSXzDfliJX",
        "outputId": "58f665ba-9bea-4a30-d5b7-1e9943b219b1"
      },
      "execution_count": 3,
      "outputs": [
        {
          "output_type": "stream",
          "name": "stdout",
          "text": [
            "Downloading data from https://storage.googleapis.com/tensorflow/tf-keras-datasets/mnist.npz\n",
            "11490434/11490434 [==============================] - 0s 0us/step\n"
          ]
        }
      ]
    },
    {
      "cell_type": "code",
      "source": [
        "# A Regular CNN\n",
        "\n",
        "model1 = Sequential([\n",
        "                    Conv2D(2, (3, 3), activation = 'relu', input_shape = (28, 28, 1)),\n",
        "                    \n",
        "                    Conv2D(3, (3, 3), activation = 'relu', input_shape = (28, 28, 1)),\n",
        "                    \n",
        "                    Conv2D(4, (3, 3), activation = 'relu', input_shape = (28, 28, 1)),\n",
        "                    \n",
        "                    Conv2D(5, (3, 3), activation = 'relu', input_shape = (28, 28, 1)),\n",
        "                    \n",
        "                    Conv2D(6, (3, 3), activation = 'relu', input_shape = (28, 28, 1)),\n",
        "                    \n",
        "                    Conv2D(7, (3, 3), activation = 'relu', input_shape = (28, 28, 1)),\n",
        "                    \n",
        "                    Conv2D(8, (3, 3), activation = 'relu', input_shape = (28, 28, 1)),\n",
        "                    \n",
        "                    Conv2D(9, (3, 3), activation = 'relu', input_shape = (28, 28, 1)),\n",
        "                    \n",
        "                    Conv2D(10, (3, 3), activation = 'relu', input_shape = (28, 28, 1)),\n",
        "                    MaxPooling2D((2, 2)),\n",
        "                    Conv2D(11, (3, 3), activation = 'relu', input_shape = (28, 28, 1)),\n",
        "                    MaxPooling2D((2, 2)),\n",
        "                    Flatten(),\n",
        "                    Dense(100, activation = 'relu'),\n",
        "                    Dense(10, activation = 'softmax')\n",
        "])"
      ],
      "metadata": {
        "id": "0zs9lW6dlowz"
      },
      "execution_count": 4,
      "outputs": []
    },
    {
      "cell_type": "code",
      "source": [
        "optimizer = SGD(learning_rate = 0.01, momentum = 0.9)\n",
        "\n",
        "model1.compile(optimizer = optimizer,\n",
        "              loss = 'categorical_crossentropy',\n",
        "              metrics = ['accuracy']\n",
        "              )"
      ],
      "metadata": {
        "id": "r4wOS3Bho8vS"
      },
      "execution_count": 5,
      "outputs": []
    },
    {
      "cell_type": "code",
      "source": [
        "history = model1.fit(x_train, y_train, epochs = 10, batch_size = 32)"
      ],
      "metadata": {
        "colab": {
          "base_uri": "https://localhost:8080/"
        },
        "id": "Ymc_QUyxpAYu",
        "outputId": "a76334c8-c252-45cd-931e-ae65d0c881a0"
      },
      "execution_count": 6,
      "outputs": [
        {
          "output_type": "stream",
          "name": "stdout",
          "text": [
            "Epoch 1/10\n",
            "1875/1875 [==============================] - 18s 5ms/step - loss: 0.6291 - accuracy: 0.7940\n",
            "Epoch 2/10\n",
            "1875/1875 [==============================] - 9s 5ms/step - loss: 0.2351 - accuracy: 0.9284\n",
            "Epoch 3/10\n",
            "1875/1875 [==============================] - 9s 5ms/step - loss: 0.1837 - accuracy: 0.9442\n",
            "Epoch 4/10\n",
            "1875/1875 [==============================] - 9s 5ms/step - loss: 0.1698 - accuracy: 0.9484\n",
            "Epoch 5/10\n",
            "1875/1875 [==============================] - 9s 5ms/step - loss: 0.1637 - accuracy: 0.9506\n",
            "Epoch 6/10\n",
            "1875/1875 [==============================] - 9s 5ms/step - loss: 0.1535 - accuracy: 0.9528\n",
            "Epoch 7/10\n",
            "1875/1875 [==============================] - 9s 5ms/step - loss: 0.1403 - accuracy: 0.9580\n",
            "Epoch 8/10\n",
            "1875/1875 [==============================] - 9s 5ms/step - loss: 0.1382 - accuracy: 0.9585\n",
            "Epoch 9/10\n",
            "1875/1875 [==============================] - 9s 5ms/step - loss: 0.1315 - accuracy: 0.9601\n",
            "Epoch 10/10\n",
            "1875/1875 [==============================] - 9s 5ms/step - loss: 0.1280 - accuracy: 0.9617\n"
          ]
        }
      ]
    },
    {
      "cell_type": "code",
      "source": [
        "model1.summary()"
      ],
      "metadata": {
        "colab": {
          "base_uri": "https://localhost:8080/"
        },
        "id": "SIAShZ7BnzSE",
        "outputId": "9fac85e8-cc1a-4c04-f042-240418aa94fd"
      },
      "execution_count": 7,
      "outputs": [
        {
          "output_type": "stream",
          "name": "stdout",
          "text": [
            "Model: \"sequential\"\n",
            "_________________________________________________________________\n",
            " Layer (type)                Output Shape              Param #   \n",
            "=================================================================\n",
            " conv2d (Conv2D)             (None, 26, 26, 2)         20        \n",
            "                                                                 \n",
            " conv2d_1 (Conv2D)           (None, 24, 24, 3)         57        \n",
            "                                                                 \n",
            " conv2d_2 (Conv2D)           (None, 22, 22, 4)         112       \n",
            "                                                                 \n",
            " conv2d_3 (Conv2D)           (None, 20, 20, 5)         185       \n",
            "                                                                 \n",
            " conv2d_4 (Conv2D)           (None, 18, 18, 6)         276       \n",
            "                                                                 \n",
            " conv2d_5 (Conv2D)           (None, 16, 16, 7)         385       \n",
            "                                                                 \n",
            " conv2d_6 (Conv2D)           (None, 14, 14, 8)         512       \n",
            "                                                                 \n",
            " conv2d_7 (Conv2D)           (None, 12, 12, 9)         657       \n",
            "                                                                 \n",
            " conv2d_8 (Conv2D)           (None, 10, 10, 10)        820       \n",
            "                                                                 \n",
            " max_pooling2d (MaxPooling2D  (None, 5, 5, 10)         0         \n",
            " )                                                               \n",
            "                                                                 \n",
            " conv2d_9 (Conv2D)           (None, 3, 3, 11)          1001      \n",
            "                                                                 \n",
            " max_pooling2d_1 (MaxPooling  (None, 1, 1, 11)         0         \n",
            " 2D)                                                             \n",
            "                                                                 \n",
            " flatten (Flatten)           (None, 11)                0         \n",
            "                                                                 \n",
            " dense (Dense)               (None, 100)               1200      \n",
            "                                                                 \n",
            " dense_1 (Dense)             (None, 10)                1010      \n",
            "                                                                 \n",
            "=================================================================\n",
            "Total params: 6,235\n",
            "Trainable params: 6,235\n",
            "Non-trainable params: 0\n",
            "_________________________________________________________________\n"
          ]
        }
      ]
    },
    {
      "cell_type": "code",
      "source": [
        "plt.plot(history.history['accuracy'], label='accuracy')\n",
        "plt.xlabel('Epoch')\n",
        "plt.ylabel('Accuracy')\n",
        "plt.ylim([0.5, 1])\n",
        "plt.legend(loc='lower right')\n",
        "\n",
        "test_loss, test_acc = model1.evaluate(x_train, y_train)"
      ],
      "metadata": {
        "colab": {
          "base_uri": "https://localhost:8080/",
          "height": 300
        },
        "id": "osgCnzsQlnAG",
        "outputId": "8e99ee4a-0bcb-44de-f81a-ba21889bfd20"
      },
      "execution_count": 8,
      "outputs": [
        {
          "output_type": "stream",
          "name": "stdout",
          "text": [
            "1875/1875 [==============================] - 6s 3ms/step - loss: 0.1043 - accuracy: 0.9687\n"
          ]
        },
        {
          "output_type": "display_data",
          "data": {
            "text/plain": [
              "<Figure size 432x288 with 1 Axes>"
            ],
            "image/png": "[encoded data removed]"
          },
          "metadata": {
            "needs_background": "light"
          }
        }
      ]
    },
    {
      "cell_type": "code",
      "source": [
        "image = random.choice(x_test)\n",
        "plt.imshow(image, cmap = plt.get_cmap('gray'))\n",
        "plt.show()\n",
        "image = (image.reshape((1, 28, 28, 1))).astype('float32')/255.0\n",
        "digit = np.argmax(model1.predict(image)[0], axis = -1)\n",
        "print(\"Prediction: \", digit)"
      ],
      "metadata": {
        "colab": {
          "base_uri": "https://localhost:8080/",
          "height": 300
        },
        "id": "5Ay5ePMRtH77",
        "outputId": "b047a0ed-c5b2-4db9-d402-469e155a618d"
      },
      "execution_count": 9,
      "outputs": [
        {
          "output_type": "display_data",
          "data": {
            "text/plain": [
              "<Figure size 432x288 with 1 Axes>"
            ],
            "image/png": "[encoded data removed]"
          },
          "metadata": {
            "needs_background": "light"
          }
        },
        {
          "output_type": "stream",
          "name": "stdout",
          "text": [
            "1/1 [==============================] - 0s 307ms/step\n",
            "Prediction:  5\n"
          ]
        }
      ]
    },
    {
      "cell_type": "code",
      "source": [
        "# An Inverted CNN\n",
        "\n",
        "model2 = Sequential([\n",
        "                    Conv2D(11, (3, 3), activation = 'relu', input_shape = (28, 28, 1)),\n",
        "                    \n",
        "                    Conv2D(10, (3, 3), activation = 'relu', input_shape = (28, 28, 1)),\n",
        "                    \n",
        "                    Conv2D(9, (3, 3), activation = 'relu', input_shape = (28, 28, 1)),\n",
        "                    \n",
        "                    Conv2D(8, (3, 3), activation = 'relu', input_shape = (28, 28, 1)),\n",
        "                    \n",
        "                    Conv2D(7, (3, 3), activation = 'relu', input_shape = (28, 28, 1)),\n",
        "                    \n",
        "                    Conv2D(6, (3, 3), activation = 'relu', input_shape = (28, 28, 1)),\n",
        "                    \n",
        "                    Conv2D(5, (3, 3), activation = 'relu', input_shape = (28, 28, 1)),\n",
        "                    \n",
        "                    Conv2D(4, (3, 3), activation = 'relu', input_shape = (28, 28, 1)),\n",
        "                    \n",
        "                    Conv2D(3, (3, 3), activation = 'relu', input_shape = (28, 28, 1)),\n",
        "                    MaxPooling2D((2, 2)),\n",
        "                    Conv2D(2, (3, 3), activation = 'relu', input_shape = (28, 28, 1)),\n",
        "                    MaxPooling2D((2, 2)),\n",
        "                    Flatten(),\n",
        "                    Dense(100, activation = 'relu'),\n",
        "                    Dense(10, activation = 'softmax')\n",
        "])"
      ],
      "metadata": {
        "id": "sUVpjjHEtb_x"
      },
      "execution_count": 10,
      "outputs": []
    },
    {
      "cell_type": "code",
      "source": [
        "optimizer = SGD(learning_rate = 0.01, momentum = 0.9)\n",
        "\n",
        "model2.compile(optimizer = optimizer,\n",
        "              loss = 'categorical_crossentropy',\n",
        "              metrics = ['accuracy']\n",
        "              )"
      ],
      "metadata": {
        "id": "234wPhbftmpU"
      },
      "execution_count": 11,
      "outputs": []
    },
    {
      "cell_type": "code",
      "source": [
        "model2.summary()"
      ],
      "metadata": {
        "colab": {
          "base_uri": "https://localhost:8080/"
        },
        "id": "RLL7cmDa4Ox6",
        "outputId": "98c60bd0-3958-48f4-993b-f20cfc9d12db"
      },
      "execution_count": 12,
      "outputs": [
        {
          "output_type": "stream",
          "name": "stdout",
          "text": [
            "Model: \"sequential_1\"\n",
            "_________________________________________________________________\n",
            " Layer (type)                Output Shape              Param #   \n",
            "=================================================================\n",
            " conv2d_10 (Conv2D)          (None, 26, 26, 11)        110       \n",
            "                                                                 \n",
            " conv2d_11 (Conv2D)          (None, 24, 24, 10)        1000      \n",
            "                                                                 \n",
            " conv2d_12 (Conv2D)          (None, 22, 22, 9)         819       \n",
            "                                                                 \n",
            " conv2d_13 (Conv2D)          (None, 20, 20, 8)         656       \n",
            "                                                                 \n",
            " conv2d_14 (Conv2D)          (None, 18, 18, 7)         511       \n",
            "                                                                 \n",
            " conv2d_15 (Conv2D)          (None, 16, 16, 6)         384       \n",
            "                                                                 \n",
            " conv2d_16 (Conv2D)          (None, 14, 14, 5)         275       \n",
            "                                                                 \n",
            " conv2d_17 (Conv2D)          (None, 12, 12, 4)         184       \n",
            "                                                                 \n",
            " conv2d_18 (Conv2D)          (None, 10, 10, 3)         111       \n",
            "                                                                 \n",
            " max_pooling2d_2 (MaxPooling  (None, 5, 5, 3)          0         \n",
            " 2D)                                                             \n",
            "                                                                 \n",
            " conv2d_19 (Conv2D)          (None, 3, 3, 2)           56        \n",
            "                                                                 \n",
            " max_pooling2d_3 (MaxPooling  (None, 1, 1, 2)          0         \n",
            " 2D)                                                             \n",
            "                                                                 \n",
            " flatten_1 (Flatten)         (None, 2)                 0         \n",
            "                                                                 \n",
            " dense_2 (Dense)             (None, 100)               300       \n",
            "                                                                 \n",
            " dense_3 (Dense)             (None, 10)                1010      \n",
            "                                                                 \n",
            "=================================================================\n",
            "Total params: 5,416\n",
            "Trainable params: 5,416\n",
            "Non-trainable params: 0\n",
            "_________________________________________________________________\n"
          ]
        }
      ]
    },
    {
      "cell_type": "code",
      "source": [
        "history = model2.fit(x_train, y_train, epochs = 10, batch_size = 32)"
      ],
      "metadata": {
        "colab": {
          "base_uri": "https://localhost:8080/"
        },
        "id": "TufWUYA8tqkW",
        "outputId": "457310ef-464c-45ed-bb2c-77e612de3895"
      },
      "execution_count": 13,
      "outputs": [
        {
          "output_type": "stream",
          "name": "stdout",
          "text": [
            "Epoch 1/10\n",
            "1875/1875 [==============================] - 11s 5ms/step - loss: 1.3232 - accuracy: 0.5013\n",
            "Epoch 2/10\n",
            "1875/1875 [==============================] - 10s 6ms/step - loss: 0.8800 - accuracy: 0.6904\n",
            "Epoch 3/10\n",
            "1875/1875 [==============================] - 14s 7ms/step - loss: 0.7862 - accuracy: 0.7275\n",
            "Epoch 4/10\n",
            "1875/1875 [==============================] - 11s 6ms/step - loss: 0.7886 - accuracy: 0.7270\n",
            "Epoch 5/10\n",
            "1875/1875 [==============================] - 10s 5ms/step - loss: 1.6756 - accuracy: 0.3706\n",
            "Epoch 6/10\n",
            "1875/1875 [==============================] - 10s 5ms/step - loss: 2.3062 - accuracy: 0.1049\n",
            "Epoch 7/10\n",
            "1875/1875 [==============================] - 10s 5ms/step - loss: 2.3041 - accuracy: 0.1073\n",
            "Epoch 8/10\n",
            "1875/1875 [==============================] - 10s 5ms/step - loss: 2.3040 - accuracy: 0.1063\n",
            "Epoch 9/10\n",
            "1875/1875 [==============================] - 10s 5ms/step - loss: 2.3035 - accuracy: 0.1080\n",
            "Epoch 10/10\n",
            "1875/1875 [==============================] - 10s 5ms/step - loss: 2.3030 - accuracy: 0.1101\n"
          ]
        }
      ]
    },
    {
      "cell_type": "code",
      "source": [
        "plt.plot(history.history['accuracy'], label='accuracy')\n",
        "plt.xlabel('Epoch')\n",
        "plt.ylabel('Accuracy')\n",
        "plt.ylim([0.5, 1])\n",
        "plt.legend(loc='lower right')\n",
        "\n",
        "test_loss, test_acc = model2.evaluate(x_train, y_train)"
      ],
      "metadata": {
        "colab": {
          "base_uri": "https://localhost:8080/",
          "height": 300
        },
        "id": "ss-iP3Sj4aVe",
        "outputId": "8a2b9f05-ae4f-4547-8416-ba0c84b941d9"
      },
      "execution_count": 14,
      "outputs": [
        {
          "output_type": "stream",
          "name": "stdout",
          "text": [
            "1875/1875 [==============================] - 6s 3ms/step - loss: 2.3026 - accuracy: 0.1022\n"
          ]
        },
        {
          "output_type": "display_data",
          "data": {
            "text/plain": [
              "<Figure size 432x288 with 1 Axes>"
            ],
            "image/png": "[encoded data removed]"
          },
          "metadata": {
            "needs_background": "light"
          }
        }
      ]
    },
    {
      "cell_type": "code",
      "source": [
        "image = random.choice(x_test)\n",
        "plt.imshow(image, cmap = plt.get_cmap('gray'))\n",
        "plt.show()\n",
        "image = (image.reshape((1, 28, 28, 1))).astype('float32')/255.0\n",
        "digit = np.argmax(model2.predict(image)[0], axis = -1)\n",
        "print(\"Prediction: \", digit)"
      ],
      "metadata": {
        "colab": {
          "base_uri": "https://localhost:8080/",
          "height": 300
        },
        "id": "fcJMVxmRxF-a",
        "outputId": "86f2d58d-1310-4d85-84e1-afd26ab123f3"
      },
      "execution_count": 15,
      "outputs": [
        {
          "output_type": "display_data",
          "data": {
            "text/plain": [
              "<Figure size 432x288 with 1 Axes>"
            ],
            "image/png": "[encoded data removed]"
          },
          "metadata": {
            "needs_background": "light"
          }
        },
        {
          "output_type": "stream",
          "name": "stdout",
          "text": [
            "1/1 [==============================] - 0s 269ms/step\n",
            "Prediction:  3\n"
          ]
        }
      ]
    },
    {
      "cell_type": "code",
      "source": [
        "# Hourglass Shape CNN\n",
        "\n",
        "model3 = Sequential([\n",
        "                    Conv2D(2, (3, 3), activation = 'relu', input_shape = (28, 28, 1)),\n",
        "                    \n",
        "                    Conv2D(3, (3, 3), activation = 'relu', input_shape = (28, 28, 1)),\n",
        "                    \n",
        "                    Conv2D(4, (3, 3), activation = 'relu', input_shape = (28, 28, 1)),\n",
        "                    \n",
        "                    Conv2D(5, (3, 3), activation = 'relu', input_shape = (28, 28, 1)),\n",
        "                    \n",
        "                    Conv2D(6, (3, 3), activation = 'relu', input_shape = (28, 28, 1)),\n",
        "                    \n",
        "                    Conv2D(7, (3, 3), activation = 'relu', input_shape = (28, 28, 1)),\n",
        "                    \n",
        "                    Conv2D(6, (3, 3), activation = 'relu', input_shape = (28, 28, 1)),\n",
        "                    \n",
        "                    Conv2D(5, (3, 3), activation = 'relu', input_shape = (28, 28, 1)),\n",
        "                    \n",
        "                    Conv2D(4, (3, 3), activation = 'relu', input_shape = (28, 28, 1)),\n",
        "                    MaxPooling2D((2, 2)),\n",
        "                     \n",
        "                    Conv2D(3, (3, 3), activation = 'relu', input_shape = (28, 28, 1)),\n",
        "                    MaxPooling2D((2, 2)),\n",
        "                     \n",
        "                    Flatten(),\n",
        "                     \n",
        "                    Dense(100, activation = 'relu'),\n",
        "                    Dense(10, activation = 'softmax')\n",
        "])"
      ],
      "metadata": {
        "id": "dsl8tsALwbnD"
      },
      "execution_count": 16,
      "outputs": []
    },
    {
      "cell_type": "code",
      "source": [
        "optimizer = SGD(learning_rate = 0.01, momentum = 0.9)\n",
        "\n",
        "model3.compile(optimizer = optimizer,\n",
        "              loss = 'categorical_crossentropy',\n",
        "              metrics = ['accuracy']\n",
        "              )"
      ],
      "metadata": {
        "id": "2K9_nKrjw-s2"
      },
      "execution_count": 17,
      "outputs": []
    },
    {
      "cell_type": "code",
      "source": [
        "model3.summary()"
      ],
      "metadata": {
        "colab": {
          "base_uri": "https://localhost:8080/"
        },
        "id": "nRznV0iE4uwy",
        "outputId": "f5cb07b6-28dd-4081-c54d-5b487272d8b4"
      },
      "execution_count": 18,
      "outputs": [
        {
          "output_type": "stream",
          "name": "stdout",
          "text": [
            "Model: \"sequential_2\"\n",
            "_________________________________________________________________\n",
            " Layer (type)                Output Shape              Param #   \n",
            "=================================================================\n",
            " conv2d_20 (Conv2D)          (None, 26, 26, 2)         20        \n",
            "                                                                 \n",
            " conv2d_21 (Conv2D)          (None, 24, 24, 3)         57        \n",
            "                                                                 \n",
            " conv2d_22 (Conv2D)          (None, 22, 22, 4)         112       \n",
            "                                                                 \n",
            " conv2d_23 (Conv2D)          (None, 20, 20, 5)         185       \n",
            "                                                                 \n",
            " conv2d_24 (Conv2D)          (None, 18, 18, 6)         276       \n",
            "                                                                 \n",
            " conv2d_25 (Conv2D)          (None, 16, 16, 7)         385       \n",
            "                                                                 \n",
            " conv2d_26 (Conv2D)          (None, 14, 14, 6)         384       \n",
            "                                                                 \n",
            " conv2d_27 (Conv2D)          (None, 12, 12, 5)         275       \n",
            "                                                                 \n",
            " conv2d_28 (Conv2D)          (None, 10, 10, 4)         184       \n",
            "                                                                 \n",
            " max_pooling2d_4 (MaxPooling  (None, 5, 5, 4)          0         \n",
            " 2D)                                                             \n",
            "                                                                 \n",
            " conv2d_29 (Conv2D)          (None, 3, 3, 3)           111       \n",
            "                                                                 \n",
            " max_pooling2d_5 (MaxPooling  (None, 1, 1, 3)          0         \n",
            " 2D)                                                             \n",
            "                                                                 \n",
            " flatten_2 (Flatten)         (None, 3)                 0         \n",
            "                                                                 \n",
            " dense_4 (Dense)             (None, 100)               400       \n",
            "                                                                 \n",
            " dense_5 (Dense)             (None, 10)                1010      \n",
            "                                                                 \n",
            "=================================================================\n",
            "Total params: 3,399\n",
            "Trainable params: 3,399\n",
            "Non-trainable params: 0\n",
            "_________________________________________________________________\n"
          ]
        }
      ]
    },
    {
      "cell_type": "code",
      "source": [
        "history = model3.fit(x_train, y_train, epochs = 10, batch_size = 32)"
      ],
      "metadata": {
        "colab": {
          "base_uri": "https://localhost:8080/"
        },
        "id": "bFEN6uxtxCG8",
        "outputId": "fd71ed8c-9d86-4704-fa98-57cf9123472d"
      },
      "execution_count": 19,
      "outputs": [
        {
          "output_type": "stream",
          "name": "stdout",
          "text": [
            "Epoch 1/10\n",
            "1875/1875 [==============================] - 10s 5ms/step - loss: 1.2290 - accuracy: 0.5650\n",
            "Epoch 2/10\n",
            "1875/1875 [==============================] - 10s 5ms/step - loss: 0.7632 - accuracy: 0.7609\n",
            "Epoch 3/10\n",
            "1875/1875 [==============================] - 10s 5ms/step - loss: 0.7092 - accuracy: 0.7781\n",
            "Epoch 4/10\n",
            "1875/1875 [==============================] - 12s 6ms/step - loss: 0.6795 - accuracy: 0.7872\n",
            "Epoch 5/10\n",
            "1875/1875 [==============================] - 12s 6ms/step - loss: 0.6810 - accuracy: 0.7897\n",
            "Epoch 6/10\n",
            "1875/1875 [==============================] - 11s 6ms/step - loss: 0.6833 - accuracy: 0.7886\n",
            "Epoch 7/10\n",
            "1875/1875 [==============================] - 10s 5ms/step - loss: 0.7672 - accuracy: 0.7598\n",
            "Epoch 8/10\n",
            "1875/1875 [==============================] - 12s 7ms/step - loss: 0.8883 - accuracy: 0.7122\n",
            "Epoch 9/10\n",
            "1875/1875 [==============================] - 10s 5ms/step - loss: 0.7712 - accuracy: 0.7595\n",
            "Epoch 10/10\n",
            "1875/1875 [==============================] - 11s 6ms/step - loss: 1.0322 - accuracy: 0.6611\n"
          ]
        }
      ]
    },
    {
      "cell_type": "code",
      "source": [
        "plt.plot(history.history['accuracy'], label='accuracy')\n",
        "plt.xlabel('Epoch')\n",
        "plt.ylabel('Accuracy')\n",
        "plt.ylim([0.5, 1])\n",
        "plt.legend(loc='lower right')\n",
        "\n",
        "test_loss, test_acc = model3.evaluate(x_train, y_train)"
      ],
      "metadata": {
        "colab": {
          "base_uri": "https://localhost:8080/",
          "height": 300
        },
        "id": "VgEYB1EE43Hv",
        "outputId": "65ce3c38-68e5-43ed-ba62-b1a0dd545df8"
      },
      "execution_count": 20,
      "outputs": [
        {
          "output_type": "stream",
          "name": "stdout",
          "text": [
            "1875/1875 [==============================] - 6s 3ms/step - loss: 1.3310 - accuracy: 0.5231\n"
          ]
        },
        {
          "output_type": "display_data",
          "data": {
            "text/plain": [
              "<Figure size 432x288 with 1 Axes>"
            ],
            "image/png": "[encoded data removed]"
          },
          "metadata": {
            "needs_background": "light"
          }
        }
      ]
    },
    {
      "cell_type": "code",
      "source": [
        "image = random.choice(x_test)\n",
        "plt.imshow(image, cmap = plt.get_cmap('gray'))\n",
        "plt.show()\n",
        "image = (image.reshape((1, 28, 28, 1))).astype('float32')/255.0\n",
        "digit = np.argmax(model3.predict(image)[0], axis = -1)\n",
        "print(\"Prediction: \", digit)"
      ],
      "metadata": {
        "colab": {
          "base_uri": "https://localhost:8080/",
          "height": 300
        },
        "id": "YFNh38WwxGyl",
        "outputId": "4f768aff-b380-4c24-9658-2ffaf8416032"
      },
      "execution_count": 21,
      "outputs": [
        {
          "output_type": "display_data",
          "data": {
            "text/plain": [
              "<Figure size 432x288 with 1 Axes>"
            ],
            "image/png": "[encoded data removed]"
          },
          "metadata": {
            "needs_background": "light"
          }
        },
        {
          "output_type": "stream",
          "name": "stdout",
          "text": [
            "1/1 [==============================] - 0s 274ms/step\n",
            "Prediction:  9\n"
          ]
        }
      ]
    },
    {
      "cell_type": "code",
      "source": [
        "learningrates_list = [0.001,0.01,0.1,1.0]"
      ],
      "metadata": {
        "id": "e2nU7-Wp3OqV"
      },
      "execution_count": 22,
      "outputs": []
    },
    {
      "cell_type": "code",
      "source": [
        "import keras\n",
        "\n",
        "for i in range(len(learningrates_list)):\n",
        "    \n",
        "    optimizer = keras.optimizers.Adam(lr = learningrates_list[i])\n",
        "    model1.compile(loss='mse', optimizer=optimizer)\n",
        "    history = model1.fit(x_train, y_train, epochs=10, validation_data=(x_test, y_test))"
      ],
      "metadata": {
        "colab": {
          "base_uri": "https://localhost:8080/"
        },
        "id": "3E6QCxa_3LaV",
        "outputId": "2195e89c-62b6-4850-83be-5502bfe9becc"
      },
      "execution_count": 25,
      "outputs": [
        {
          "output_type": "stream",
          "name": "stdout",
          "text": [
            "Epoch 1/10\n",
            "1875/1875 [==============================] - 12s 6ms/step - loss: 0.0025 - val_loss: 27.3396\n",
            "Epoch 2/10\n",
            "1875/1875 [==============================] - 10s 5ms/step - loss: 0.0024 - val_loss: 27.3393\n",
            "Epoch 3/10\n",
            "1875/1875 [==============================] - 11s 6ms/step - loss: 0.0023 - val_loss: 27.3395\n",
            "Epoch 4/10\n",
            "1875/1875 [==============================] - 10s 5ms/step - loss: 0.0024 - val_loss: 27.3394\n",
            "Epoch 5/10\n",
            "1875/1875 [==============================] - 10s 5ms/step - loss: 0.0023 - val_loss: 27.3395\n",
            "Epoch 6/10\n",
            "1875/1875 [==============================] - 10s 5ms/step - loss: 0.0023 - val_loss: 27.3396\n",
            "Epoch 7/10\n",
            "1875/1875 [==============================] - 9s 5ms/step - loss: 0.0024 - val_loss: 27.3395\n",
            "Epoch 8/10\n",
            "1875/1875 [==============================] - 10s 5ms/step - loss: 0.0023 - val_loss: 27.3396\n",
            "Epoch 9/10\n",
            "1875/1875 [==============================] - 9s 5ms/step - loss: 0.0025 - val_loss: 27.3394\n",
            "Epoch 10/10\n",
            "1875/1875 [==============================] - 10s 5ms/step - loss: 0.0023 - val_loss: 27.3395\n",
            "Epoch 1/10\n",
            "1875/1875 [==============================] - 11s 6ms/step - loss: 0.1553 - val_loss: 27.3403\n",
            "Epoch 2/10\n",
            "1875/1875 [==============================] - 10s 5ms/step - loss: 0.1803 - val_loss: 27.3403\n",
            "Epoch 3/10\n",
            "1875/1875 [==============================] - 10s 5ms/step - loss: 0.1803 - val_loss: 27.3403\n",
            "Epoch 4/10\n",
            "1875/1875 [==============================] - 10s 5ms/step - loss: 0.1803 - val_loss: 27.3403\n",
            "Epoch 5/10\n",
            "1875/1875 [==============================] - 10s 6ms/step - loss: 0.1803 - val_loss: 27.3403\n",
            "Epoch 6/10\n",
            "1875/1875 [==============================] - 14s 8ms/step - loss: 0.1803 - val_loss: 27.3403\n",
            "Epoch 7/10\n",
            "1875/1875 [==============================] - 11s 6ms/step - loss: 0.1803 - val_loss: 27.3403\n",
            "Epoch 8/10\n",
            "1875/1875 [==============================] - 11s 6ms/step - loss: 0.1803 - val_loss: 27.3403\n",
            "Epoch 9/10\n",
            "1875/1875 [==============================] - 12s 6ms/step - loss: 0.1803 - val_loss: 27.3403\n",
            "Epoch 10/10\n",
            "1875/1875 [==============================] - 10s 5ms/step - loss: 0.1803 - val_loss: 27.3403\n",
            "Epoch 1/10\n",
            "1875/1875 [==============================] - 14s 7ms/step - loss: 0.1803 - val_loss: 27.3403\n",
            "Epoch 2/10\n",
            "1875/1875 [==============================] - 10s 5ms/step - loss: 0.1803 - val_loss: 27.3403\n",
            "Epoch 3/10\n",
            "1875/1875 [==============================] - 10s 6ms/step - loss: 0.1803 - val_loss: 27.3403\n",
            "Epoch 4/10\n",
            "1875/1875 [==============================] - 10s 6ms/step - loss: 0.1803 - val_loss: 27.3403\n",
            "Epoch 5/10\n",
            "1875/1875 [==============================] - 10s 5ms/step - loss: 0.1803 - val_loss: 27.3403\n",
            "Epoch 6/10\n",
            "1875/1875 [==============================] - 10s 5ms/step - loss: 0.1803 - val_loss: 27.3403\n",
            "Epoch 7/10\n",
            "1875/1875 [==============================] - 10s 5ms/step - loss: 0.1803 - val_loss: 27.3403\n",
            "Epoch 8/10\n",
            "1875/1875 [==============================] - 10s 5ms/step - loss: 0.1803 - val_loss: 27.3403\n",
            "Epoch 9/10\n",
            "1875/1875 [==============================] - 10s 5ms/step - loss: 0.1803 - val_loss: 27.3403\n",
            "Epoch 10/10\n",
            "1875/1875 [==============================] - 10s 6ms/step - loss: 0.1803 - val_loss: 27.3403\n",
            "Epoch 1/10\n",
            "1875/1875 [==============================] - 11s 5ms/step - loss: 0.1803 - val_loss: 27.3403\n",
            "Epoch 2/10\n",
            "1875/1875 [==============================] - 11s 6ms/step - loss: 0.1803 - val_loss: 27.3403\n",
            "Epoch 3/10\n",
            "1875/1875 [==============================] - 10s 5ms/step - loss: 0.1803 - val_loss: 27.3403\n",
            "Epoch 4/10\n",
            "1875/1875 [==============================] - 10s 5ms/step - loss: 0.1803 - val_loss: 27.3403\n",
            "Epoch 5/10\n",
            "1875/1875 [==============================] - 10s 5ms/step - loss: 0.1803 - val_loss: 27.3403\n",
            "Epoch 6/10\n",
            "1875/1875 [==============================] - 11s 6ms/step - loss: 0.1803 - val_loss: 27.3403\n",
            "Epoch 7/10\n",
            "1875/1875 [==============================] - 10s 6ms/step - loss: 0.1803 - val_loss: 27.3403\n",
            "Epoch 8/10\n",
            "1875/1875 [==============================] - 10s 5ms/step - loss: 0.1803 - val_loss: 27.3403\n",
            "Epoch 9/10\n",
            "1875/1875 [==============================] - 10s 5ms/step - loss: 0.1803 - val_loss: 27.3403\n",
            "Epoch 10/10\n",
            "1875/1875 [==============================] - 10s 5ms/step - loss: 0.1803 - val_loss: 27.3403\n"
          ]
        }
      ]
    },
    {
      "cell_type": "code",
      "source": [
        "import keras\n",
        "\n",
        "for i in range(len(learningrates_list)):\n",
        "    \n",
        "    optimizer = keras.optimizers.Adam(lr = learningrates_list[i])\n",
        "    model2.compile(loss='mse', optimizer=optimizer)\n",
        "    history = model1.fit(x_train, y_train, epochs=10, validation_data=(x_test, y_test))"
      ],
      "metadata": {
        "colab": {
          "base_uri": "https://localhost:8080/"
        },
        "id": "lESAvt_no4kz",
        "outputId": "da7d9769-a13b-4736-848e-dfaf3b59f730"
      },
      "execution_count": 26,
      "outputs": [
        {
          "output_type": "stream",
          "name": "stdout",
          "text": [
            "Epoch 1/10\n",
            "   1/1875 [..............................] - ETA: 20s - loss: 0.1750"
          ]
        },
        {
          "output_type": "stream",
          "name": "stderr",
          "text": [
            "/usr/local/lib/python3.7/dist-packages/keras/optimizers/optimizer_v2/adam.py:110: UserWarning: The `lr` argument is deprecated, use `learning_rate` instead.\n",
            "  super(Adam, self).__init__(name, **kwargs)\n"
          ]
        },
        {
          "output_type": "stream",
          "name": "stdout",
          "text": [
            "1875/1875 [==============================] - 10s 5ms/step - loss: 0.1803 - val_loss: 27.3403\n",
            "Epoch 2/10\n",
            "1875/1875 [==============================] - 10s 6ms/step - loss: 0.1803 - val_loss: 27.3403\n",
            "Epoch 3/10\n",
            "1875/1875 [==============================] - 10s 5ms/step - loss: 0.1803 - val_loss: 27.3403\n",
            "Epoch 4/10\n",
            "1875/1875 [==============================] - 10s 5ms/step - loss: 0.1803 - val_loss: 27.3403\n",
            "Epoch 5/10\n",
            "1875/1875 [==============================] - 10s 5ms/step - loss: 0.1803 - val_loss: 27.3403\n",
            "Epoch 6/10\n",
            "1875/1875 [==============================] - 10s 5ms/step - loss: 0.1803 - val_loss: 27.3403\n",
            "Epoch 7/10\n",
            "1875/1875 [==============================] - 10s 5ms/step - loss: 0.1803 - val_loss: 27.3403\n",
            "Epoch 8/10\n",
            "1875/1875 [==============================] - 10s 5ms/step - loss: 0.1803 - val_loss: 27.3403\n",
            "Epoch 9/10\n",
            "1875/1875 [==============================] - 10s 5ms/step - loss: 0.1803 - val_loss: 27.3403\n",
            "Epoch 10/10\n",
            "1875/1875 [==============================] - 10s 5ms/step - loss: 0.1803 - val_loss: 27.3403\n",
            "Epoch 1/10\n",
            "1875/1875 [==============================] - 10s 5ms/step - loss: 0.1803 - val_loss: 27.3403\n",
            "Epoch 2/10\n",
            "1875/1875 [==============================] - 10s 5ms/step - loss: 0.1803 - val_loss: 27.3403\n",
            "Epoch 3/10\n",
            "1875/1875 [==============================] - 10s 5ms/step - loss: 0.1803 - val_loss: 27.3403\n",
            "Epoch 4/10\n",
            "1875/1875 [==============================] - 10s 5ms/step - loss: 0.1803 - val_loss: 27.3403\n",
            "Epoch 5/10\n",
            "1875/1875 [==============================] - 10s 5ms/step - loss: 0.1803 - val_loss: 27.3403\n",
            "Epoch 6/10\n",
            "1875/1875 [==============================] - 10s 5ms/step - loss: 0.1803 - val_loss: 27.3403\n",
            "Epoch 7/10\n",
            "1875/1875 [==============================] - 10s 5ms/step - loss: 0.1803 - val_loss: 27.3403\n",
            "Epoch 8/10\n",
            "1875/1875 [==============================] - 10s 5ms/step - loss: 0.1803 - val_loss: 27.3403\n",
            "Epoch 9/10\n",
            "1875/1875 [==============================] - 10s 5ms/step - loss: 0.1803 - val_loss: 27.3403\n",
            "Epoch 10/10\n",
            "1875/1875 [==============================] - 10s 5ms/step - loss: 0.1803 - val_loss: 27.3403\n",
            "Epoch 1/10\n",
            "1875/1875 [==============================] - 10s 6ms/step - loss: 0.1803 - val_loss: 27.3403\n",
            "Epoch 2/10\n",
            "1875/1875 [==============================] - 10s 5ms/step - loss: 0.1803 - val_loss: 27.3403\n",
            "Epoch 3/10\n",
            "1875/1875 [==============================] - 10s 5ms/step - loss: 0.1803 - val_loss: 27.3403\n",
            "Epoch 4/10\n",
            "1875/1875 [==============================] - 10s 5ms/step - loss: 0.1803 - val_loss: 27.3403\n",
            "Epoch 5/10\n",
            "1875/1875 [==============================] - 10s 5ms/step - loss: 0.1803 - val_loss: 27.3403\n",
            "Epoch 6/10\n",
            "1875/1875 [==============================] - 10s 5ms/step - loss: 0.1803 - val_loss: 27.3403\n",
            "Epoch 7/10\n",
            "1875/1875 [==============================] - 10s 5ms/step - loss: 0.1803 - val_loss: 27.3403\n",
            "Epoch 8/10\n",
            "1875/1875 [==============================] - 10s 6ms/step - loss: 0.1803 - val_loss: 27.3403\n",
            "Epoch 9/10\n",
            "1875/1875 [==============================] - 11s 6ms/step - loss: 0.1803 - val_loss: 27.3403\n",
            "Epoch 10/10\n",
            "1875/1875 [==============================] - 10s 5ms/step - loss: 0.1803 - val_loss: 27.3403\n",
            "Epoch 1/10\n",
            "1875/1875 [==============================] - 10s 5ms/step - loss: 0.1803 - val_loss: 27.3403\n",
            "Epoch 2/10\n",
            "1875/1875 [==============================] - 10s 5ms/step - loss: 0.1803 - val_loss: 27.3403\n",
            "Epoch 3/10\n",
            "1875/1875 [==============================] - 10s 5ms/step - loss: 0.1803 - val_loss: 27.3403\n",
            "Epoch 4/10\n",
            "1875/1875 [==============================] - 10s 5ms/step - loss: 0.1803 - val_loss: 27.3403\n",
            "Epoch 5/10\n",
            "1875/1875 [==============================] - 10s 5ms/step - loss: 0.1803 - val_loss: 27.3403\n",
            "Epoch 6/10\n",
            "1875/1875 [==============================] - 10s 5ms/step - loss: 0.1803 - val_loss: 27.3403\n",
            "Epoch 7/10\n",
            "1875/1875 [==============================] - 10s 5ms/step - loss: 0.1803 - val_loss: 27.3403\n",
            "Epoch 8/10\n",
            "1875/1875 [==============================] - 10s 5ms/step - loss: 0.1803 - val_loss: 27.3403\n",
            "Epoch 9/10\n",
            "1875/1875 [==============================] - 10s 5ms/step - loss: 0.1803 - val_loss: 27.3403\n",
            "Epoch 10/10\n",
            "1875/1875 [==============================] - 10s 5ms/step - loss: 0.1803 - val_loss: 27.3403\n"
          ]
        }
      ]
    },
    {
      "cell_type": "code",
      "source": [
        "import keras\n",
        "\n",
        "for i in range(len(learningrates_list)):\n",
        "    \n",
        "    optimizer = keras.optimizers.Adam(lr = learningrates_list[i])\n",
        "    model3.compile(loss='mse', optimizer=optimizer)\n",
        "    history = model1.fit(x_train, y_train, epochs=10, validation_data=(x_test, y_test))"
      ],
      "metadata": {
        "colab": {
          "base_uri": "https://localhost:8080/"
        },
        "id": "Oh1_oLOso5O7",
        "outputId": "592bea65-9ea5-4e2d-b900-2547745cca92"
      },
      "execution_count": 27,
      "outputs": [
        {
          "output_type": "stream",
          "name": "stdout",
          "text": [
            "Epoch 1/10\n",
            "1875/1875 [==============================] - 10s 5ms/step - loss: 0.1803 - val_loss: 27.3403\n",
            "Epoch 2/10\n",
            "1875/1875 [==============================] - 10s 6ms/step - loss: 0.1803 - val_loss: 27.3403\n",
            "Epoch 3/10\n",
            "1875/1875 [==============================] - 10s 5ms/step - loss: 0.1803 - val_loss: 27.3403\n",
            "Epoch 4/10\n",
            "1875/1875 [==============================] - 10s 5ms/step - loss: 0.1803 - val_loss: 27.3403\n",
            "Epoch 5/10\n",
            "1875/1875 [==============================] - 10s 5ms/step - loss: 0.1803 - val_loss: 27.3403\n",
            "Epoch 6/10\n",
            "1875/1875 [==============================] - 10s 5ms/step - loss: 0.1803 - val_loss: 27.3403\n",
            "Epoch 7/10\n",
            "1875/1875 [==============================] - 10s 5ms/step - loss: 0.1803 - val_loss: 27.3403\n",
            "Epoch 8/10\n",
            "1875/1875 [==============================] - 10s 5ms/step - loss: 0.1803 - val_loss: 27.3403\n",
            "Epoch 9/10\n",
            "1875/1875 [==============================] - 10s 5ms/step - loss: 0.1803 - val_loss: 27.3403\n",
            "Epoch 10/10\n",
            "1875/1875 [==============================] - 10s 5ms/step - loss: 0.1803 - val_loss: 27.3403\n",
            "Epoch 1/10\n",
            "1875/1875 [==============================] - 11s 6ms/step - loss: 0.1803 - val_loss: 27.3403\n",
            "Epoch 2/10\n",
            "1875/1875 [==============================] - 10s 5ms/step - loss: 0.1803 - val_loss: 27.3403\n",
            "Epoch 3/10\n",
            "1875/1875 [==============================] - 10s 5ms/step - loss: 0.1803 - val_loss: 27.3403\n",
            "Epoch 4/10\n",
            "1875/1875 [==============================] - 10s 5ms/step - loss: 0.1803 - val_loss: 27.3403\n",
            "Epoch 5/10\n",
            "1875/1875 [==============================] - 10s 5ms/step - loss: 0.1803 - val_loss: 27.3403\n",
            "Epoch 6/10\n",
            "1875/1875 [==============================] - 10s 5ms/step - loss: 0.1803 - val_loss: 27.3403\n",
            "Epoch 7/10\n",
            "1875/1875 [==============================] - 10s 5ms/step - loss: 0.1803 - val_loss: 27.3403\n",
            "Epoch 8/10\n",
            "1875/1875 [==============================] - 10s 5ms/step - loss: 0.1803 - val_loss: 27.3403\n",
            "Epoch 9/10\n",
            "1875/1875 [==============================] - 10s 6ms/step - loss: 0.1803 - val_loss: 27.3403\n",
            "Epoch 10/10\n",
            "1875/1875 [==============================] - 10s 5ms/step - loss: 0.1803 - val_loss: 27.3403\n",
            "Epoch 1/10\n",
            "1875/1875 [==============================] - 10s 5ms/step - loss: 0.1803 - val_loss: 27.3403\n",
            "Epoch 2/10\n",
            "1875/1875 [==============================] - 10s 6ms/step - loss: 0.1803 - val_loss: 27.3403\n",
            "Epoch 3/10\n",
            "1875/1875 [==============================] - 10s 5ms/step - loss: 0.1803 - val_loss: 27.3403\n",
            "Epoch 4/10\n",
            "1875/1875 [==============================] - 10s 5ms/step - loss: 0.1803 - val_loss: 27.3403\n",
            "Epoch 5/10\n",
            "1875/1875 [==============================] - 10s 5ms/step - loss: 0.1803 - val_loss: 27.3403\n",
            "Epoch 6/10\n",
            "1875/1875 [==============================] - 10s 5ms/step - loss: 0.1803 - val_loss: 27.3403\n",
            "Epoch 7/10\n",
            "1875/1875 [==============================] - 10s 5ms/step - loss: 0.1803 - val_loss: 27.3403\n",
            "Epoch 8/10\n",
            "1875/1875 [==============================] - 10s 5ms/step - loss: 0.1803 - val_loss: 27.3403\n",
            "Epoch 9/10\n",
            "1875/1875 [==============================] - 11s 6ms/step - loss: 0.1803 - val_loss: 27.3403\n",
            "Epoch 10/10\n",
            "1875/1875 [==============================] - 10s 6ms/step - loss: 0.1803 - val_loss: 27.3403\n",
            "Epoch 1/10\n",
            "1875/1875 [==============================] - 10s 6ms/step - loss: 0.1803 - val_loss: 27.3403\n",
            "Epoch 2/10\n",
            "1875/1875 [==============================] - 10s 5ms/step - loss: 0.1803 - val_loss: 27.3403\n",
            "Epoch 3/10\n",
            "1875/1875 [==============================] - 10s 5ms/step - loss: 0.1803 - val_loss: 27.3403\n",
            "Epoch 4/10\n",
            "1875/1875 [==============================] - 10s 5ms/step - loss: 0.1803 - val_loss: 27.3403\n",
            "Epoch 5/10\n",
            "1875/1875 [==============================] - 10s 5ms/step - loss: 0.1803 - val_loss: 27.3403\n",
            "Epoch 6/10\n",
            "1875/1875 [==============================] - 10s 5ms/step - loss: 0.1803 - val_loss: 27.3403\n",
            "Epoch 7/10\n",
            "1875/1875 [==============================] - 10s 5ms/step - loss: 0.1803 - val_loss: 27.3403\n",
            "Epoch 8/10\n",
            "1875/1875 [==============================] - 10s 5ms/step - loss: 0.1803 - val_loss: 27.3403\n",
            "Epoch 9/10\n",
            "1875/1875 [==============================] - 10s 5ms/step - loss: 0.1803 - val_loss: 27.3403\n",
            "Epoch 10/10\n",
            "1875/1875 [==============================] - 10s 5ms/step - loss: 0.1803 - val_loss: 27.3403\n"
          ]
        }
      ]
    },
    {
      "cell_type": "markdown",
      "source": [
        "**For model 01:**\n",
        "\n",
        "I have examined 0.001, 0.01, 0.1, 1.0 as the learning rates.\n",
        "According to validation loss, after 25 epochs-\n",
        "\n",
        "The model with 0.001 got less loss in validation."
      ],
      "metadata": {
        "id": "MwF_iWTg-AfA"
      }
    },
    {
      "cell_type": "code",
      "source": [
        "batchsize_list = [8, 16, 32, 64, 128]"
      ],
      "metadata": {
        "id": "ehHQaeKJm7sH"
      },
      "execution_count": 28,
      "outputs": []
    },
    {
      "cell_type": "code",
      "source": [
        "import keras\n",
        "\n",
        "for i in range(len(learningrates_list)):\n",
        "    optimizer = keras.optimizers.Adam(lr = learningrates_list[i])\n",
        "    model1.compile(loss='mse', optimizer=optimizer)\n",
        "    history = model1.fit(x_train, y_train, epochs = 10, batch_size = batchsize_list[i])"
      ],
      "metadata": {
        "id": "Fc753Rl799nY",
        "colab": {
          "base_uri": "https://localhost:8080/"
        },
        "outputId": "367dfc01-aefd-4603-a356-cf7a034fa15a"
      },
      "execution_count": 29,
      "outputs": [
        {
          "output_type": "stream",
          "name": "stdout",
          "text": [
            "Epoch 1/10\n",
            "7500/7500 [==============================] - 34s 4ms/step - loss: 0.1803\n",
            "Epoch 2/10\n",
            "7500/7500 [==============================] - 37s 5ms/step - loss: 0.1803\n",
            "Epoch 3/10\n",
            "7500/7500 [==============================] - 36s 5ms/step - loss: 0.1803\n",
            "Epoch 4/10\n",
            "7500/7500 [==============================] - 38s 5ms/step - loss: 0.1803\n",
            "Epoch 5/10\n",
            "7500/7500 [==============================] - 37s 5ms/step - loss: 0.1803\n",
            "Epoch 6/10\n",
            "7500/7500 [==============================] - 39s 5ms/step - loss: 0.1803\n",
            "Epoch 7/10\n",
            "7500/7500 [==============================] - 37s 5ms/step - loss: 0.1803\n",
            "Epoch 8/10\n",
            "7500/7500 [==============================] - 34s 4ms/step - loss: 0.1803\n",
            "Epoch 9/10\n",
            "7500/7500 [==============================] - 33s 4ms/step - loss: 0.1803\n",
            "Epoch 10/10\n",
            "7500/7500 [==============================] - 34s 4ms/step - loss: 0.1803\n",
            "Epoch 1/10\n",
            "3750/3750 [==============================] - 18s 5ms/step - loss: 0.1803\n",
            "Epoch 2/10\n",
            "3750/3750 [==============================] - 18s 5ms/step - loss: 0.1803\n",
            "Epoch 3/10\n",
            "3750/3750 [==============================] - 17s 5ms/step - loss: 0.1803\n",
            "Epoch 4/10\n",
            "3750/3750 [==============================] - 17s 5ms/step - loss: 0.1803\n",
            "Epoch 5/10\n",
            "3750/3750 [==============================] - 17s 5ms/step - loss: 0.1803\n",
            "Epoch 6/10\n",
            "3750/3750 [==============================] - 17s 5ms/step - loss: 0.1803\n",
            "Epoch 7/10\n",
            "3750/3750 [==============================] - 17s 5ms/step - loss: 0.1803\n",
            "Epoch 8/10\n",
            "3750/3750 [==============================] - 17s 5ms/step - loss: 0.1803\n",
            "Epoch 9/10\n",
            "3750/3750 [==============================] - 17s 5ms/step - loss: 0.1803\n",
            "Epoch 10/10\n",
            "3750/3750 [==============================] - 18s 5ms/step - loss: 0.1803\n",
            "Epoch 1/10\n",
            "1875/1875 [==============================] - 10s 5ms/step - loss: 0.1803\n",
            "Epoch 2/10\n",
            "1875/1875 [==============================] - 9s 5ms/step - loss: 0.1803\n",
            "Epoch 3/10\n",
            "1875/1875 [==============================] - 9s 5ms/step - loss: 0.1803\n",
            "Epoch 4/10\n",
            "1875/1875 [==============================] - 9s 5ms/step - loss: 0.1803\n",
            "Epoch 5/10\n",
            "1875/1875 [==============================] - 9s 5ms/step - loss: 0.1803\n",
            "Epoch 6/10\n",
            "1875/1875 [==============================] - 9s 5ms/step - loss: 0.1803\n",
            "Epoch 7/10\n",
            "1875/1875 [==============================] - 9s 5ms/step - loss: 0.1803\n",
            "Epoch 8/10\n",
            "1875/1875 [==============================] - 9s 5ms/step - loss: 0.1803\n",
            "Epoch 9/10\n",
            "1875/1875 [==============================] - 9s 5ms/step - loss: 0.1803\n",
            "Epoch 10/10\n",
            "1875/1875 [==============================] - 9s 5ms/step - loss: 0.1803\n",
            "Epoch 1/10\n",
            "938/938 [==============================] - 6s 6ms/step - loss: 0.1803\n",
            "Epoch 2/10\n",
            "938/938 [==============================] - 5s 5ms/step - loss: 0.1803\n",
            "Epoch 3/10\n",
            "938/938 [==============================] - 5s 6ms/step - loss: 0.1803\n",
            "Epoch 4/10\n",
            "938/938 [==============================] - 5s 5ms/step - loss: 0.1803\n",
            "Epoch 5/10\n",
            "938/938 [==============================] - 6s 6ms/step - loss: 0.1803\n",
            "Epoch 6/10\n",
            "938/938 [==============================] - 5s 5ms/step - loss: 0.1803\n",
            "Epoch 7/10\n",
            "938/938 [==============================] - 5s 5ms/step - loss: 0.1803\n",
            "Epoch 8/10\n",
            "938/938 [==============================] - 5s 6ms/step - loss: 0.1803\n",
            "Epoch 9/10\n",
            "938/938 [==============================] - 5s 6ms/step - loss: 0.1803\n",
            "Epoch 10/10\n",
            "938/938 [==============================] - 5s 5ms/step - loss: 0.1803\n"
          ]
        }
      ]
    },
    {
      "cell_type": "code",
      "source": [
        "import keras\n",
        "\n",
        "for i in range(len(learningrates_list)):\n",
        "    optimizer = keras.optimizers.Adam(lr = learningrates_list[i])\n",
        "    model2.compile(loss='mse', optimizer=optimizer)\n",
        "    history = model2.fit(x_train, y_train, epochs = 10, batch_size = batchsize_list[i])"
      ],
      "metadata": {
        "colab": {
          "base_uri": "https://localhost:8080/"
        },
        "id": "OSzCcboyo_sF",
        "outputId": "5e1ad253-15fa-48c7-c5a6-93409a7e8a0a"
      },
      "execution_count": 30,
      "outputs": [
        {
          "output_type": "stream",
          "name": "stdout",
          "text": [
            "Epoch 1/10\n",
            "7500/7500 [==============================] - 34s 4ms/step - loss: 0.1805\n",
            "Epoch 2/10\n",
            "7500/7500 [==============================] - 33s 4ms/step - loss: 0.1805\n",
            "Epoch 3/10\n",
            "7500/7500 [==============================] - 33s 4ms/step - loss: 0.1805\n",
            "Epoch 4/10\n",
            "7500/7500 [==============================] - 34s 5ms/step - loss: 0.1805\n",
            "Epoch 5/10\n",
            "7500/7500 [==============================] - 35s 5ms/step - loss: 0.1805\n",
            "Epoch 6/10\n",
            "7500/7500 [==============================] - 34s 5ms/step - loss: 0.1805\n",
            "Epoch 7/10\n",
            "7500/7500 [==============================] - 34s 5ms/step - loss: 0.1805\n",
            "Epoch 8/10\n",
            "7500/7500 [==============================] - 35s 5ms/step - loss: 0.1805\n",
            "Epoch 9/10\n",
            "7500/7500 [==============================] - 34s 5ms/step - loss: 0.1805\n",
            "Epoch 10/10\n",
            "7500/7500 [==============================] - 35s 5ms/step - loss: 0.1805\n",
            "Epoch 1/10\n",
            "3750/3750 [==============================] - 22s 6ms/step - loss: 0.1805\n",
            "Epoch 2/10\n",
            "3750/3750 [==============================] - 21s 6ms/step - loss: 0.1805\n",
            "Epoch 3/10\n",
            "3750/3750 [==============================] - 22s 6ms/step - loss: 0.1805\n",
            "Epoch 4/10\n",
            "3750/3750 [==============================] - 21s 6ms/step - loss: 0.1805\n",
            "Epoch 5/10\n",
            "3750/3750 [==============================] - 21s 5ms/step - loss: 0.1805\n",
            "Epoch 6/10\n",
            "3750/3750 [==============================] - 21s 6ms/step - loss: 0.1805\n",
            "Epoch 7/10\n",
            "3750/3750 [==============================] - 21s 6ms/step - loss: 0.1805\n",
            "Epoch 8/10\n",
            "3750/3750 [==============================] - 21s 5ms/step - loss: 0.1805\n",
            "Epoch 9/10\n",
            "3750/3750 [==============================] - 21s 6ms/step - loss: 0.1805\n",
            "Epoch 10/10\n",
            "3750/3750 [==============================] - 20s 5ms/step - loss: 0.1805\n",
            "Epoch 1/10\n",
            "1875/1875 [==============================] - 11s 6ms/step - loss: 0.1805\n",
            "Epoch 2/10\n",
            "1875/1875 [==============================] - 11s 6ms/step - loss: 0.1805\n",
            "Epoch 3/10\n",
            "1875/1875 [==============================] - 11s 6ms/step - loss: 0.1805\n",
            "Epoch 4/10\n",
            "1875/1875 [==============================] - 11s 6ms/step - loss: 0.1805\n",
            "Epoch 5/10\n",
            "1875/1875 [==============================] - 11s 6ms/step - loss: 0.1805\n",
            "Epoch 6/10\n",
            "1875/1875 [==============================] - 10s 6ms/step - loss: 0.1805\n",
            "Epoch 7/10\n",
            "1875/1875 [==============================] - 11s 6ms/step - loss: 0.1805\n",
            "Epoch 8/10\n",
            "1875/1875 [==============================] - 10s 6ms/step - loss: 0.1805\n",
            "Epoch 9/10\n",
            "1875/1875 [==============================] - 10s 6ms/step - loss: 0.1805\n",
            "Epoch 10/10\n",
            "1875/1875 [==============================] - 11s 6ms/step - loss: 0.1805\n",
            "Epoch 1/10\n",
            "938/938 [==============================] - 6s 6ms/step - loss: 0.1805\n",
            "Epoch 2/10\n",
            "938/938 [==============================] - 5s 6ms/step - loss: 0.1805\n",
            "Epoch 3/10\n",
            "938/938 [==============================] - 6s 6ms/step - loss: 0.1805\n",
            "Epoch 4/10\n",
            "938/938 [==============================] - 5s 6ms/step - loss: 0.1805\n",
            "Epoch 5/10\n",
            "938/938 [==============================] - 5s 6ms/step - loss: 0.1805\n",
            "Epoch 6/10\n",
            "938/938 [==============================] - 5s 6ms/step - loss: 0.1805\n",
            "Epoch 7/10\n",
            "938/938 [==============================] - 5s 6ms/step - loss: 0.1805\n",
            "Epoch 8/10\n",
            "938/938 [==============================] - 5s 6ms/step - loss: 0.1805\n",
            "Epoch 9/10\n",
            "938/938 [==============================] - 5s 6ms/step - loss: 0.1805\n",
            "Epoch 10/10\n",
            "938/938 [==============================] - 5s 6ms/step - loss: 0.1805\n"
          ]
        }
      ]
    },
    {
      "cell_type": "code",
      "source": [
        "import keras\n",
        "\n",
        "for i in range(len(learningrates_list)):\n",
        "    optimizer = keras.optimizers.Adam(lr = learningrates_list[i])\n",
        "    model3.compile(loss='mse', optimizer=optimizer)\n",
        "    history = model3.fit(x_train, y_train, epochs = 10, batch_size = batchsize_list[i])"
      ],
      "metadata": {
        "colab": {
          "base_uri": "https://localhost:8080/"
        },
        "id": "61DVtlDlpF3o",
        "outputId": "e6fe9650-0e5a-4a9d-a339-a69ebc0e0f6a"
      },
      "execution_count": 31,
      "outputs": [
        {
          "output_type": "stream",
          "name": "stdout",
          "text": [
            "Epoch 1/10\n",
            "7500/7500 [==============================] - 33s 4ms/step - loss: 0.1803\n",
            "Epoch 2/10\n",
            "7500/7500 [==============================] - 32s 4ms/step - loss: 0.1803\n",
            "Epoch 3/10\n",
            "7500/7500 [==============================] - 33s 4ms/step - loss: 0.1803\n",
            "Epoch 4/10\n",
            "7500/7500 [==============================] - 32s 4ms/step - loss: 0.1803\n",
            "Epoch 5/10\n",
            "7500/7500 [==============================] - 32s 4ms/step - loss: 0.1803\n",
            "Epoch 6/10\n",
            "7500/7500 [==============================] - 32s 4ms/step - loss: 0.1803\n",
            "Epoch 7/10\n",
            "7500/7500 [==============================] - 32s 4ms/step - loss: 0.1803\n",
            "Epoch 8/10\n",
            "7500/7500 [==============================] - 32s 4ms/step - loss: 0.1803\n",
            "Epoch 9/10\n",
            "7500/7500 [==============================] - 33s 4ms/step - loss: 0.1803\n",
            "Epoch 10/10\n",
            "7500/7500 [==============================] - 32s 4ms/step - loss: 0.1803\n",
            "Epoch 1/10\n",
            "3750/3750 [==============================] - 20s 5ms/step - loss: 0.1803\n",
            "Epoch 2/10\n",
            "3750/3750 [==============================] - 20s 5ms/step - loss: 0.1803\n",
            "Epoch 3/10\n",
            "3750/3750 [==============================] - 20s 5ms/step - loss: 0.1803\n",
            "Epoch 4/10\n",
            "3750/3750 [==============================] - 19s 5ms/step - loss: 0.1803\n",
            "Epoch 5/10\n",
            "3750/3750 [==============================] - 20s 5ms/step - loss: 0.1803\n",
            "Epoch 6/10\n",
            "3750/3750 [==============================] - 20s 5ms/step - loss: 0.1803\n",
            "Epoch 7/10\n",
            "3750/3750 [==============================] - 20s 5ms/step - loss: 0.1803\n",
            "Epoch 8/10\n",
            "3750/3750 [==============================] - 20s 5ms/step - loss: 0.1803\n",
            "Epoch 9/10\n",
            "3750/3750 [==============================] - 20s 5ms/step - loss: 0.1803\n",
            "Epoch 10/10\n",
            "3750/3750 [==============================] - 20s 5ms/step - loss: 0.1803\n",
            "Epoch 1/10\n",
            "1875/1875 [==============================] - 10s 5ms/step - loss: 0.1803\n",
            "Epoch 2/10\n",
            "1875/1875 [==============================] - 10s 5ms/step - loss: 0.1803\n",
            "Epoch 3/10\n",
            "1875/1875 [==============================] - 10s 5ms/step - loss: 0.1803\n",
            "Epoch 4/10\n",
            "1875/1875 [==============================] - 10s 5ms/step - loss: 0.1803\n",
            "Epoch 5/10\n",
            "1875/1875 [==============================] - 10s 5ms/step - loss: 0.1803\n",
            "Epoch 6/10\n",
            "1875/1875 [==============================] - 10s 5ms/step - loss: 0.1803\n",
            "Epoch 7/10\n",
            "1875/1875 [==============================] - 10s 5ms/step - loss: 0.1803\n",
            "Epoch 8/10\n",
            "1875/1875 [==============================] - 11s 6ms/step - loss: 0.1803\n",
            "Epoch 9/10\n",
            "1875/1875 [==============================] - 10s 5ms/step - loss: 0.1803\n",
            "Epoch 10/10\n",
            "1875/1875 [==============================] - 10s 5ms/step - loss: 0.1803\n",
            "Epoch 1/10\n",
            "938/938 [==============================] - 6s 6ms/step - loss: 0.1803\n",
            "Epoch 2/10\n",
            "938/938 [==============================] - 5s 6ms/step - loss: 0.1803\n",
            "Epoch 3/10\n",
            "938/938 [==============================] - 5s 6ms/step - loss: 0.1803\n",
            "Epoch 4/10\n",
            "938/938 [==============================] - 5s 6ms/step - loss: 0.1803\n",
            "Epoch 5/10\n",
            "938/938 [==============================] - 5s 6ms/step - loss: 0.1803\n",
            "Epoch 6/10\n",
            "938/938 [==============================] - 5s 6ms/step - loss: 0.1803\n",
            "Epoch 7/10\n",
            "938/938 [==============================] - 5s 6ms/step - loss: 0.1803\n",
            "Epoch 8/10\n",
            "938/938 [==============================] - 5s 6ms/step - loss: 0.1803\n",
            "Epoch 9/10\n",
            "938/938 [==============================] - 5s 6ms/step - loss: 0.1803\n",
            "Epoch 10/10\n",
            "938/938 [==============================] - 5s 6ms/step - loss: 0.1803\n"
          ]
        }
      ]
    },
    {
      "cell_type": "markdown",
      "source": [
        "I have trive multiple batch size. According to the loss value, the batch size has no significant impact on model."
      ],
      "metadata": {
        "id": "6KonbDXL-3L6"
      }
    },
    {
      "cell_type": "code",
      "source": [
        "# ADAM optimizer is not running again as it has run before in the previous code segments\n",
        "\n",
        "model2.compile(loss='categorical_crossentropy', optimizer='SGD')\n",
        "history = model2.fit(x_train, y_train, epochs = 10, batch_size = 32)"
      ],
      "metadata": {
        "colab": {
          "base_uri": "https://localhost:8080/"
        },
        "id": "Ig-SuBhxvHRN",
        "outputId": "21fd7ddb-8a48-4824-b90c-6e1a985b3610"
      },
      "execution_count": 32,
      "outputs": [
        {
          "output_type": "stream",
          "name": "stdout",
          "text": [
            "Epoch 1/10\n",
            "1875/1875 [==============================] - 10s 5ms/step - loss: 12.2290\n",
            "Epoch 2/10\n",
            "1875/1875 [==============================] - 9s 5ms/step - loss: 2.3051\n",
            "Epoch 3/10\n",
            "1875/1875 [==============================] - 9s 5ms/step - loss: 2.3051\n",
            "Epoch 4/10\n",
            "1875/1875 [==============================] - 9s 5ms/step - loss: 2.3050\n",
            "Epoch 5/10\n",
            "1875/1875 [==============================] - 10s 5ms/step - loss: 2.3049\n",
            "Epoch 6/10\n",
            "1875/1875 [==============================] - 9s 5ms/step - loss: 2.3052\n",
            "Epoch 7/10\n",
            "1875/1875 [==============================] - 9s 5ms/step - loss: 2.3052\n",
            "Epoch 8/10\n",
            "1875/1875 [==============================] - 9s 5ms/step - loss: 2.3054\n",
            "Epoch 9/10\n",
            "1875/1875 [==============================] - 9s 5ms/step - loss: 2.3053\n",
            "Epoch 10/10\n",
            "1875/1875 [==============================] - 9s 5ms/step - loss: 2.3052\n"
          ]
        }
      ]
    },
    {
      "cell_type": "code",
      "source": [
        "model2.compile(loss='categorical_crossentropy', optimizer='RMSProp')\n",
        "history = model2.fit(x_train, y_train, epochs = 10, batch_size = 32)"
      ],
      "metadata": {
        "colab": {
          "base_uri": "https://localhost:8080/"
        },
        "id": "ZPMQUaLSvkvd",
        "outputId": "b825cf00-bd92-40aa-fa37-de42ce0fa882"
      },
      "execution_count": 33,
      "outputs": [
        {
          "output_type": "stream",
          "name": "stdout",
          "text": [
            "Epoch 1/10\n",
            "1875/1875 [==============================] - 13s 6ms/step - loss: 1.1243\n",
            "Epoch 2/10\n",
            "1875/1875 [==============================] - 12s 6ms/step - loss: 1.0235\n",
            "Epoch 3/10\n",
            "1875/1875 [==============================] - 12s 6ms/step - loss: 0.9641\n",
            "Epoch 4/10\n",
            "1875/1875 [==============================] - 12s 6ms/step - loss: 0.9255\n",
            "Epoch 5/10\n",
            "1875/1875 [==============================] - 12s 6ms/step - loss: 0.8998\n",
            "Epoch 6/10\n",
            "1875/1875 [==============================] - 12s 6ms/step - loss: 0.8712\n",
            "Epoch 7/10\n",
            "1875/1875 [==============================] - 12s 6ms/step - loss: 0.8431\n",
            "Epoch 8/10\n",
            "1875/1875 [==============================] - 12s 6ms/step - loss: 0.8146\n",
            "Epoch 9/10\n",
            "1875/1875 [==============================] - 12s 6ms/step - loss: 0.7909\n",
            "Epoch 10/10\n",
            "1875/1875 [==============================] - 12s 6ms/step - loss: 0.7630\n"
          ]
        }
      ]
    },
    {
      "cell_type": "code",
      "source": [
        "model3.compile(loss='categorical_crossentropy', optimizer='SGD')\n",
        "history = model3.fit(x_train, y_train, epochs = 10, batch_size = 32)"
      ],
      "metadata": {
        "colab": {
          "base_uri": "https://localhost:8080/"
        },
        "id": "guctoVItvrCw",
        "outputId": "36f945a5-2daa-49cf-84b9-570f4eeb6fae"
      },
      "execution_count": 34,
      "outputs": [
        {
          "output_type": "stream",
          "name": "stdout",
          "text": [
            "Epoch 1/10\n",
            "1875/1875 [==============================] - 10s 5ms/step - loss: 2.3049\n",
            "Epoch 2/10\n",
            "1875/1875 [==============================] - 9s 5ms/step - loss: 2.3052\n",
            "Epoch 3/10\n",
            "1875/1875 [==============================] - 10s 5ms/step - loss: 2.3051\n",
            "Epoch 4/10\n",
            "1875/1875 [==============================] - 9s 5ms/step - loss: 2.3052\n",
            "Epoch 5/10\n",
            "1875/1875 [==============================] - 9s 5ms/step - loss: 2.3049\n",
            "Epoch 6/10\n",
            "1875/1875 [==============================] - 9s 5ms/step - loss: 2.3051\n",
            "Epoch 7/10\n",
            "1875/1875 [==============================] - 9s 5ms/step - loss: 2.3053\n",
            "Epoch 8/10\n",
            "1875/1875 [==============================] - 9s 5ms/step - loss: 2.3052\n",
            "Epoch 9/10\n",
            "1875/1875 [==============================] - 9s 5ms/step - loss: 2.3047\n",
            "Epoch 10/10\n",
            "1875/1875 [==============================] - 9s 5ms/step - loss: 2.3053\n"
          ]
        }
      ]
    },
    {
      "cell_type": "code",
      "source": [
        "model3.compile(loss='categorical_crossentropy', optimizer='RMSProp')\n",
        "history = model3.fit(x_train, y_train, epochs = 10, batch_size = 32)"
      ],
      "metadata": {
        "colab": {
          "base_uri": "https://localhost:8080/"
        },
        "id": "Bxb4pnTWvs6Y",
        "outputId": "5046df5d-babb-4666-aa6f-457b6d5abe0a"
      },
      "execution_count": 35,
      "outputs": [
        {
          "output_type": "stream",
          "name": "stdout",
          "text": [
            "Epoch 1/10\n",
            "1875/1875 [==============================] - 13s 6ms/step - loss: 0.7430\n",
            "Epoch 2/10\n",
            "1875/1875 [==============================] - 12s 6ms/step - loss: 0.7255\n",
            "Epoch 3/10\n",
            "1875/1875 [==============================] - 12s 6ms/step - loss: 0.7026\n",
            "Epoch 4/10\n",
            "1875/1875 [==============================] - 11s 6ms/step - loss: 0.6799\n",
            "Epoch 5/10\n",
            "1875/1875 [==============================] - 12s 6ms/step - loss: 0.6654\n",
            "Epoch 6/10\n",
            "1875/1875 [==============================] - 12s 6ms/step - loss: 0.6431\n",
            "Epoch 7/10\n",
            "1875/1875 [==============================] - 12s 6ms/step - loss: 0.6197\n",
            "Epoch 8/10\n",
            "1875/1875 [==============================] - 12s 6ms/step - loss: 0.6064\n",
            "Epoch 9/10\n",
            "1875/1875 [==============================] - 12s 6ms/step - loss: 0.5913\n",
            "Epoch 10/10\n",
            "1875/1875 [==============================] - 12s 6ms/step - loss: 0.5810\n"
          ]
        }
      ]
    },
    {
      "cell_type": "markdown",
      "source": [
        "We can see from the result that, among three optimizer, RMSProp is getting better result in terms of validation loss."
      ],
      "metadata": {
        "id": "LKfSMYvF_GJz"
      }
    }
  ]
}