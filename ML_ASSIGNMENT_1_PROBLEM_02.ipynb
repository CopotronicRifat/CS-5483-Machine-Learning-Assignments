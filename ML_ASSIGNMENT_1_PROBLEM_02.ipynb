{
  "nbformat": 4,
  "nbformat_minor": 0,
  "metadata": {
    "colab": {
      "provenance": [],
      "authorship_tag": "ABX9TyOD+2gMvZkf8/l4ga5vVFBE",
      "include_colab_link": true
    },
    "kernelspec": {
      "name": "python3",
      "display_name": "Python 3"
    },
    "language_info": {
      "name": "python"
    }
  },
  "cells": [
    {
      "cell_type": "markdown",
      "metadata": {
        "id": "view-in-github",
        "colab_type": "text"
      },
      "source": [
        "<a href=\"https://colab.research.google.com/github/CopotronicRifat/CS-5783-Machine-Learning-Assignments/blob/main/ML_ASSIGNMENT_1_PROBLEM_02.ipynb\" target=\"_parent\"><img src=\"https://colab.research.google.com/assets/colab-badge.svg\" alt=\"Open In Colab\"/></a>"
      ]
    },
    {
      "cell_type": "code",
      "execution_count": null,
      "metadata": {
        "colab": {
          "base_uri": "https://localhost:8080/",
          "height": 90
        },
        "id": "bmRjAUa6ytpG",
        "outputId": "825a051d-ae94-45c5-ac4f-04eab9dd4a04"
      },
      "outputs": [
        {
          "output_type": "display_data",
          "data": {
            "text/plain": [
              "<IPython.core.display.HTML object>"
            ],
            "text/html": [
              "\n",
              "     <input type=\"file\" id=\"files-7a7307a3-3bb9-45e4-92c6-1c0c1af37589\" name=\"files[]\" multiple disabled\n",
              "        style=\"border:none\" />\n",
              "     <output id=\"result-7a7307a3-3bb9-45e4-92c6-1c0c1af37589\">\n",
              "      Upload widget is only available when the cell has been executed in the\n",
              "      current browser session. Please rerun this cell to enable.\n",
              "      </output>\n",
              "      <script>// Copyright 2017 Google LLC\n",
              "//\n",
              "// Licensed under the Apache License, Version 2.0 (the \"License\");\n",
              "// you may not use this file except in compliance with the License.\n",
              "// You may obtain a copy of the License at\n",
              "//\n",
              "//      http://www.apache.org/licenses/LICENSE-2.0\n",
              "//\n",
              "// Unless required by applicable law or agreed to in writing, software\n",
              "// distributed under the License is distributed on an \"AS IS\" BASIS,\n",
              "// WITHOUT WARRANTIES OR CONDITIONS OF ANY KIND, either express or implied.\n",
              "// See the License for the specific language governing permissions and\n",
              "// limitations under the License.\n",
              "\n",
              "/**\n",
              " * @fileoverview Helpers for google.colab Python module.\n",
              " */\n",
              "(function(scope) {\n",
              "function span(text, styleAttributes = {}) {\n",
              "  const element = document.createElement('span');\n",
              "  element.textContent = text;\n",
              "  for (const key of Object.keys(styleAttributes)) {\n",
              "    element.style[key] = styleAttributes[key];\n",
              "  }\n",
              "  return element;\n",
              "}\n",
              "\n",
              "// Max number of bytes which will be uploaded at a time.\n",
              "const MAX_PAYLOAD_SIZE = 100 * 1024;\n",
              "\n",
              "function _uploadFiles(inputId, outputId) {\n",
              "  const steps = uploadFilesStep(inputId, outputId);\n",
              "  const outputElement = document.getElementById(outputId);\n",
              "  // Cache steps on the outputElement to make it available for the next call\n",
              "  // to uploadFilesContinue from Python.\n",
              "  outputElement.steps = steps;\n",
              "\n",
              "  return _uploadFilesContinue(outputId);\n",
              "}\n",
              "\n",
              "// This is roughly an async generator (not supported in the browser yet),\n",
              "// where there are multiple asynchronous steps and the Python side is going\n",
              "// to poll for completion of each step.\n",
              "// This uses a Promise to block the python side on completion of each step,\n",
              "// then passes the result of the previous step as the input to the next step.\n",
              "function _uploadFilesContinue(outputId) {\n",
              "  const outputElement = document.getElementById(outputId);\n",
              "  const steps = outputElement.steps;\n",
              "\n",
              "  const next = steps.next(outputElement.lastPromiseValue);\n",
              "  return Promise.resolve(next.value.promise).then((value) => {\n",
              "    // Cache the last promise value to make it available to the next\n",
              "    // step of the generator.\n",
              "    outputElement.lastPromiseValue = value;\n",
              "    return next.value.response;\n",
              "  });\n",
              "}\n",
              "\n",
              "/**\n",
              " * Generator function which is called between each async step of the upload\n",
              " * process.\n",
              " * @param {string} inputId Element ID of the input file picker element.\n",
              " * @param {string} outputId Element ID of the output display.\n",
              " * @return {!Iterable<!Object>} Iterable of next steps.\n",
              " */\n",
              "function* uploadFilesStep(inputId, outputId) {\n",
              "  const inputElement = document.getElementById(inputId);\n",
              "  inputElement.disabled = false;\n",
              "\n",
              "  const outputElement = document.getElementById(outputId);\n",
              "  outputElement.innerHTML = '';\n",
              "\n",
              "  const pickedPromise = new Promise((resolve) => {\n",
              "    inputElement.addEventListener('change', (e) => {\n",
              "      resolve(e.target.files);\n",
              "    });\n",
              "  });\n",
              "\n",
              "  const cancel = document.createElement('button');\n",
              "  inputElement.parentElement.appendChild(cancel);\n",
              "  cancel.textContent = 'Cancel upload';\n",
              "  const cancelPromise = new Promise((resolve) => {\n",
              "    cancel.onclick = () => {\n",
              "      resolve(null);\n",
              "    };\n",
              "  });\n",
              "\n",
              "  // Wait for the user to pick the files.\n",
              "  const files = yield {\n",
              "    promise: Promise.race([pickedPromise, cancelPromise]),\n",
              "    response: {\n",
              "      action: 'starting',\n",
              "    }\n",
              "  };\n",
              "\n",
              "  cancel.remove();\n",
              "\n",
              "  // Disable the input element since further picks are not allowed.\n",
              "  inputElement.disabled = true;\n",
              "\n",
              "  if (!files) {\n",
              "    return {\n",
              "      response: {\n",
              "        action: 'complete',\n",
              "      }\n",
              "    };\n",
              "  }\n",
              "\n",
              "  for (const file of files) {\n",
              "    const li = document.createElement('li');\n",
              "    li.append(span(file.name, {fontWeight: 'bold'}));\n",
              "    li.append(span(\n",
              "        `(${file.type || 'n/a'}) - ${file.size} bytes, ` +\n",
              "        `last modified: ${\n",
              "            file.lastModifiedDate ? file.lastModifiedDate.toLocaleDateString() :\n",
              "                                    'n/a'} - `));\n",
              "    const percent = span('0% done');\n",
              "    li.appendChild(percent);\n",
              "\n",
              "    outputElement.appendChild(li);\n",
              "\n",
              "    const fileDataPromise = new Promise((resolve) => {\n",
              "      const reader = new FileReader();\n",
              "      reader.onload = (e) => {\n",
              "        resolve(e.target.result);\n",
              "      };\n",
              "      reader.readAsArrayBuffer(file);\n",
              "    });\n",
              "    // Wait for the data to be ready.\n",
              "    let fileData = yield {\n",
              "      promise: fileDataPromise,\n",
              "      response: {\n",
              "        action: 'continue',\n",
              "      }\n",
              "    };\n",
              "\n",
              "    // Use a chunked sending to avoid message size limits. See b/62115660.\n",
              "    let position = 0;\n",
              "    do {\n",
              "      const length = Math.min(fileData.byteLength - position, MAX_PAYLOAD_SIZE);\n",
              "      const chunk = new Uint8Array(fileData, position, length);\n",
              "      position += length;\n",
              "\n",
              "      const base64 = btoa(String.fromCharCode.apply(null, chunk));\n",
              "      yield {\n",
              "        response: {\n",
              "          action: 'append',\n",
              "          file: file.name,\n",
              "          data: base64,\n",
              "        },\n",
              "      };\n",
              "\n",
              "      let percentDone = fileData.byteLength === 0 ?\n",
              "          100 :\n",
              "          Math.round((position / fileData.byteLength) * 100);\n",
              "      percent.textContent = `${percentDone}% done`;\n",
              "\n",
              "    } while (position < fileData.byteLength);\n",
              "  }\n",
              "\n",
              "  // All done.\n",
              "  yield {\n",
              "    response: {\n",
              "      action: 'complete',\n",
              "    }\n",
              "  };\n",
              "}\n",
              "\n",
              "scope.google = scope.google || {};\n",
              "scope.google.colab = scope.google.colab || {};\n",
              "scope.google.colab._files = {\n",
              "  _uploadFiles,\n",
              "  _uploadFilesContinue,\n",
              "};\n",
              "})(self);\n",
              "</script> "
            ]
          },
          "metadata": {}
        },
        {
          "output_type": "stream",
          "name": "stdout",
          "text": [
            "Saving Assignment1_Q2_Data.csv to Assignment1_Q2_Data.csv\n",
            "User uploaded file \"Assignment1_Q2_Data.csv\" with length 1383 bytes\n"
          ]
        }
      ],
      "source": [
        "# Take Assignment1_Q2_Data.csv for question 2 from local drive\n",
        "\n",
        "from google.colab import files\n",
        "\n",
        "uploaded = files.upload()\n",
        "\n",
        "for fn in uploaded.keys():\n",
        "  print('User uploaded file \"{name}\" with length {length} bytes'.format(\n",
        "      name=fn, length=len(uploaded[fn])))"
      ]
    },
    {
      "cell_type": "code",
      "source": [
        "import io\n",
        "import pandas as pd\n",
        "df = pd.read_csv(io.BytesIO(uploaded[fn]))"
      ],
      "metadata": {
        "id": "iJ8ABMwqzCD6"
      },
      "execution_count": null,
      "outputs": []
    },
    {
      "cell_type": "code",
      "source": [
        "# Feature Normalization\n",
        "\n",
        "df = (df - df.mean())/df.std()"
      ],
      "metadata": {
        "id": "o73kfWKeX47u"
      },
      "execution_count": null,
      "outputs": []
    },
    {
      "cell_type": "code",
      "source": [
        "print(df.head(5))"
      ],
      "metadata": {
        "colab": {
          "base_uri": "https://localhost:8080/"
        },
        "id": "GcVUD2nb1kW6",
        "outputId": "12b8aaf7-dfaa-463b-8136-da2b032a504e"
      },
      "execution_count": null,
      "outputs": [
        {
          "output_type": "stream",
          "name": "stdout",
          "text": [
            "   House ID  Local Price  Bathrooms  Land Area  Living area  # Garages  \\\n",
            "0 -1.641143    -0.779386  -0.639215  -1.228089    -0.937655   -0.51927   \n",
            "1 -1.519577    -0.744480  -0.639215  -1.203847    -0.021318    1.01121   \n",
            "2 -1.398011    -0.906124  -0.639215  -1.719924    -0.614564   -0.51927   \n",
            "3 -1.276444    -0.901254  -0.639215  -0.990595    -0.510518   -0.51927   \n",
            "4 -1.154878    -0.731323  -0.639215  -0.824185    -0.713134   -0.51927   \n",
            "\n",
            "    # Rooms  # Bedrooms  Age of home  Construction type  Architecture type  \\\n",
            "0  0.277952    1.002230     0.411002            0.60678          -0.377189   \n",
            "1  0.277952    1.002230     1.858558           -1.01130          -0.377189   \n",
            "2 -0.586788   -0.400892     0.266247           -0.20226          -0.377189   \n",
            "3 -0.586788   -0.400892     1.279535            1.41582          -0.377189   \n",
            "4 -0.586788   -0.400892     0.411002            0.60678          -0.377189   \n",
            "\n",
            "   # Fire places  Price (1000$)  \n",
            "0      -0.675845      -0.865814  \n",
            "1      -0.675845      -0.611519  \n",
            "2      -0.675845      -0.724539  \n",
            "3      -0.675845      -0.865814  \n",
            "4      -0.675845      -0.583264  \n"
          ]
        }
      ]
    },
    {
      "cell_type": "code",
      "source": [
        "# get value from dataframe\n",
        "X = df.values[:,1:12]\n",
        "y =  df.values[:, -1]"
      ],
      "metadata": {
        "id": "I0VA6RWc3dTk"
      },
      "execution_count": null,
      "outputs": []
    },
    {
      "cell_type": "code",
      "source": [
        "print(X)\n",
        "print(y)"
      ],
      "metadata": {
        "colab": {
          "base_uri": "https://localhost:8080/"
        },
        "id": "27H6OWJD4dw0",
        "outputId": "a3cb7ef2-2df3-467f-be3f-7f9de9f31eef"
      },
      "execution_count": null,
      "outputs": [
        {
          "output_type": "stream",
          "name": "stdout",
          "text": [
            "[[-0.7793864  -0.63921486 -1.22808947 -0.93765475 -0.51927014  0.277952\n",
            "   1.00222966  0.4110023   0.60677988 -0.37718916 -0.67584534]\n",
            " [-0.74448022 -0.63921486 -1.203847   -0.02131774  1.01121026  0.277952\n",
            "   1.00222966  1.85855758 -1.01129979 -0.37718916 -0.67584534]\n",
            " [-0.90612422 -0.63921486 -1.71992399 -0.61456381 -0.51927014 -0.58678755\n",
            "  -0.40089186  0.26624677 -0.20225996 -0.37718916 -0.67584534]\n",
            " [-0.90125359 -0.63921486 -0.99059545 -0.51051758 -0.51927014 -0.58678755\n",
            "  -0.40089186  1.27953547  1.41581971 -0.37718916 -0.67584534]\n",
            " [-0.73132276 -0.63921486 -0.82418527 -0.71313393 -0.51927014 -0.58678755\n",
            "  -0.40089186  0.4110023   0.60677988 -0.37718916 -0.67584534]\n",
            " [-1.12662165 -0.63921486 -0.82418527 -0.95590848 -0.51927014 -0.58678755\n",
            "  -0.40089186  1.42429099 -0.20225996 -0.37718916 -0.67584534]\n",
            " [-0.44777774 -0.63921486 -0.25099467 -0.4959146  -0.51927014  0.277952\n",
            "  -0.40089186  1.06240218 -0.20225996 -0.37718916  1.4267846 ]\n",
            " [-0.54725358 -0.63921486  1.25696912 -0.01949237 -2.04975054 -0.58678755\n",
            "  -0.40089186 -0.31277534 -1.01129979 -0.37718916 -0.67584534]\n",
            " [ 3.11123141  2.94038837  1.37201813  3.48339751  1.01121026  2.87217063\n",
            "   2.40535118  0.4110023  -0.20225996 -0.37718916  1.4267846 ]\n",
            " [ 2.4481494   2.94038837  2.60468609  2.71674105  1.01121026  2.00743109\n",
            "   2.40535118 -1.61557508  1.41581971 -0.37718916  1.4267846 ]\n",
            " [-0.47138677 -0.63921486 -0.01062442 -0.52329519  1.01121026 -0.58678755\n",
            "  -0.40089186 -0.31277534 -1.01129979 -0.37718916 -0.67584534]\n",
            " [-0.64994267 -0.63921486 -0.605058    0.07360163 -0.51927014 -0.58678755\n",
            "  -0.40089186 -0.45753086 -1.01129979  1.38302692 -0.67584534]\n",
            " [-0.32154728 -0.63921486 -0.38658815 -0.97963832 -0.51927014 -1.45152709\n",
            "  -1.80401338 -0.45753086 -1.01129979  1.38302692 -0.67584534]\n",
            " [-0.42707757 -0.63921486  0.08429101 -0.71313393  1.01121026 -0.58678755\n",
            "  -0.40089186 -0.31277534 -0.20225996 -0.37718916 -0.67584534]\n",
            " [-0.73460367 -0.63921486 -0.6002506  -0.89749656 -2.04975054 -1.45152709\n",
            "  -1.80401338  0.70051336  1.41581971 -0.37718916  1.4267846 ]\n",
            " [-0.54725358 -0.63921486  1.25696912 -0.01949237 -2.04975054 -0.58678755\n",
            "  -0.40089186 -0.31277534 -1.01129979 -0.37718916 -0.67584534]\n",
            " [ 0.34654066  0.55398621 -0.5386172   0.27804335  1.01121026  1.14269154\n",
            "   1.00222966  0.99002441  1.41581971 -0.37718916 -0.67584534]\n",
            " [-0.17755931  0.55398621  0.18126089 -0.04322221  0.24597006  0.277952\n",
            "  -0.40089186 -1.03655297 -1.01129979 -0.37718916  1.4267846 ]\n",
            " [ 0.19017318  0.55398621  0.26343875 -0.24766394 -0.51927014 -0.58678755\n",
            "  -0.40089186 -1.39844179 -0.20225996 -0.37718916 -0.67584534]\n",
            " [ 0.61442525 -0.63921486  0.5502395  -0.02131774  0.24597006  0.277952\n",
            "  -0.40089186 -0.96417521  0.60677988  3.143243   -0.67584534]\n",
            " [-0.41686278 -0.63921486 -0.38658815 -0.46670864  1.01121026 -0.58678755\n",
            "  -0.40089186  0.26624677  1.41581971 -0.37718916  1.4267846 ]\n",
            " [ 0.10835337  0.55398621 -1.01113991  0.32550304 -0.51927014 -0.58678755\n",
            "  -0.40089186 -1.03655297 -1.01129979 -0.37718916 -0.67584534]\n",
            " [ 0.53213192  0.55398621  1.40899817  0.56280147  1.01121026  1.14269154\n",
            "   1.00222966  0.99002441 -1.01129979 -0.37718916  1.4267846 ]\n",
            " [-0.38178749  0.55398621  0.10914981  0.25613888 -0.51927014 -0.58678755\n",
            "  -0.40089186  0.55575783  1.41581971 -0.37718916 -0.67584534]\n",
            " [ 0.38520128  0.55398621  1.10494007  0.48431045  1.01121026  1.14269154\n",
            "   1.00222966  0.84526888 -1.01129979 -0.37718916  1.4267846 ]\n",
            " [ 0.31055212 -0.63921486  0.63241736 -0.01401625  1.01121026  0.277952\n",
            "  -0.40089186 -2.41173049 -1.01129979  3.143243   -0.67584534]\n",
            " [ 0.64933142  0.55398621  0.35556014  0.58288056  0.24597006  1.14269154\n",
            "   1.00222966 -0.3851531   1.41581971 -0.37718916 -0.67584534]\n",
            " [ 1.61615127  0.55398621 -0.6002506  -0.5689295   1.01121026 -0.58678755\n",
            "  -0.40089186 -0.45753086  0.60677988 -0.37718916  1.4267846 ]]\n",
            "[-0.86581438 -0.61151925 -0.72453931 -0.86581438 -0.58326423 -0.58326423\n",
            " -0.5126267  -0.65390177  3.3018003   3.16052523 -0.15943901 -0.47024417\n",
            " -0.50556294 -0.5126267  -0.57620048 -0.65390177 -0.08880148  0.26438621\n",
            "  0.16549366  0.40566128 -0.04641895 -0.01816394  0.44804381 -0.01816394\n",
            "  0.0524736  -0.08880148  0.5398726   0.20081243]\n"
          ]
        }
      ]
    },
    {
      "cell_type": "code",
      "source": [
        "# get the number of datapoints\n",
        "m = len(y)\n",
        "print(m)"
      ],
      "metadata": {
        "colab": {
          "base_uri": "https://localhost:8080/"
        },
        "id": "XBuK4oLV637U",
        "outputId": "ac8189a4-a677-4045-a3ec-32f84caed4db"
      },
      "execution_count": null,
      "outputs": [
        {
          "output_type": "stream",
          "name": "stdout",
          "text": [
            "28\n"
          ]
        }
      ]
    },
    {
      "cell_type": "code",
      "source": [
        "# add coulumn of 1 for dimention match\n",
        "\n",
        "import numpy as np\n",
        "X = np.hstack((np.ones((m,1)), X))"
      ],
      "metadata": {
        "id": "89DT0LhH_OGB"
      },
      "execution_count": null,
      "outputs": []
    },
    {
      "cell_type": "code",
      "source": [
        "#setting the matrixes\n",
        "X = df.iloc[:,1:12]\n",
        "ones = np.ones([X.shape[0],1])\n",
        "X = np.concatenate((ones,X),axis=1)\n",
        "\n",
        "y = df.iloc[:, -1].values \n",
        "theta = []\n",
        "import random\n",
        "for i in range(12):\n",
        "    num = random.randint(0, 10)\n",
        "    theta.append(num)\n",
        "\n",
        "print(theta)"
      ],
      "metadata": {
        "colab": {
          "base_uri": "https://localhost:8080/"
        },
        "id": "Bo5C8AK7BV3Y",
        "outputId": "18586396-1930-48ff-9e91-dfd528650de5"
      },
      "execution_count": null,
      "outputs": [
        {
          "output_type": "stream",
          "name": "stdout",
          "text": [
            "[5, 0, 6, 4, 6, 10, 8, 0, 4, 7, 3, 3]\n"
          ]
        }
      ]
    },
    {
      "cell_type": "code",
      "source": [
        "# computecost\n",
        "def computeCost(X,y,theta):\n",
        "    tobesummed = np.power(((X @ theta.T)-y),2)\n",
        "    return np.sum(tobesummed)/(2 * len(X))"
      ],
      "metadata": {
        "id": "Wj-hYRGZFEC4"
      },
      "execution_count": null,
      "outputs": []
    },
    {
      "cell_type": "code",
      "source": [
        "n = 100\n",
        "alpha = 0.1"
      ],
      "metadata": {
        "id": "k_Z72l7YFOOe"
      },
      "execution_count": null,
      "outputs": []
    },
    {
      "cell_type": "code",
      "source": [
        "# Problem 2.1\n",
        "# Average Least-Square errors \n",
        "\n",
        "import numpy as np\n",
        "#gradient descent\n",
        "def gradientDescent(X,y,theta,n,alpha):\n",
        "    cost = np.zeros(n)\n",
        "    for i in range(n):\n",
        "        predictions = X.dot(theta)\n",
        "        errors = np.subtract(predictions, y)\n",
        "        sum_delta = (alpha / m) * X.transpose().dot(errors);\n",
        "        theta = theta - sum_delta;\n",
        "        cost[i] = computeCost(X, y, theta)\n",
        "    \n",
        "    return theta,cost\n",
        "\n",
        "#running the gd and cost function\n",
        "g,cost = gradientDescent(X,y,theta,n,alpha)\n",
        "print(\"Final values of theta after all iteration: \",t)\n",
        "\n",
        "finalCost = computeCost(X,y,g)\n",
        "print(\"Average Lease-Square error is: \",finalCost)\n"
      ],
      "metadata": {
        "colab": {
          "base_uri": "https://localhost:8080/"
        },
        "id": "5xX_3XgyFJDA",
        "outputId": "6d1d45fc-cdbc-4272-92e8-6a2026dfd4a8"
      },
      "execution_count": null,
      "outputs": [
        {
          "output_type": "stream",
          "name": "stdout",
          "text": [
            "Final values of theta after all iteration:  [ 1.32806994e-04 -2.15329938e+00  2.01298445e+00  2.91988651e-01\n",
            "  1.28988739e+00  8.84198804e-01  1.88901837e+00 -2.84748640e+00\n",
            "  6.44735566e-02  2.90434775e-01 -4.61973674e-03 -3.31583259e-01]\n",
            "Average Lease-Square error is:  0.631114836430566\n"
          ]
        }
      ]
    },
    {
      "cell_type": "markdown",
      "source": [
        "**Answer 2.1**\n",
        "\n",
        "Average Lease-Square error is:  0.631114836430566"
      ],
      "metadata": {
        "id": "goaBYz6bQ89U"
      }
    },
    {
      "cell_type": "markdown",
      "source": [
        "**N.B.: Please note that, I have used sklearn package not implementing the linear regression but ONLY to get the most effective feature.**\n",
        "\n",
        "**Also, in question 2, there is NO restriction mentioned for using sklearn package. **"
      ],
      "metadata": {
        "id": "0Q9Imh2JeVw3"
      }
    },
    {
      "cell_type": "code",
      "source": [
        "# Problem 2.2: \n",
        "\n",
        "from sklearn.linear_model import LinearRegression\n",
        "from matplotlib import pyplot\n",
        "\n",
        "model = LinearRegression()\n",
        "model.fit(X, y)\n",
        "importance = model.coef_\n",
        "for i,v in enumerate(importance):\n",
        "\tprint('Feature: %0d, Score: %.2f' % (i,v))\n",
        " \n",
        "pyplot.bar([x for x in range(len(importance))], importance)\n",
        "pyplot.show()"
      ],
      "metadata": {
        "colab": {
          "base_uri": "https://localhost:8080/",
          "height": 473
        },
        "id": "f5dMYVOpc_6f",
        "outputId": "2939fd75-b260-4858-a055-05f88e0a8f7d"
      },
      "execution_count": null,
      "outputs": [
        {
          "output_type": "stream",
          "name": "stdout",
          "text": [
            "Feature: 0, Score: 0.00\n",
            "Feature: 1, Score: 0.18\n",
            "Feature: 2, Score: 0.27\n",
            "Feature: 3, Score: 0.03\n",
            "Feature: 4, Score: 0.52\n",
            "Feature: 5, Score: 0.09\n",
            "Feature: 6, Score: -0.09\n",
            "Feature: 7, Score: -0.02\n",
            "Feature: 8, Score: -0.07\n",
            "Feature: 9, Score: 0.09\n",
            "Feature: 10, Score: 0.05\n",
            "Feature: 11, Score: 0.09\n"
          ]
        },
        {
          "output_type": "display_data",
          "data": {
            "text/plain": [
              "<Figure size 432x288 with 1 Axes>"
            ],
            "image/png": "[encoded data removed]"
          },
          "metadata": {
            "needs_background": "light"
          }
        }
      ]
    },
    {
      "cell_type": "markdown",
      "source": [
        "**Answer 2.2**\n",
        "\n",
        "From the above data, we can see that Feature 4, i.e. **Living Area** is the most effective factor on the final value.\n",
        "\n",
        "As it can be seen from above barchart graph, it has the highest value.\n",
        "\n",
        "I cannot use only this feature to predict the price. Because, there are other important positive effective values there, such as Local Price and Bathroom etc."
      ],
      "metadata": {
        "id": "A60anvxjeDl3"
      }
    },
    {
      "cell_type": "markdown",
      "source": [
        "**Answer 2.3**\n",
        "From the above chart we can see that feature 6, i.e. **# Rooms** has the least effect on the final value.\n",
        "\n",
        "As it can be seen from above barchart graph, it has the lowest value.\n",
        "\n",
        "As this feature has a negative importance value, removing this feature will improve the performance of the model."
      ],
      "metadata": {
        "id": "76it5h1qfswn"
      }
    }
  ]
}