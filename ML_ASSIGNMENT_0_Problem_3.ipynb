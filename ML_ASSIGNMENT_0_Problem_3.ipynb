{
  "nbformat": 4,
  "nbformat_minor": 0,
  "metadata": {
    "colab": {
      "provenance": [],
      "collapsed_sections": [],
      "authorship_tag": "ABX9TyMSEAlBXR8mjhetAw8LsRov",
      "include_colab_link": true
    },
    "kernelspec": {
      "name": "python3",
      "display_name": "Python 3"
    },
    "language_info": {
      "name": "python"
    }
  },
  "cells": [
    {
      "cell_type": "markdown",
      "metadata": {
        "id": "view-in-github",
        "colab_type": "text"
      },
      "source": [
        "<a href=\"https://colab.research.google.com/github/CopotronicRifat/CS-5783-Machine-Learning-Assignments/blob/main/ML_ASSIGNMENT_0_Problem_3.ipynb\" target=\"_parent\"><img src=\"https://colab.research.google.com/assets/colab-badge.svg\" alt=\"Open In Colab\"/></a>"
      ]
    },
    {
      "cell_type": "code",
      "execution_count": 7,
      "metadata": {
        "colab": {
          "base_uri": "https://localhost:8080/"
        },
        "id": "RGwWJaZ9ya1S",
        "outputId": "d26f8658-e08b-4bb0-f90f-2cab6eb0d779"
      },
      "outputs": [
        {
          "output_type": "stream",
          "name": "stdout",
          "text": [
            "Cost of single Soft Tacos:  1.25\n",
            "Cost of single Burritos:  2.5\n",
            "Cost of Soft Tacos:  8.75\n",
            "Cost of Burritos:  12.5\n"
          ]
        }
      ],
      "source": [
        "import numpy as np\n",
        "a = np.array([[3,3], [4,2]])\n",
        "b = np.array([11.25, 10.00])\n",
        "\n",
        "x = np.linalg.solve(a, b)\n",
        "\n",
        "print(\"Cost of single Soft Tacos: \", x[0])\n",
        "print(\"Cost of single Burritos: \", x[1])\n",
        "\n",
        "print(\"Cost of Soft Tacos: \", (a[0][0] + a[1][0])*x[0])\n",
        "print(\"Cost of Burritos: \", (a[0][1] + a[1][1])*x[1])"
      ]
    }
  ]
}