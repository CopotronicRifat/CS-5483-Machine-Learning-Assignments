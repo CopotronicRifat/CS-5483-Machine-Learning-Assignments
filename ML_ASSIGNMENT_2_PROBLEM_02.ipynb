{
  "nbformat": 4,
  "nbformat_minor": 0,
  "metadata": {
    "colab": {
      "provenance": [],
      "collapsed_sections": [],
      "authorship_tag": "ABX9TyN+CnNkNRNnni9FnuTQxRm2",
      "include_colab_link": true
    },
    "kernelspec": {
      "name": "python3",
      "display_name": "Python 3"
    },
    "language_info": {
      "name": "python"
    }
  },
  "cells": [
    {
      "cell_type": "markdown",
      "metadata": {
        "id": "view-in-github",
        "colab_type": "text"
      },
      "source": [
        "<a href=\"https://colab.research.google.com/github/CopotronicRifat/CS-5783-Machine-Learning-Assignments/blob/main/ML_ASSIGNMENT_2_PROBLEM_02.ipynb\" target=\"_parent\"><img src=\"https://colab.research.google.com/assets/colab-badge.svg\" alt=\"Open In Colab\"/></a>"
      ]
    },
    {
      "cell_type": "code",
      "execution_count": 1,
      "metadata": {
        "colab": {
          "base_uri": "https://localhost:8080/"
        },
        "id": "MCMsOBw0GKaS",
        "outputId": "e3e0004e-635d-4861-9d63-240d5dc4a08a"
      },
      "outputs": [
        {
          "output_type": "stream",
          "name": "stdout",
          "text": [
            "Mounted at /content/drive\n"
          ]
        }
      ],
      "source": [
        "# Drive mount\n",
        "\n",
        "from google.colab import drive\n",
        "drive.mount('/content/drive')"
      ]
    },
    {
      "cell_type": "code",
      "source": [
        "import numpy as np"
      ],
      "metadata": {
        "id": "3LUIO3g9GQaC"
      },
      "execution_count": 2,
      "outputs": []
    },
    {
      "cell_type": "code",
      "source": [
        "# Load the data from drive\n",
        "\n",
        "x_train = np.loadtxt('/content/drive/MyDrive/X_train.csv')\n",
        "y_train = np.loadtxt('/content/drive/MyDrive/Y_train.csv')\n",
        "x_test = np.loadtxt('/content/drive/MyDrive/X_test.csv')\n",
        "y_test = np.loadtxt('/content/drive/MyDrive/Y_test.csv')"
      ],
      "metadata": {
        "id": "XIbv-PGBGSiY"
      },
      "execution_count": 3,
      "outputs": []
    },
    {
      "cell_type": "code",
      "source": [
        "print(x_train.shape)\n",
        "print(y_train.shape)\n",
        "print(x_test.shape)\n",
        "print(y_test.shape)"
      ],
      "metadata": {
        "colab": {
          "base_uri": "https://localhost:8080/"
        },
        "id": "aWXgyhE1ZMhI",
        "outputId": "be3497a7-234a-4616-939d-569e8bbce5fc"
      },
      "execution_count": 21,
      "outputs": [
        {
          "output_type": "stream",
          "name": "stdout",
          "text": [
            "(100, 2)\n",
            "(100,)\n",
            "(50, 2)\n",
            "(50,)\n"
          ]
        }
      ]
    },
    {
      "cell_type": "code",
      "source": [
        "y_train = y_train.reshape(100,1)\n",
        "y_test = y_test.reshape(50,1)"
      ],
      "metadata": {
        "id": "XUq03OnNZdOD"
      },
      "execution_count": 24,
      "outputs": []
    },
    {
      "cell_type": "code",
      "source": [
        "print(x_train.shape)\n",
        "print(y_train.shape)\n",
        "print(x_test.shape)\n",
        "print(y_test.shape)"
      ],
      "metadata": {
        "colab": {
          "base_uri": "https://localhost:8080/"
        },
        "id": "uiOnjOEBZsIR",
        "outputId": "8e09c960-4483-486f-dfd3-85f0477f6f91"
      },
      "execution_count": 25,
      "outputs": [
        {
          "output_type": "stream",
          "name": "stdout",
          "text": [
            "(100, 2)\n",
            "(100, 1)\n",
            "(50, 2)\n",
            "(50, 1)\n"
          ]
        }
      ]
    },
    {
      "cell_type": "code",
      "source": [
        "# Sigmoid Activation Function\n",
        "\n",
        "def sigmoid (z):\n",
        "    return 1/(1+np.exp(-z))"
      ],
      "metadata": {
        "id": "K4jWAFHuZ0ko"
      },
      "execution_count": 26,
      "outputs": []
    },
    {
      "cell_type": "code",
      "source": [
        "w1 = np.random.rand(100,2)  \n",
        "b1= np.random.rand(100,1)   \n",
        "\n",
        "w2 = np.random.rand(1,100)  \n",
        "b2= np.random.rand(1,1) "
      ],
      "metadata": {
        "id": "MvQx9408Z167"
      },
      "execution_count": 42,
      "outputs": []
    },
    {
      "cell_type": "code",
      "source": [
        "# Backpropagation with MSE\n",
        "\n",
        "learning_rate = 0.001\n",
        "\n",
        "mse2 = []\n",
        "w1_list = []\n",
        "w2_list = []\n",
        "b1_list = []\n",
        "b2_list = []\n",
        "t11_list = []\n",
        "\n",
        "\n",
        "for i in range (100):\n",
        "    mse1 = []\n",
        "    t1_list = []\n",
        "    t2_list = []\n",
        "\n",
        "    \n",
        "    for j in range (100):\n",
        "        \n",
        "        # Forward Pass\n",
        "\n",
        "        z1 = np.dot(w1,x_train[j].reshape(2,1))+b1  \n",
        "        a1 = sigmoid(z1)\n",
        "        z2 = np.dot(w2,a1)+b2\n",
        "        a2 = z2\n",
        "\n",
        "        dz2 = a2-y_train[j].reshape(1,1)\n",
        "        dw2 = np.dot(dz2,a1.T)\n",
        "        db2 = dz2\n",
        "\n",
        "        dz1 = np.dot(w2.T,a2-y_train[j].reshape(1,1))*sigmoid(z1)*(1-sigmoid(z1))\n",
        "        dw1 = np.dot(dz1,x_train[j].reshape(2,1).T)\n",
        "        db1 = dz1\n",
        "\n",
        "        w1 = w1-learning_rate*dw1\n",
        "        b1 = b1-learning_rate*np.mean(db1)\n",
        "        w2 = w2-learning_rate*dw2\n",
        "        b2 = b2-learning_rate*np.mean(db2)\n",
        "        \n",
        "        MSE = ((y_train[j] - a2)**2)\n",
        "        mse1.append(MSE)\n",
        "\n",
        "    w1_list.append(w1)\n",
        "    w2_list.append(w2)\n",
        "    b1_list.append(b1)\n",
        "    b2_list.append(b2)\n",
        "\n",
        "    a = sum(mse1)/100\n",
        "    mse2.append(a)\n",
        "    b=(len(t1_list))/100\n",
        "    t11_list.append(b)"
      ],
      "metadata": {
        "id": "qHlRklBcaK5N"
      },
      "execution_count": 45,
      "outputs": []
    },
    {
      "cell_type": "markdown",
      "source": [
        "**Problem 2.1**\n",
        "\n",
        "As it is a regression problem and we only have one neuron in the output layer, we won't need any activation function for the output layer."
      ],
      "metadata": {
        "id": "rrZe1MAN2GvI"
      }
    },
    {
      "cell_type": "markdown",
      "source": [
        "**Problem 2.2**\n",
        "\n",
        "There will be only one output layer as it is a regression problem. We do not need any class prediction, rather we need continuous values."
      ],
      "metadata": {
        "id": "a-baD8pf2Mj6"
      }
    },
    {
      "cell_type": "code",
      "source": [
        "import math"
      ],
      "metadata": {
        "id": "-ZBRvQilbD76"
      },
      "execution_count": 46,
      "outputs": []
    },
    {
      "cell_type": "markdown",
      "source": [
        "**Problem 2.3.a**\n",
        "\n",
        "MSE Loss and Accuracy on Train Data"
      ],
      "metadata": {
        "id": "Esgnap5ccBVj"
      }
    },
    {
      "cell_type": "code",
      "source": [
        "print(\"Average MSE loss on Train data: \", sum(mse2)/2*100)\n",
        "print(\"Average Accuracy on Train data: \", math.sqrt(sum(mse2)/100))"
      ],
      "metadata": {
        "colab": {
          "base_uri": "https://localhost:8080/"
        },
        "id": "hqc3JrMDbA5B",
        "outputId": "88cbd6fe-0fb7-4985-bb7c-312953798e22"
      },
      "execution_count": 47,
      "outputs": [
        {
          "output_type": "stream",
          "name": "stdout",
          "text": [
            "Avrg MSE loss on Train data:  [[337420.44427295]]\n",
            "Avrg Accuracy on Train data:  8.21486998403447\n"
          ]
        }
      ]
    },
    {
      "cell_type": "code",
      "source": [
        "mse4 = []\n",
        "t33_list = []\n",
        "\n",
        "for i in range (len (w1_list)):\n",
        "    mse3 = []\n",
        "    t3_list = []\n",
        "    t4_list = []\n",
        "    for j in range (50):\n",
        "        z1 = np.dot(w1_list[i],x_test[j].reshape(2,1))+b1_list[i]\n",
        "        a1 = sigmoid(z1)\n",
        "        z2 = np.dot(w2_list[i],a1)+b2_list[i]\n",
        "        a2 = z2 \n",
        "\n",
        "        a_round = np.round(a2,0)\n",
        "        y_train[j] = np.round(y_train[j],0)\n",
        "\n",
        "        MSE = ((y_test[j]- a2)**2)\n",
        "        mse3.append(MSE)\n",
        "\n",
        "    a = sum(mse3)/50\n",
        "    mse4.append(a)\n",
        "    b = (len(t3_list))/50\n",
        "    t33_list.append(b)\n",
        "\n"
      ],
      "metadata": {
        "id": "VqMSSlXCbfEZ"
      },
      "execution_count": 48,
      "outputs": []
    },
    {
      "cell_type": "markdown",
      "source": [
        "**Problem 2.3.b**\n",
        "\n",
        "MSE Loss and Accuracy on Test data"
      ],
      "metadata": {
        "id": "A1phZgGRcOlK"
      }
    },
    {
      "cell_type": "code",
      "source": [
        "print(\"Avrg MSE Loss on Test data: \",sum(mse4)/2*50)\n",
        "print(\"Avrg Accuracy on Test data: \", math.sqrt(sum(mse4)/50))"
      ],
      "metadata": {
        "colab": {
          "base_uri": "https://localhost:8080/"
        },
        "id": "lh__X7NBbhN9",
        "outputId": "1f674892-334c-4e9f-807b-91e2909f84c1"
      },
      "execution_count": 49,
      "outputs": [
        {
          "output_type": "stream",
          "name": "stdout",
          "text": [
            "Avrg MSE Loss on Test data:  [[267044.46159492]]\n",
            "Avrg Accuracy on Test data:  14.616277545118454\n"
          ]
        }
      ]
    },
    {
      "cell_type": "markdown",
      "source": [
        "**Problem 2.4**\n",
        "\n",
        "Plotting the Loss Function\n",
        "\n",
        "Plotting the Accuracy is NOT relevent here as it is a regression problem that we are dealing with, NOT a classification problem.\n",
        "\n",
        "Accuracy is only relevent in classification task."
      ],
      "metadata": {
        "id": "12ZdH4fbfMow"
      }
    },
    {
      "cell_type": "code",
      "source": [
        "iterlist = []\n",
        "for i in range(100):\n",
        "    iterlist.append(i)\n",
        "import matplotlib.pyplot as plt\n",
        "plt.scatter(mse2, iterlist, marker = \"x\", label = \"Train Dataset\")\n",
        "plt.scatter(mse4, iterlist, marker = \"o\", label = \"Test Dataset\")\n",
        "\n",
        "plt.title('MSE Loss graph against iteration')\n",
        "plt.xlabel('Number of Iteration')\n",
        "plt.ylabel('MSE Value')\n",
        "\n",
        "plt.legend()\n",
        "plt.show()"
      ],
      "metadata": {
        "colab": {
          "base_uri": "https://localhost:8080/",
          "height": 295
        },
        "id": "tStnD_BjcfMN",
        "outputId": "65c405b1-6473-4b7e-a712-28327806dcf8"
      },
      "execution_count": 50,
      "outputs": [
        {
          "output_type": "display_data",
          "data": {
            "text/plain": [
              "<Figure size 432x288 with 1 Axes>"
            ],
            "image/png": "[encoded data removed]"
          },
          "metadata": {
            "needs_background": "light"
          }
        }
      ]
    },
    {
      "cell_type": "markdown",
      "source": [
        "**Problem 2.5**\n",
        "\n",
        "Variation of Learning Rate between 0.001 and 1.0\n",
        "\n",
        "N.B: Please note that, the values are so small to distinguish in the plots. "
      ],
      "metadata": {
        "id": "RywM8OHCgZzT"
      }
    },
    {
      "cell_type": "code",
      "source": [
        "learningrates_list = [0.001,0.01,0.1,1.0]\n",
        "\n",
        "mse2 = []\n",
        "mse4 = [[]]\n",
        "w1_list = []\n",
        "w2_list = []\n",
        "b1_list = []\n",
        "b2_list = []\n",
        "t11_list = []\n",
        "rmse_train = []\n",
        "rmse_test = []\n",
        "rmse_train2 = []\n",
        "rmse_test2 = []\n",
        "\n",
        "for k in range(len(learningrates_list)):\n",
        "  learning_rate = learningrates_list[k]\n",
        "  for i in range (100):\n",
        "    mse_list1 = []\n",
        "    t1_list = []\n",
        "    t2_list = []\n",
        "    \n",
        "    for j in range (100):\n",
        "        # Forward Pass\n",
        "        z1 = np.dot(w1,x_train[j].reshape(2,1))+b1\n",
        "        a1 = sigmoid(z1)\n",
        "        z2 = np.dot(w2,a1)+b2\n",
        "        a2 = z2\n",
        "     \n",
        "        dz2 = a2-y_train[j].reshape(1,1)\n",
        "        dw2 = np.dot(dz2,a1.T)\n",
        "        db2 = dz2\n",
        "        dz1 = np.dot(w2.T,a2-y_train[j].reshape(1,1))*sigmoid(z1)*(1-sigmoid(z1))\n",
        "        dw1 = np.dot(dz1,x_train[j].reshape(2,1).T)\n",
        "        db1 = dz1\n",
        "\n",
        "        w1 = w1-learning_rate*dw1\n",
        "        b1 = b1-learning_rate*np.mean(db1)\n",
        "        w2 = w2-learning_rate*dw2\n",
        "        b2 = b2-learning_rate*np.mean(db2)\n",
        "        \n",
        "        \n",
        "        MSE = ((y_train[j] - a2)**2)\n",
        "        mse1.append(MSE)\n",
        "\n",
        "    w1_list.append(w1)\n",
        "    w2_list.append(w2)\n",
        "    b1_list.append(b1)\n",
        "    b2_list.append(b2)\n",
        "\n",
        "    a = sum(mse_list1)/100\n",
        "    mse2.append(a)\n",
        "    b = (len(t1_list))/100\n",
        "    t11_list.append(b)\n",
        "\n",
        "\n",
        "\n",
        "\n",
        "  mse4 = []\n",
        "  t33_list = []\n",
        "\n",
        "  for i in range (len (w1_list)):\n",
        "      t3_list = []\n",
        "      t4_list = []\n",
        "      mse3 = []\n",
        "      for j in range (50):\n",
        "          z1 = np.dot(w1_list[i],x_test[j].reshape(2,1))+b1_list[i]\n",
        "          a1 = sigmoid(z1)\n",
        "          z2 = np.dot(w2_list[i],a1)+b2_list[i]\n",
        "          a2 = z2\n",
        "          a_round = np.round(a2,0)\n",
        "          y_train[j] = np.round(y_train[j],0)\n",
        "\n",
        "          mse = ((y_test[j]- a2)**2)\n",
        "          mse3.append(mse)\n",
        "\n",
        "\n",
        "      a = sum(mse3)/50\n",
        "      mse4.append(a)\n",
        "      b = (len(t3_list))/50\n",
        "      t33_list.append(b)"
      ],
      "metadata": {
        "colab": {
          "base_uri": "https://localhost:8080/"
        },
        "id": "xCTKZ2ozio1c",
        "outputId": "038e6663-b12e-464b-e496-69a0a2237e6e"
      },
      "execution_count": 55,
      "outputs": [
        {
          "output_type": "stream",
          "name": "stderr",
          "text": [
            "/usr/local/lib/python3.7/dist-packages/ipykernel_launcher.py:2: RuntimeWarning: overflow encountered in exp\n",
            "  \n"
          ]
        }
      ]
    },
    {
      "cell_type": "code",
      "source": [
        "epoch = 100\n",
        "num_epoch = np.arange(epoch)\n",
        "\n",
        "plt.plot(num_epoch, np.array(mse4[0:100]).reshape(epoch,1), color = 'black')\n",
        "plt.plot(num_epoch, np.array(mse4[100:200]).reshape(epoch,1), color = 'blue')\n",
        "plt.plot(num_epoch, np.array(mse4[200:300]).reshape(epoch,1), color = 'green')\n",
        "plt.plot(num_epoch, np.array(mse4[300:400]).reshape(epoch,1), color = 'red')\n",
        "\n",
        "plt.legend((\"η = 0.001\", \"η = 0.01 learning\", \"η = 0.1 learning\", \"η = 1.0 learning\"))\n",
        "plt.ylabel('MSE')\n",
        "plt.xlabel('Number of Iteration')\n",
        "plt.title('How MSE changes for different learning rate ')\n",
        "plt.show()"
      ],
      "metadata": {
        "colab": {
          "base_uri": "https://localhost:8080/",
          "height": 295
        },
        "id": "8ITPoNmnkZH8",
        "outputId": "200377c8-7344-48c4-8e34-4908abbbbb24"
      },
      "execution_count": 60,
      "outputs": [
        {
          "output_type": "display_data",
          "data": {
            "text/plain": [
              "<Figure size 432x288 with 1 Axes>"
            ],
            "image/png": "[encoded data removed]"
          },
          "metadata": {
            "needs_background": "light"
          }
        }
      ]
    },
    {
      "cell_type": "markdown",
      "source": [
        "Problem 2.6.a\n",
        "\n",
        "It does update the values as it is directly related to the network structure.\n"
      ],
      "metadata": {
        "id": "qQEbdZ6g1bfO"
      }
    },
    {
      "cell_type": "code",
      "source": [
        "mse1 = []\n",
        "mse2 = []\n",
        "mse3 = []\n",
        "mse4 = []\n",
        "w1_list = []\n",
        "w2_list = []\n",
        "b1_list = []\n",
        "b2_list = []\n",
        "t11_list = []\n",
        "\n",
        "\n",
        "for k in range(1,11):\n",
        "  w1=np.random.rand(k,2)\n",
        "  b1=np.random.rand(k,1)\n",
        "  w2=np.random.rand(1,k)\n",
        "  b2=np.random.rand(1,1)\n",
        "  learning_rate = 0.1\n",
        "  \n",
        "  for i in range (100):\n",
        "      \n",
        "      for j in range (100):\n",
        "          # Forward Pass\n",
        "          z1 = np.dot(w1,x_train[j].reshape(2,1))+b1\n",
        "          a1 = sigmoid(z1)\n",
        "          z2 = np.dot(w2,a1)+b2\n",
        "          a2 = z2\n",
        " \n",
        "          dz2 = a2-y_train[j].reshape(1,1)\n",
        "          dw2 = np.dot(dz2,a1.T)\n",
        "          db2 = dz2\n",
        "          dz1 = np.dot(w2.T,a2-y_train[j].reshape(1,1))*sigmoid(z1)*(1-sigmoid(z1))\n",
        "          dw1 = np.dot(dz1,x_train[j].reshape(2,1).T)\n",
        "          db1 = dz1\n",
        "\n",
        "          w1=w1-learning_rate*dw1\n",
        "          b1=b1-learning_rate*np.mean(db1)\n",
        "          w2=w2-learning_rate*dw2\n",
        "          b2=b2-learning_rate*np.mean(db2)\n",
        "\n",
        "        \n",
        "          mse = ((y_train[j] - a2)**2)\n",
        "          mse_list1.append(mse)\n",
        "\n",
        "      w1_list.append(w1)\n",
        "      w2_list.append(w2)\n",
        "      b1_list.append(b1)\n",
        "      b2_list.append(b2)\n",
        "\n",
        "      a=sum(mse_list1)/100\n",
        "      mse2.append(a)\n",
        "\n",
        "  \n",
        "  for i in range (len (w1_list)):\n",
        "      t3_list =[]\n",
        "      t4_list = []\n",
        "      for j in range (50):\n",
        "          z1 = np.dot(w1_list[i],x_test[j].reshape(2,1))+b1_list[i]\n",
        "          a1 = sigmoid(z1)\n",
        "          z2 = np.dot(w2_list[i],a1)+b2_list[i]\n",
        "          a2 = z2\n",
        "\n",
        "          mse = ((y_test[j]- a2)**2)\n",
        "          mse3.append(mse)\n",
        "\n",
        "      a = sum(mse3)/50\n",
        "      mse4.append(a)\n",
        "\n",
        "epoch=100\n",
        "num_epoch = np.arange(epoch)\n",
        "plt.plot(num_epoch, np.array(mse4[0:100]).reshape(epoch,1), color = 'violet')\n",
        "plt.plot(num_epoch, np.array(mse4[100:200]).reshape(epoch,1), color = 'indigo')\n",
        "plt.plot(num_epoch, np.array(mse4[200:300]).reshape(epoch,1), color = 'blue')\n",
        "plt.plot(num_epoch, np.array(mse4[300:400]).reshape(epoch,1), color = 'green')\n",
        "plt.plot(num_epoch, np.array(mse4[400:500]).reshape(epoch,1), color = 'yellow')\n",
        "plt.plot(num_epoch, np.array(mse4[500:600]).reshape(epoch,1), color = 'orange')\n",
        "plt.plot(num_epoch, np.array(mse4[600:700]).reshape(epoch,1), color = 'red')\n",
        "plt.plot(num_epoch, np.array(mse4[700:800]).reshape(epoch,1), color = 'black')\n",
        "plt.plot(num_epoch, np.array(mse4[800:900]).reshape(epoch,1), color = 'pink')\n",
        "plt.plot(num_epoch, np.array(mse4[900:1000]).reshape(epoch,1), color = 'magenta')\n",
        "\n",
        "plt.legend((\"1 neuron\", \"2 neurons\", \"3 neurons\",\"4 neurons\", \"5 neurons\", \"6 neuron\", \"7 neurons\", \"8 neurons\",\"9 neurons\", \"10 neurons\"))\n",
        "plt.ylabel('MSE')\n",
        "plt.xlabel('Number of Iteration')\n",
        "plt.title('MSE Changes for different number of neurons')\n",
        "plt.show()"
      ],
      "metadata": {
        "colab": {
          "base_uri": "https://localhost:8080/",
          "height": 332
        },
        "id": "L03tSgG5lfCA",
        "outputId": "ca0ac979-df82-4275-98b8-e42d076a66d6"
      },
      "execution_count": 62,
      "outputs": [
        {
          "output_type": "stream",
          "name": "stderr",
          "text": [
            "/usr/local/lib/python3.7/dist-packages/ipykernel_launcher.py:2: RuntimeWarning: overflow encountered in exp\n",
            "  \n"
          ]
        },
        {
          "output_type": "display_data",
          "data": {
            "text/plain": [
              "<Figure size 432x288 with 1 Axes>"
            ],
            "image/png": "[encoded data removed]"
          },
          "metadata": {
            "needs_background": "light"
          }
        }
      ]
    },
    {
      "cell_type": "markdown",
      "source": [
        "**Problem 2.6.b**\n",
        "\n",
        "As it is a regression problem with continuous values in y_train.csv and y_test.csv, there should NOT be any labels and any predicted labels. The predictions are all continueous values.\n",
        "\n",
        "Hence, there are no labels."
      ],
      "metadata": {
        "id": "TfMJg8Dh1pYC"
      }
    },
    {
      "cell_type": "markdown",
      "source": [
        "**Problem 2.7.a**\n",
        "\n",
        "We need to change the update rule based on the activation function. Because the update derivatives are associated withthe nature of the activation function. "
      ],
      "metadata": {
        "id": "HoNBmQd1ukoS"
      }
    },
    {
      "cell_type": "code",
      "source": [
        "def ReLU(Z):\n",
        "    return np.maximum(Z, 0)"
      ],
      "metadata": {
        "id": "hn1AAHKDub26"
      },
      "execution_count": 63,
      "outputs": []
    },
    {
      "cell_type": "code",
      "source": [
        "def tanh(x):\n",
        "\treturn np.tanh(x)"
      ],
      "metadata": {
        "id": "_xvBgm4jvjay"
      },
      "execution_count": 68,
      "outputs": []
    },
    {
      "cell_type": "code",
      "source": [
        "learning_rate = 0.001"
      ],
      "metadata": {
        "id": "-lL-axXZvzTT"
      },
      "execution_count": 74,
      "outputs": []
    },
    {
      "cell_type": "code",
      "source": [
        "mse2 = []\n",
        "w1_list = []\n",
        "w2_list = []\n",
        "b1_list = []\n",
        "b2_list = []\n",
        "\n",
        "\n",
        "for i in range (100):\n",
        "    mse1 = []\n",
        "    t1_list = []\n",
        "    t2_list = []\n",
        "    a_list = []\n",
        "    \n",
        "    for j in range (100):\n",
        "\n",
        "        z1 = np.dot(w1,x_train[j].reshape(2,1))+b1\n",
        "        a1 = tanh(z1)\n",
        "        z2 = np.dot(w2,a1)+b2\n",
        "        a2 = z2\n",
        "       \n",
        "        dz2 = a2.reshape(1,1)-y_train[j]\n",
        "        dw2 = (2)*np.dot(dz2,a1.T)\n",
        "        db2 = (2)*dz2\n",
        "        dz1 = np.dot(w2.T,a2-y_train[j].reshape(1,1))*(1-tanh(z1)**2)\n",
        "        dw1 = 2*np.dot(dz1,x_train[j].reshape(2,1).T)\n",
        "        db1 = 2*dz1\n",
        "\n",
        "        w1 = w1-learning_rate*dw1\n",
        "        b1 = b1-learning_rate*db1\n",
        "        w2 = w2-learning_rate*dw2\n",
        "        b2 = b2-learning_rate*db2\n",
        "           \n",
        "        MSE = ((y_train[j] - a2)**2)\n",
        "        mse1.append(MSE)\n",
        "\n",
        "    w1_list.append(w1)\n",
        "    w2_list.append(w2)\n",
        "    b1_list.append(b1)\n",
        "    b2_list.append(b2)\n",
        "    a_list.append(a2)\n",
        "    a=sum(mse_list1)/100\n",
        "    mse2.append(a)\n",
        "\n",
        "\n",
        "print(\"Average MSE on Train data: \", sum(mse2)/100)\n",
        "\n",
        "mse4 = []\n",
        "t33_list = []\n",
        "\n",
        "for i in range (len (w1_list)):\n",
        "    t3_list = []\n",
        "    t4_list = []\n",
        "    mse_list3 = []\n",
        "    for j in range (50):\n",
        "        z1 = np.dot(w1_list[i],x_test[j].reshape(2,1))+b1_list[i]\n",
        "        a1 = tanh(z1)\n",
        "        z2 = np.dot(w2_list[i],a1)+b2_list[i]\n",
        "        a2 = z2\n",
        "        y_train[j] = np.round(y_train[j],0)\n",
        "\n",
        "        MSE = ((y_test[j]- a2)**2)\n",
        "        mse_list3.append(MSE)\n",
        "\n",
        "    a = sum(mse3)/50\n",
        "    mse4.append(a)\n",
        "\n",
        "print(\"Average MSE on Test data: \",sum(mse4)/100)"
      ],
      "metadata": {
        "colab": {
          "base_uri": "https://localhost:8080/"
        },
        "id": "ZKJNCLU0v9WS",
        "outputId": "3e363916-b979-4915-ed35-7170e81fbb18"
      },
      "execution_count": 75,
      "outputs": [
        {
          "output_type": "stream",
          "name": "stdout",
          "text": [
            "Average MSE on Train data:  [[1288726.89021345]]\n",
            "Average MSE on Test data:  [[10495376.85024131]]\n"
          ]
        }
      ]
    },
    {
      "cell_type": "code",
      "source": [
        "Line1=[k for i in mse2 for j in i for k in j]\n",
        "plt.plot(np.arange(100),Line1)\n",
        "\n",
        "Line2=[k for i in mse4 for j in i for k in j]\n",
        "plt.plot(np.arange(100),Line2)\n",
        "\n",
        "plt.xlabel(\"Number of Iterations\")\n",
        "plt.ylabel(\"MSE\")\n",
        "plt.legend(('Train Dataset','Test Dataset'))\n",
        "plt.title('Loss MSE in case of Hyperbolic Tangent function')\n",
        "plt.show()"
      ],
      "metadata": {
        "colab": {
          "base_uri": "https://localhost:8080/",
          "height": 295
        },
        "id": "KpQE-ePg0Fy1",
        "outputId": "393fff49-bdf2-42bc-9915-1d2444f2e3d6"
      },
      "execution_count": 79,
      "outputs": [
        {
          "output_type": "display_data",
          "data": {
            "text/plain": [
              "<Figure size 432x288 with 1 Axes>"
            ],
            "image/png": "[encoded data removed]"
          },
          "metadata": {
            "needs_background": "light"
          }
        }
      ]
    },
    {
      "cell_type": "code",
      "source": [
        "mse2 = []\n",
        "w1_list = []\n",
        "w2_list = []\n",
        "b1_list = []\n",
        "b2_list = []\n",
        "\n",
        "\n",
        "for i in range (100):\n",
        "    mse1 = []\n",
        "    t1_list = []\n",
        "    t2_list = []\n",
        "    a_list = []\n",
        "    \n",
        "    for j in range (100):\n",
        "\n",
        "        z1 = np.dot(w1,x_train[j].reshape(2,1))+b1\n",
        "        a1 = ReLU(z1)\n",
        "        z2 = np.dot(w2,a1)+b2\n",
        "        a2 = z2\n",
        "       \n",
        "        dz2 = a2.reshape(1,1)-y_train[j]\n",
        "        dw2 = 2*np.dot(dz2,a1.T)\n",
        "        db2 = 2*dz2\n",
        "        dz1 = np.dot(w2.T,a2-y_train[j].reshape(1,1))*(1-ReLU(z1)**2)\n",
        "        dw1 = 2*np.dot(dz1,x_train[j].reshape(2,1).T)\n",
        "        db1 = 2*dz1\n",
        "\n",
        "        w1 = w1-learning_rate*dw1\n",
        "        b1 = b1-learning_rate*db1\n",
        "        w2 = w2-learning_rate*dw2\n",
        "        b2 = b2-learning_rate*db2\n",
        "           \n",
        "        MSE = ((y_train[j] - a2)**2)\n",
        "        mse1.append(MSE)\n",
        "\n",
        "    w1_list.append(w1)\n",
        "    w2_list.append(w2)\n",
        "    b1_list.append(b1)\n",
        "    b2_list.append(b2)\n",
        "    a_list.append(a2)\n",
        "    a=sum(mse_list1)/100\n",
        "    mse2.append(a)\n",
        "\n",
        "\n",
        "print(\"Average MSE on Train data: \", sum(mse2)/100)\n",
        "\n",
        "mse4 = []\n",
        "t33_list = []\n",
        "\n",
        "for i in range (len (w1_list)):\n",
        "    t3_list = []\n",
        "    t4_list = []\n",
        "    mse_list3 = []\n",
        "    for j in range (50):\n",
        "        z1 = np.dot(w1_list[i],x_test[j].reshape(2,1))+b1_list[i]\n",
        "        a1 = ReLU(z1)\n",
        "        z2 = np.dot(w2_list[i],a1)+b2_list[i]\n",
        "        a2 = z2\n",
        "        y_train[j] = np.round(y_train[j],0)\n",
        "\n",
        "        MSE = ((y_test[j]- a2)**2)\n",
        "        mse_list3.append(MSE)\n",
        "\n",
        "    a = sum(mse3)/50\n",
        "    mse4.append(a)\n",
        "\n",
        "print(\"Average MSE on Test data: \",sum(mse4)/100)"
      ],
      "metadata": {
        "colab": {
          "base_uri": "https://localhost:8080/"
        },
        "id": "RJUBUVNjzfdh",
        "outputId": "a9548b02-130d-4a96-c7c4-4d0a9ebfc291"
      },
      "execution_count": 77,
      "outputs": [
        {
          "output_type": "stream",
          "name": "stderr",
          "text": [
            "/usr/local/lib/python3.7/dist-packages/ipykernel_launcher.py:24: RuntimeWarning: overflow encountered in square\n",
            "/usr/local/lib/python3.7/dist-packages/ipykernel_launcher.py:16: RuntimeWarning: invalid value encountered in add\n",
            "  app.launch_new_instance()\n"
          ]
        },
        {
          "output_type": "stream",
          "name": "stdout",
          "text": [
            "Average MSE on Train data:  [[1288726.89021345]]\n",
            "Average MSE on Test data:  [[10495376.85024131]]\n"
          ]
        }
      ]
    },
    {
      "cell_type": "code",
      "source": [
        "Line1 = [k for i in mse2 for j in i for k in j]\n",
        "plt.plot(np.arange(100),Line1)\n",
        "\n",
        "Line2 = [k for i in mse4 for j in i for k in j]\n",
        "plt.plot(np.arange(100),Line2)\n",
        "\n",
        "plt.xlabel(\"Number of Iterations\")\n",
        "plt.ylabel(\"MSE\")\n",
        "plt.legend(('Train Dataset','Test Dataset'))\n",
        "plt.title('Loss MSE in case of ReLU function')\n",
        "plt.show()"
      ],
      "metadata": {
        "colab": {
          "base_uri": "https://localhost:8080/",
          "height": 295
        },
        "id": "tOLx1jEfx3VD",
        "outputId": "38498e03-afb4-4b93-b6e7-4aedd725a287"
      },
      "execution_count": 78,
      "outputs": [
        {
          "output_type": "display_data",
          "data": {
            "text/plain": [
              "<Figure size 432x288 with 1 Axes>"
            ],
            "image/png": "[encoded data removed]"
          },
          "metadata": {
            "needs_background": "light"
          }
        }
      ]
    },
    {
      "cell_type": "markdown",
      "source": [
        "**Problem 2.7.b**\n",
        "\n",
        "We need to change the update rules and the derivatives based on the activation function."
      ],
      "metadata": {
        "id": "8vH-FIlWypIr"
      }
    },
    {
      "cell_type": "markdown",
      "source": [
        "**Problem 2.7.c**\n",
        "\n",
        "As the linear function is NOT derivable, we won't get any result for Linear Function.\n",
        "\n",
        "Final Loss is determined in the above code segments. \n",
        "\n",
        "But, again, as it is a regression problem with continuous values in y_train.csv and y_test.csv, there should NOT be any labels and any predicted labels. The predictions are all continueous values. \n",
        "\n",
        "Hence there are no labels.\n"
      ],
      "metadata": {
        "id": "gKNhU8qIzH6p"
      }
    }
  ]
}